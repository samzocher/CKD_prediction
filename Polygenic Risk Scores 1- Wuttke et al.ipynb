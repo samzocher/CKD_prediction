{
 "cells": [
  {
   "cell_type": "markdown",
   "metadata": {},
   "source": [
    "# Building a PRS score for each individual in the dataset \n",
    "## This PRS score will be based on a previously conducted chronic kidney disease GWAS\n",
    "### Citation: \n",
    "Wuttke, M., Li, Y., Li, M., Sieber, K. B., Feitosa, M. F., Gorski, M., Tin, A., Wang, L., Chu, A. Y., Hoppmann, A., Kirsten, H., Giri, A., Chai, J. F., Sveinbjornsson, G., Tayo, B. O., Nutile, T., Fuchsberger, C., Marten, J., Cocca, M., Ghasemi, S., … Pattaro, C. (2019). A catalog of genetic loci associated with kidney function from analyses of a million individuals. Nature genetics, 51(6), 957–972. https://doi.org/10.1038/s41588-019-0407-x\n",
    "### Relevant SNPs have already been processed down to 1,443. "
   ]
  },
  {
   "cell_type": "code",
   "execution_count": null,
   "metadata": {},
   "outputs": [],
   "source": [
    "import os\n",
    "import pandas as pd\n",
    "bucket = os.getenv('WORKSPACE_BUCKET')\n",
    "bucket\n",
    "import hail as hl\n",
    "import subprocess\n",
    "import numpy as np"
   ]
  },
  {
   "cell_type": "markdown",
   "metadata": {},
   "source": [
    "#### Import the relevant SNPs with their p-value and beta estimate"
   ]
  },
  {
   "cell_type": "code",
   "execution_count": null,
   "metadata": {},
   "outputs": [],
   "source": [
    "snps_file_path = 'gwas_SNPs.csv'\n",
    "\n",
    "my_bucket = os.getenv('WORKSPACE_BUCKET')\n",
    "\n",
    "# copy csv file from the bucket to the current working space\n",
    "os.system(f\"gsutil cp '{my_bucket}/data/{snps_file_path}' .\")\n",
    "\n",
    "print(f'[INFO] {snps_file_path} is successfully downloaded into your working space')\n",
    "# save dataframe in a csv file in the same workspace as the notebook\n",
    "snp_df = pd.read_csv(snps_file_path)\n",
    "snp_df.head()\n"
   ]
  },
  {
   "cell_type": "code",
   "execution_count": null,
   "metadata": {
    "scrolled": true
   },
   "outputs": [],
   "source": [
    "hl.default_reference(new_default_reference = \"GRCh38\")"
   ]
  },
  {
   "cell_type": "code",
   "execution_count": null,
   "metadata": {},
   "outputs": [],
   "source": [
    "phenotype_filename = f'{bucket}/data/genomics_ckd_phenotypes.tsv'\n",
    "phenotype_filename"
   ]
  },
  {
   "cell_type": "markdown",
   "metadata": {},
   "source": [
    "I am loading the multi-allelic variants split hail matrix table. The split table refers to each allele variant having it's own row. This will allow me to transform the hail matrix table into spark format and then perform a genome-wide association study (GWAS) on my population. After this is complete, I will assemble a polygenic risk score from the results.\n",
    "\"WGS_ACAF_THRESHOLD_SPLIT_HAIL_PATH\""
   ]
  },
  {
   "cell_type": "code",
   "execution_count": null,
   "metadata": {},
   "outputs": [],
   "source": [
    "mt_wgs_clinvar_path = os.getenv(\"WGS_ACAF_THRESHOLD_SPLIT_HAIL_PATH\")"
   ]
  },
  {
   "cell_type": "code",
   "execution_count": null,
   "metadata": {},
   "outputs": [],
   "source": [
    "mt = hl.read_matrix_table(mt_wgs_clinvar_path)"
   ]
  },
  {
   "cell_type": "code",
   "execution_count": null,
   "metadata": {},
   "outputs": [],
   "source": [
    "mt.count()"
   ]
  },
  {
   "cell_type": "code",
   "execution_count": null,
   "metadata": {},
   "outputs": [],
   "source": [
    "mt.describe()"
   ]
  },
  {
   "cell_type": "code",
   "execution_count": null,
   "metadata": {},
   "outputs": [],
   "source": [
    "phenotypes_ht = (hl.import_table(phenotype_filename,\n",
    "                              types={'person_id':hl.tstr},\n",
    "                              impute=False,\n",
    "                              key='person_id')\n",
    "             )"
   ]
  },
  {
   "cell_type": "markdown",
   "metadata": {},
   "source": [
    "The hail matrix table typically documents the subject id as 's'. Therefore, I will convert my person_id to s. "
   ]
  },
  {
   "cell_type": "code",
   "execution_count": null,
   "metadata": {},
   "outputs": [],
   "source": [
    "phenotypes_ht = phenotypes_ht.rename({'person_id': 's'})"
   ]
  },
  {
   "cell_type": "markdown",
   "metadata": {},
   "source": [
    "Now I will join my relevant subject ids with my hail matrix table information."
   ]
  },
  {
   "cell_type": "markdown",
   "metadata": {},
   "source": [
    "### Preprocessing the genomic data"
   ]
  },
  {
   "cell_type": "markdown",
   "metadata": {},
   "source": [
    "Before beginning, we need to anotate the genomic data with the phenotypic data. "
   ]
  },
  {
   "cell_type": "code",
   "execution_count": null,
   "metadata": {},
   "outputs": [],
   "source": [
    "mt = mt.annotate_cols(pheno = phenotypes_ht[mt.s])"
   ]
  },
  {
   "cell_type": "code",
   "execution_count": null,
   "metadata": {},
   "outputs": [],
   "source": [
    "# Filter individuals to keep only those that are in phenotypes_ht\n",
    "mt_filtered = mt.filter_cols(hl.is_defined(phenotypes_ht[mt.s]))"
   ]
  },
  {
   "cell_type": "code",
   "execution_count": null,
   "metadata": {},
   "outputs": [],
   "source": [
    "mt_filtered.count()\n"
   ]
  },
  {
   "cell_type": "code",
   "execution_count": null,
   "metadata": {},
   "outputs": [],
   "source": [
    "mt_filtered.describe()"
   ]
  },
  {
   "cell_type": "markdown",
   "metadata": {},
   "source": [
    "Converting the SNPS dataframe to a hail matrix table"
   ]
  },
  {
   "cell_type": "code",
   "execution_count": null,
   "metadata": {},
   "outputs": [],
   "source": [
    "gwas_snp_ht = hl.Table.from_pandas(snp_df)"
   ]
  },
  {
   "cell_type": "markdown",
   "metadata": {},
   "source": [
    "Make sure the chromosome position is in the same format as the patient info hail data"
   ]
  },
  {
   "cell_type": "code",
   "execution_count": null,
   "metadata": {},
   "outputs": [],
   "source": [
    "gwas_snp_ht = gwas_snp_ht.annotate(\n",
    "    locus=hl.locus('chr' + hl.str(gwas_snp_ht.CHR), gwas_snp_ht.POS)\n",
    ")"
   ]
  },
  {
   "cell_type": "code",
   "execution_count": null,
   "metadata": {},
   "outputs": [],
   "source": [
    "gwas_snp_ht = gwas_snp_ht.key_by('locus')\n"
   ]
  },
  {
   "cell_type": "code",
   "execution_count": null,
   "metadata": {},
   "outputs": [],
   "source": [
    "gwas_snp_ht.describe()"
   ]
  },
  {
   "cell_type": "code",
   "execution_count": null,
   "metadata": {},
   "outputs": [],
   "source": [
    "intervals_to_exame = ['chr1', 'chr2', 'chr4', 'chr5', 'chr6', 'chr7', 'chr8', 'chr9', 'chr10', 'chr11', 'chr15', 'chr16', 'chr17', 'chr18', 'chr21']\n"
   ]
  },
  {
   "cell_type": "code",
   "execution_count": null,
   "metadata": {},
   "outputs": [],
   "source": [
    " mt_filtered_2 = hl.filter_intervals(\n",
    "    mt_filtered,\n",
    "    [hl.parse_locus_interval(x) for x in intervals_to_exame],\n",
    "     keep=True)"
   ]
  },
  {
   "cell_type": "code",
   "execution_count": null,
   "metadata": {},
   "outputs": [],
   "source": [
    "mt_filtered_2.show(5)"
   ]
  },
  {
   "cell_type": "code",
   "execution_count": null,
   "metadata": {},
   "outputs": [],
   "source": [
    "mt_filtered_2.describe()"
   ]
  },
  {
   "cell_type": "markdown",
   "metadata": {},
   "source": [
    "Filtering by interval is more efficient than filtering by row, so making my dataset smaller before filtering by row."
   ]
  },
  {
   "cell_type": "code",
   "execution_count": null,
   "metadata": {
    "scrolled": true
   },
   "outputs": [],
   "source": [
    "positions_to_exame = ['chr1:243141745-chr1:243598234', 'chr2:73647508-chr2:217681833', 'chr4:77183300-chr4:81202048', 'chr5:39355591-chr5:176824137', 'chr6:21188017-chr6:160668389', 'chr7:1270699-chr7:156252939', 'chr8:23735559-chr8:23786784', 'chr9:71369556-chr9:71513268', 'chr10:863482-chr10:1171823', 'chr11:30749090-chr11:65555458', 'chr15:39213851-chr15:76151081', 'chr16:20338450-chr16:20430769', 'chr17:19308768-chr17:34959861', 'chr18:24386535-chr18:77160235', 'chr21:16576783-chr21:16578800']\n"
   ]
  },
  {
   "cell_type": "code",
   "execution_count": null,
   "metadata": {},
   "outputs": [],
   "source": [
    " mt_filtered_3 = hl.filter_intervals(\n",
    "    mt_filtered_2,\n",
    "    [hl.parse_locus_interval(x) for x in positions_to_exame],\n",
    "     keep=True)"
   ]
  },
  {
   "cell_type": "code",
   "execution_count": null,
   "metadata": {},
   "outputs": [],
   "source": [
    "mt_filtered_3.show(4)"
   ]
  },
  {
   "cell_type": "markdown",
   "metadata": {},
   "source": [
    "Filtering by the exact SNPs now"
   ]
  },
  {
   "cell_type": "code",
   "execution_count": null,
   "metadata": {},
   "outputs": [],
   "source": [
    "interval_ht = gwas_snp_ht.annotate(\n",
    "    interval=hl.parse_locus_interval(\n",
    "        \"chr\" + hl.str(gwas_snp_ht.CHR) + \":\" + \n",
    "        hl.str(hl.max(1, gwas_snp_ht.POS - 5)) + \"-\" + \n",
    "        hl.str(gwas_snp_ht.POS + 5),\n",
    "        reference_genome=\"GRCh38\"\n",
    "    )\n",
    ").select(\"interval\")"
   ]
  },
  {
   "cell_type": "code",
   "execution_count": null,
   "metadata": {},
   "outputs": [],
   "source": [
    "mt_filtered_4 = hl.filter_intervals(mt_filtered_3, interval_ht.interval.collect(), keep=True)\n"
   ]
  },
  {
   "cell_type": "code",
   "execution_count": null,
   "metadata": {},
   "outputs": [],
   "source": [
    "mt_filtered_4.show(4)"
   ]
  },
  {
   "cell_type": "code",
   "execution_count": null,
   "metadata": {},
   "outputs": [],
   "source": [
    "final_snps = mt_filtered_4.filter_rows(hl.is_defined(gwas_snp_ht[mt_filtered_4.locus]))\n"
   ]
  },
  {
   "cell_type": "code",
   "execution_count": null,
   "metadata": {},
   "outputs": [],
   "source": [
    "final_snps.show(5)"
   ]
  },
  {
   "cell_type": "code",
   "execution_count": null,
   "metadata": {},
   "outputs": [],
   "source": [
    "final_snps.count()"
   ]
  },
  {
   "cell_type": "markdown",
   "metadata": {},
   "source": [
    "Annotate the filtered data frame with the effect sizes (beta) on CKD for each SNP"
   ]
  },
  {
   "cell_type": "code",
   "execution_count": null,
   "metadata": {},
   "outputs": [],
   "source": [
    "final_snps = final_snps.annotate_rows(beta=gwas_snp_ht[final_snps.locus].BETA)\n",
    "\n"
   ]
  },
  {
   "cell_type": "markdown",
   "metadata": {},
   "source": [
    "Calculate the PRS score by multiplying the # of alt alles the participant has by it's effect size on CKD"
   ]
  },
  {
   "cell_type": "code",
   "execution_count": null,
   "metadata": {},
   "outputs": [],
   "source": [
    "final_snps = final_snps.annotate_entries(dosage=final_snps.GT.n_alt_alleles())\n"
   ]
  },
  {
   "cell_type": "code",
   "execution_count": null,
   "metadata": {},
   "outputs": [],
   "source": [
    "final_snps.describe()"
   ]
  },
  {
   "cell_type": "code",
   "execution_count": null,
   "metadata": {},
   "outputs": [],
   "source": [
    "final_PRS = final_snps.annotate_cols(\n",
    "    PRS=hl.agg.sum(final_snps.dosage * final_snps.beta)\n",
    ")"
   ]
  },
  {
   "cell_type": "code",
   "execution_count": null,
   "metadata": {},
   "outputs": [],
   "source": [
    "prs_table = final_PRS.cols().select('PRS')\n",
    "prs_df = prs_table.to_pandas()\n"
   ]
  },
  {
   "cell_type": "code",
   "execution_count": null,
   "metadata": {},
   "outputs": [],
   "source": [
    "prs_df.head(10)"
   ]
  },
  {
   "cell_type": "code",
   "execution_count": null,
   "metadata": {},
   "outputs": [],
   "source": []
  }
 ],
 "metadata": {
  "kernelspec": {
   "display_name": "Python 3",
   "language": "python",
   "name": "python3"
  },
  "language_info": {
   "codemirror_mode": {
    "name": "ipython",
    "version": 3
   },
   "file_extension": ".py",
   "mimetype": "text/x-python",
   "name": "python",
   "nbconvert_exporter": "python",
   "pygments_lexer": "ipython3",
   "version": "3.10.12"
  },
  "toc": {
   "base_numbering": 1,
   "nav_menu": {},
   "number_sections": true,
   "sideBar": true,
   "skip_h1_title": false,
   "title_cell": "Table of Contents",
   "title_sidebar": "Contents",
   "toc_cell": false,
   "toc_position": {},
   "toc_section_display": true,
   "toc_window_display": false
  }
 },
 "nbformat": 4,
 "nbformat_minor": 2
}
