{
 "cells": [
  {
   "cell_type": "markdown",
   "metadata": {},
   "source": [
    "# Data Load, Cleaning\n",
    "\n",
    "## Beginning by importing demographic features and existance of CKD\n",
    "\n",
    "The following SQL queries filter by my inclusion and exclusion criteria \n",
    "\n",
    "#### Inclusion Critera\n",
    "- Has recorded short read WGS data\n",
    "- Has recorded EHR data\n",
    "- Age 18-100\n",
    "- Has a recorded BMI measurement\n",
    "- Has a recorded systolic and diastolic blood pressure measurement\n",
    "- Has a recorded lab value for BUN, blood glucose, sodium, and potassium\n",
    "- Has answered the following surveys at least once: The Basics, Lifestyle, Overall Health, Healthcare Access and Utilization, Social Determinents of Health, Personal and Family Health History\n",
    "\n",
    "#### Exclusion Criteria\n",
    "- Has a cancer diagnosis "
   ]
  },
  {
   "cell_type": "code",
   "execution_count": null,
   "metadata": {
    "code_folding": [
     4,
     194,
     205,
     370
    ]
   },
   "outputs": [],
   "source": [
    "import pandas as pd\n",
    "import os\n",
    "\n",
    "# This query represents dataset \"ML Features- CKD\" for domain \"condition\" and was generated for All of Us Controlled Tier Dataset v8\n",
    "dataset_94324895_condition_sql = \"\"\"\n",
    "    SELECT\n",
    "        c_occurrence.person_id,\n",
    "        c_standard_concept.concept_name as standard_concept_name,\n",
    "        c_occurrence.condition_start_datetime,\n",
    "        c_occurrence.condition_end_datetime,\n",
    "        c_occurrence.condition_type_concept_id,\n",
    "        c_occurrence.condition_source_value,\n",
    "        c_source_concept.concept_name as source_concept_name,\n",
    "        c_source_concept.vocabulary_id as source_vocabulary \n",
    "    FROM\n",
    "        ( SELECT\n",
    "            * \n",
    "        FROM\n",
    "            `\"\"\" + os.environ[\"WORKSPACE_CDR\"] + \"\"\".condition_occurrence` c_occurrence \n",
    "        WHERE\n",
    "            (\n",
    "                condition_source_concept_id IN (SELECT\n",
    "                    DISTINCT c.concept_id \n",
    "                FROM\n",
    "                    `\"\"\" + os.environ[\"WORKSPACE_CDR\"] + \"\"\".cb_criteria` c \n",
    "                JOIN\n",
    "                    (SELECT\n",
    "                        CAST(cr.id as string) AS id       \n",
    "                    FROM\n",
    "                        `\"\"\" + os.environ[\"WORKSPACE_CDR\"] + \"\"\".cb_criteria` cr       \n",
    "                    WHERE\n",
    "                        concept_id IN (1571486, 35209274, 35209275, 35209276, 35209277, 35209278, 35209279, 45548653, 725440, 725441, 725442)       \n",
    "                        AND full_text LIKE '%_rank1]%'      ) a \n",
    "                        ON (c.path LIKE CONCAT('%.', a.id, '.%') \n",
    "                        OR c.path LIKE CONCAT('%.', a.id) \n",
    "                        OR c.path LIKE CONCAT(a.id, '.%') \n",
    "                        OR c.path = a.id) \n",
    "                WHERE\n",
    "                    is_standard = 0 \n",
    "                    AND is_selectable = 1)\n",
    "            )  \n",
    "            AND (\n",
    "                c_occurrence.PERSON_ID IN (SELECT\n",
    "                    distinct person_id  \n",
    "                FROM\n",
    "                    `\"\"\" + os.environ[\"WORKSPACE_CDR\"] + \"\"\".cb_search_person` cb_search_person  \n",
    "                WHERE\n",
    "                    cb_search_person.person_id IN (SELECT\n",
    "                        person_id \n",
    "                    FROM\n",
    "                        `\"\"\" + os.environ[\"WORKSPACE_CDR\"] + \"\"\".cb_search_person` p \n",
    "                    WHERE\n",
    "                        DATE_DIFF(CURRENT_DATE, dob, YEAR) - IF(EXTRACT(MONTH FROM dob)*100 + EXTRACT(DAY FROM dob) > EXTRACT(MONTH FROM CURRENT_DATE)*100 + EXTRACT(DAY FROM CURRENT_DATE), 1, 0) BETWEEN 18 AND 124 \n",
    "                        AND NOT EXISTS (      SELECT\n",
    "                            'x'      \n",
    "                        FROM\n",
    "                            `\"\"\" + os.environ[\"WORKSPACE_CDR\"] + \"\"\".death` d      \n",
    "                        WHERE\n",
    "                            d.person_id = p.person_id ) ) \n",
    "                    AND cb_search_person.person_id IN (SELECT\n",
    "                        person_id \n",
    "                    FROM\n",
    "                        `\"\"\" + os.environ[\"WORKSPACE_CDR\"] + \"\"\".cb_search_person` p \n",
    "                    WHERE\n",
    "                        has_ehr_data = 1 ) \n",
    "                    AND cb_search_person.person_id IN (SELECT\n",
    "                        person_id \n",
    "                    FROM\n",
    "                        `\"\"\" + os.environ[\"WORKSPACE_CDR\"] + \"\"\".cb_search_person` p \n",
    "                    WHERE\n",
    "                        has_whole_genome_variant = 1 ) \n",
    "                    AND cb_search_person.person_id IN (SELECT\n",
    "                        person_id \n",
    "                    FROM\n",
    "                        `\"\"\" + os.environ[\"WORKSPACE_CDR\"] + \"\"\".cb_search_person` p \n",
    "                    WHERE\n",
    "                        DATE_DIFF(CURRENT_DATE, dob, YEAR) - IF(EXTRACT(MONTH FROM dob)*100 + EXTRACT(DAY FROM dob) > EXTRACT(MONTH FROM CURRENT_DATE)*100 + EXTRACT(DAY FROM CURRENT_DATE), 1, 0) BETWEEN 18 AND 100 \n",
    "                        AND NOT EXISTS (      SELECT\n",
    "                            'x'      \n",
    "                        FROM\n",
    "                            `\"\"\" + os.environ[\"WORKSPACE_CDR\"] + \"\"\".death` d      \n",
    "                        WHERE\n",
    "                            d.person_id = p.person_id ) ) \n",
    "                    AND cb_search_person.person_id IN (SELECT\n",
    "                        criteria.person_id \n",
    "                    FROM\n",
    "                        (SELECT\n",
    "                            DISTINCT person_id, entry_date, concept_id \n",
    "                        FROM\n",
    "                            `\"\"\" + os.environ[\"WORKSPACE_CDR\"] + \"\"\".cb_search_all_events` \n",
    "                        WHERE\n",
    "                            (concept_id IN (3038553) \n",
    "                            AND is_standard = 1 )) criteria ) \n",
    "                    AND cb_search_person.person_id IN (SELECT\n",
    "                        criteria.person_id \n",
    "                    FROM\n",
    "                        (SELECT\n",
    "                            DISTINCT person_id, entry_date, concept_id \n",
    "                        FROM\n",
    "                            `\"\"\" + os.environ[\"WORKSPACE_CDR\"] + \"\"\".cb_search_all_events` \n",
    "                        WHERE\n",
    "                            (concept_id IN(SELECT\n",
    "                                DISTINCT c.concept_id \n",
    "                            FROM\n",
    "                                `\"\"\" + os.environ[\"WORKSPACE_CDR\"] + \"\"\".cb_criteria` c \n",
    "                            JOIN\n",
    "                                (SELECT\n",
    "                                    CAST(cr.id as string) AS id       \n",
    "                                FROM\n",
    "                                    `\"\"\" + os.environ[\"WORKSPACE_CDR\"] + \"\"\".cb_criteria` cr       \n",
    "                                WHERE\n",
    "                                    concept_id IN (1585952, 1585940, 1585723, 1585375, 1585723, 1585729, 1585386, 1585952, 1585375, 1585952, 1585375, 1585375, 1585892, 1585892, 1585375, 1585940, 1585952, 1585855, 1585729, 1585375, 1740639, 1585940, 1585952, 1585375, 1585375, 1585729, 43528895, 1585723, 1585723, 1585892, 1585940, 1585892, 1585386, 1585386, 40192389, 1585729, 1585892, 1585375, 1585723, 1585952, 1585940, 1586134, 1585940, 1585386, 1585710, 1585729, 1585892, 1585892, 1585940, 1585952, 1585940, 1585940, 1585729, 1585892, 1585952, 1585940, 1585892, 1585723, 1585723, 1585729, 1585729, 1585386, 1585952, 1585375, 1585952, 1585940, 1585952, 1585386, 1585375, 1585375)       \n",
    "                                    AND full_text LIKE '%_rank1]%'      ) a \n",
    "                                    ON (c.path LIKE CONCAT('%.', a.id, '.%') \n",
    "                                    OR c.path LIKE CONCAT('%.', a.id) \n",
    "                                    OR c.path LIKE CONCAT(a.id, '.%') \n",
    "                                    OR c.path = a.id) \n",
    "                            WHERE\n",
    "                                is_standard = 0 \n",
    "                                AND is_selectable = 1) \n",
    "                            AND is_standard = 0 )) criteria ) \n",
    "                    AND cb_search_person.person_id IN (SELECT\n",
    "                        criteria.person_id \n",
    "                    FROM\n",
    "                        (SELECT\n",
    "                            DISTINCT person_id, entry_date, concept_id \n",
    "                        FROM\n",
    "                            `\"\"\" + os.environ[\"WORKSPACE_CDR\"] + \"\"\".cb_search_all_events` \n",
    "                        WHERE\n",
    "                            (concept_id IN (3027018) \n",
    "                            AND is_standard = 1 )) criteria ) \n",
    "                    AND cb_search_person.person_id IN (SELECT\n",
    "                        criteria.person_id \n",
    "                    FROM\n",
    "                        (SELECT\n",
    "                            DISTINCT person_id, entry_date, concept_id \n",
    "                        FROM\n",
    "                            `\"\"\" + os.environ[\"WORKSPACE_CDR\"] + \"\"\".cb_search_all_events` \n",
    "                        WHERE\n",
    "                            (concept_id IN (903118, 903115) \n",
    "                            AND is_standard = 0 )) criteria ) \n",
    "                    AND cb_search_person.person_id IN (SELECT\n",
    "                        criteria.person_id \n",
    "                    FROM\n",
    "                        (SELECT\n",
    "                            DISTINCT person_id, entry_date, concept_id \n",
    "                        FROM\n",
    "                            `\"\"\" + os.environ[\"WORKSPACE_CDR\"] + \"\"\".cb_search_all_events` \n",
    "                        WHERE\n",
    "                            (concept_id IN (3013682) \n",
    "                            AND is_standard = 1 )) criteria ) \n",
    "                    AND cb_search_person.person_id IN (SELECT\n",
    "                        criteria.person_id \n",
    "                    FROM\n",
    "                        (SELECT\n",
    "                            DISTINCT person_id, entry_date, concept_id \n",
    "                        FROM\n",
    "                            `\"\"\" + os.environ[\"WORKSPACE_CDR\"] + \"\"\".cb_search_all_events` \n",
    "                        WHERE\n",
    "                            (concept_id IN (3004501) \n",
    "                            AND is_standard = 1 )) criteria ) \n",
    "                    AND cb_search_person.person_id IN (SELECT\n",
    "                        criteria.person_id \n",
    "                    FROM\n",
    "                        (SELECT\n",
    "                            DISTINCT person_id, entry_date, concept_id \n",
    "                        FROM\n",
    "                            `\"\"\" + os.environ[\"WORKSPACE_CDR\"] + \"\"\".cb_search_all_events` \n",
    "                        WHERE\n",
    "                            (concept_id IN (3019550) \n",
    "                            AND is_standard = 1 )) criteria ) \n",
    "                    AND cb_search_person.person_id IN (SELECT\n",
    "                        criteria.person_id \n",
    "                    FROM\n",
    "                        (SELECT\n",
    "                            DISTINCT person_id, entry_date, concept_id \n",
    "                        FROM\n",
    "                            `\"\"\" + os.environ[\"WORKSPACE_CDR\"] + \"\"\".cb_search_all_events` \n",
    "                        WHERE\n",
    "                            (concept_id IN (3023103) \n",
    "                            AND is_standard = 1 )) criteria ) \n",
    "                    AND cb_search_person.person_id NOT IN (SELECT\n",
    "                        criteria.person_id \n",
    "                    FROM\n",
    "                        (SELECT\n",
    "                            DISTINCT person_id, entry_date, concept_id \n",
    "                        FROM\n",
    "                            `\"\"\" + os.environ[\"WORKSPACE_CDR\"] + \"\"\".cb_search_all_events` \n",
    "                        WHERE\n",
    "                            (concept_id IN(SELECT\n",
    "                                DISTINCT c.concept_id \n",
    "                            FROM\n",
    "                                `\"\"\" + os.environ[\"WORKSPACE_CDR\"] + \"\"\".cb_criteria` c \n",
    "                            JOIN\n",
    "                                (SELECT\n",
    "                                    CAST(cr.id as string) AS id       \n",
    "                                FROM\n",
    "                                    `\"\"\" + os.environ[\"WORKSPACE_CDR\"] + \"\"\".cb_criteria` cr       \n",
    "                                WHERE\n",
    "                                    concept_id IN (443392)       \n",
    "                                    AND full_text LIKE '%_rank1]%'      ) a \n",
    "                                    ON (c.path LIKE CONCAT('%.', a.id, '.%') \n",
    "                                    OR c.path LIKE CONCAT('%.', a.id) \n",
    "                                    OR c.path LIKE CONCAT(a.id, '.%') \n",
    "                                    OR c.path = a.id) \n",
    "                            WHERE\n",
    "                                is_standard = 1 \n",
    "                                AND is_selectable = 1) \n",
    "                            AND is_standard = 1 )) criteria ) \n",
    "                    AND cb_search_person.person_id NOT IN (SELECT\n",
    "                        person_id \n",
    "                    FROM\n",
    "                        `\"\"\" + os.environ[\"WORKSPACE_CDR\"] + \"\"\".person` p \n",
    "                    WHERE\n",
    "                        ethnicity_concept_id IN (903079, 0, 903096, 1586148) ) \n",
    "                    AND cb_search_person.person_id NOT IN (SELECT\n",
    "                        person_id \n",
    "                    FROM\n",
    "                        `\"\"\" + os.environ[\"WORKSPACE_CDR\"] + \"\"\".person` p \n",
    "                    WHERE\n",
    "                        sex_at_birth_concept_id IN (903096, 1177221, 0, 1585849, 46273637) ) \n",
    "                    AND cb_search_person.person_id NOT IN (SELECT\n",
    "                        person_id \n",
    "                    FROM\n",
    "                        `\"\"\" + os.environ[\"WORKSPACE_CDR\"] + \"\"\".person` p \n",
    "                    WHERE\n",
    "                        race_concept_id IN (2100000001, 903096, 45882607, 1177221) ) )\n",
    "            )) c_occurrence \n",
    "    LEFT JOIN\n",
    "        `\"\"\" + os.environ[\"WORKSPACE_CDR\"] + \"\"\".concept` c_standard_concept \n",
    "            ON c_occurrence.condition_concept_id = c_standard_concept.concept_id \n",
    "    LEFT JOIN\n",
    "        `\"\"\" + os.environ[\"WORKSPACE_CDR\"] + \"\"\".concept` c_source_concept \n",
    "            ON c_occurrence.condition_source_concept_id = c_source_concept.concept_id\"\"\"\n",
    "\n",
    "dataset_94324895_condition_df = pd.read_gbq(\n",
    "    dataset_94324895_condition_sql,\n",
    "    dialect=\"standard\",\n",
    "    use_bqstorage_api=(\"BIGQUERY_STORAGE_API_ENABLED\" in os.environ),\n",
    "    progress_bar_type=\"tqdm_notebook\")\n",
    "\n",
    "dataset_94324895_condition_df.head(5)\n",
    "\n",
    "\n",
    "# This query represents dataset \"ML Features- CKD\" for domain \"person\" and was generated for All of Us Controlled Tier Dataset v8\n",
    "dataset_94324895_person_sql = \"\"\"\n",
    "    SELECT\n",
    "        person.person_id,\n",
    "        person.birth_datetime as date_of_birth,\n",
    "        p_race_concept.concept_name as race,\n",
    "        p_ethnicity_concept.concept_name as ethnicity,\n",
    "        p_sex_at_birth_concept.concept_name as sex_at_birth \n",
    "    FROM\n",
    "        `\"\"\" + os.environ[\"WORKSPACE_CDR\"] + \"\"\".person` person \n",
    "    LEFT JOIN\n",
    "        `\"\"\" + os.environ[\"WORKSPACE_CDR\"] + \"\"\".concept` p_race_concept \n",
    "            ON person.race_concept_id = p_race_concept.concept_id \n",
    "    LEFT JOIN\n",
    "        `\"\"\" + os.environ[\"WORKSPACE_CDR\"] + \"\"\".concept` p_ethnicity_concept \n",
    "            ON person.ethnicity_concept_id = p_ethnicity_concept.concept_id \n",
    "    LEFT JOIN\n",
    "        `\"\"\" + os.environ[\"WORKSPACE_CDR\"] + \"\"\".concept` p_sex_at_birth_concept \n",
    "            ON person.sex_at_birth_concept_id = p_sex_at_birth_concept.concept_id  \n",
    "    WHERE\n",
    "        person.PERSON_ID IN (SELECT\n",
    "            distinct person_id  \n",
    "        FROM\n",
    "            `\"\"\" + os.environ[\"WORKSPACE_CDR\"] + \"\"\".cb_search_person` cb_search_person  \n",
    "        WHERE\n",
    "            cb_search_person.person_id IN (SELECT\n",
    "                person_id \n",
    "            FROM\n",
    "                `\"\"\" + os.environ[\"WORKSPACE_CDR\"] + \"\"\".cb_search_person` p \n",
    "            WHERE\n",
    "                DATE_DIFF(CURRENT_DATE, dob, YEAR) - IF(EXTRACT(MONTH FROM dob)*100 + EXTRACT(DAY FROM dob) > EXTRACT(MONTH FROM CURRENT_DATE)*100 + EXTRACT(DAY FROM CURRENT_DATE), 1, 0) BETWEEN 18 AND 124 \n",
    "                AND NOT EXISTS (      SELECT\n",
    "                    'x'      \n",
    "                FROM\n",
    "                    `\"\"\" + os.environ[\"WORKSPACE_CDR\"] + \"\"\".death` d      \n",
    "                WHERE\n",
    "                    d.person_id = p.person_id ) ) \n",
    "            AND cb_search_person.person_id IN (SELECT\n",
    "                person_id \n",
    "            FROM\n",
    "                `\"\"\" + os.environ[\"WORKSPACE_CDR\"] + \"\"\".cb_search_person` p \n",
    "            WHERE\n",
    "                has_ehr_data = 1 ) \n",
    "            AND cb_search_person.person_id IN (SELECT\n",
    "                person_id \n",
    "            FROM\n",
    "                `\"\"\" + os.environ[\"WORKSPACE_CDR\"] + \"\"\".cb_search_person` p \n",
    "            WHERE\n",
    "                has_whole_genome_variant = 1 ) \n",
    "            AND cb_search_person.person_id IN (SELECT\n",
    "                person_id \n",
    "            FROM\n",
    "                `\"\"\" + os.environ[\"WORKSPACE_CDR\"] + \"\"\".cb_search_person` p \n",
    "            WHERE\n",
    "                DATE_DIFF(CURRENT_DATE, dob, YEAR) - IF(EXTRACT(MONTH FROM dob)*100 + EXTRACT(DAY FROM dob) > EXTRACT(MONTH FROM CURRENT_DATE)*100 + EXTRACT(DAY FROM CURRENT_DATE), 1, 0) BETWEEN 18 AND 100 \n",
    "                AND NOT EXISTS (      SELECT\n",
    "                    'x'      \n",
    "                FROM\n",
    "                    `\"\"\" + os.environ[\"WORKSPACE_CDR\"] + \"\"\".death` d      \n",
    "                WHERE\n",
    "                    d.person_id = p.person_id ) ) \n",
    "            AND cb_search_person.person_id IN (SELECT\n",
    "                criteria.person_id \n",
    "            FROM\n",
    "                (SELECT\n",
    "                    DISTINCT person_id, entry_date, concept_id \n",
    "                FROM\n",
    "                    `\"\"\" + os.environ[\"WORKSPACE_CDR\"] + \"\"\".cb_search_all_events` \n",
    "                WHERE\n",
    "                    (concept_id IN (3038553) \n",
    "                    AND is_standard = 1 )) criteria ) \n",
    "            AND cb_search_person.person_id IN (SELECT\n",
    "                criteria.person_id \n",
    "            FROM\n",
    "                (SELECT\n",
    "                    DISTINCT person_id, entry_date, concept_id \n",
    "                FROM\n",
    "                    `\"\"\" + os.environ[\"WORKSPACE_CDR\"] + \"\"\".cb_search_all_events` \n",
    "                WHERE\n",
    "                    (concept_id IN(SELECT\n",
    "                        DISTINCT c.concept_id \n",
    "                    FROM\n",
    "                        `\"\"\" + os.environ[\"WORKSPACE_CDR\"] + \"\"\".cb_criteria` c \n",
    "                    JOIN\n",
    "                        (SELECT\n",
    "                            CAST(cr.id as string) AS id       \n",
    "                        FROM\n",
    "                            `\"\"\" + os.environ[\"WORKSPACE_CDR\"] + \"\"\".cb_criteria` cr       \n",
    "                        WHERE\n",
    "                            concept_id IN (1585952, 1585940, 1585723, 1585375, 1585723, 1585729, 1585386, 1585952, 1585375, 1585952, 1585375, 1585375, 1585892, 1585892, 1585375, 1585940, 1585952, 1585855, 1585729, 1585375, 1740639, 1585940, 1585952, 1585375, 1585375, 1585729, 43528895, 1585723, 1585723, 1585892, 1585940, 1585892, 1585386, 1585386, 40192389, 1585729, 1585892, 1585375, 1585723, 1585952, 1585940, 1586134, 1585940, 1585386, 1585710, 1585729, 1585892, 1585892, 1585940, 1585952, 1585940, 1585940, 1585729, 1585892, 1585952, 1585940, 1585892, 1585723, 1585723, 1585729, 1585729, 1585386, 1585952, 1585375, 1585952, 1585940, 1585952, 1585386, 1585375, 1585375)       \n",
    "                            AND full_text LIKE '%_rank1]%'      ) a \n",
    "                            ON (c.path LIKE CONCAT('%.', a.id, '.%') \n",
    "                            OR c.path LIKE CONCAT('%.', a.id) \n",
    "                            OR c.path LIKE CONCAT(a.id, '.%') \n",
    "                            OR c.path = a.id) \n",
    "                    WHERE\n",
    "                        is_standard = 0 \n",
    "                        AND is_selectable = 1) \n",
    "                    AND is_standard = 0 )) criteria ) \n",
    "            AND cb_search_person.person_id IN (SELECT\n",
    "                criteria.person_id \n",
    "            FROM\n",
    "                (SELECT\n",
    "                    DISTINCT person_id, entry_date, concept_id \n",
    "                FROM\n",
    "                    `\"\"\" + os.environ[\"WORKSPACE_CDR\"] + \"\"\".cb_search_all_events` \n",
    "                WHERE\n",
    "                    (concept_id IN (3027018) \n",
    "                    AND is_standard = 1 )) criteria ) \n",
    "            AND cb_search_person.person_id IN (SELECT\n",
    "                criteria.person_id \n",
    "            FROM\n",
    "                (SELECT\n",
    "                    DISTINCT person_id, entry_date, concept_id \n",
    "                FROM\n",
    "                    `\"\"\" + os.environ[\"WORKSPACE_CDR\"] + \"\"\".cb_search_all_events` \n",
    "                WHERE\n",
    "                    (concept_id IN (903118, 903115) \n",
    "                    AND is_standard = 0 )) criteria ) \n",
    "            AND cb_search_person.person_id IN (SELECT\n",
    "                criteria.person_id \n",
    "            FROM\n",
    "                (SELECT\n",
    "                    DISTINCT person_id, entry_date, concept_id \n",
    "                FROM\n",
    "                    `\"\"\" + os.environ[\"WORKSPACE_CDR\"] + \"\"\".cb_search_all_events` \n",
    "                WHERE\n",
    "                    (concept_id IN (3013682) \n",
    "                    AND is_standard = 1 )) criteria ) \n",
    "            AND cb_search_person.person_id IN (SELECT\n",
    "                criteria.person_id \n",
    "            FROM\n",
    "                (SELECT\n",
    "                    DISTINCT person_id, entry_date, concept_id \n",
    "                FROM\n",
    "                    `\"\"\" + os.environ[\"WORKSPACE_CDR\"] + \"\"\".cb_search_all_events` \n",
    "                WHERE\n",
    "                    (concept_id IN (3004501) \n",
    "                    AND is_standard = 1 )) criteria ) \n",
    "            AND cb_search_person.person_id IN (SELECT\n",
    "                criteria.person_id \n",
    "            FROM\n",
    "                (SELECT\n",
    "                    DISTINCT person_id, entry_date, concept_id \n",
    "                FROM\n",
    "                    `\"\"\" + os.environ[\"WORKSPACE_CDR\"] + \"\"\".cb_search_all_events` \n",
    "                WHERE\n",
    "                    (concept_id IN (3019550) \n",
    "                    AND is_standard = 1 )) criteria ) \n",
    "            AND cb_search_person.person_id IN (SELECT\n",
    "                criteria.person_id \n",
    "            FROM\n",
    "                (SELECT\n",
    "                    DISTINCT person_id, entry_date, concept_id \n",
    "                FROM\n",
    "                    `\"\"\" + os.environ[\"WORKSPACE_CDR\"] + \"\"\".cb_search_all_events` \n",
    "                WHERE\n",
    "                    (concept_id IN (3023103) \n",
    "                    AND is_standard = 1 )) criteria ) \n",
    "            AND cb_search_person.person_id NOT IN (SELECT\n",
    "                criteria.person_id \n",
    "            FROM\n",
    "                (SELECT\n",
    "                    DISTINCT person_id, entry_date, concept_id \n",
    "                FROM\n",
    "                    `\"\"\" + os.environ[\"WORKSPACE_CDR\"] + \"\"\".cb_search_all_events` \n",
    "                WHERE\n",
    "                    (concept_id IN(SELECT\n",
    "                        DISTINCT c.concept_id \n",
    "                    FROM\n",
    "                        `\"\"\" + os.environ[\"WORKSPACE_CDR\"] + \"\"\".cb_criteria` c \n",
    "                    JOIN\n",
    "                        (SELECT\n",
    "                            CAST(cr.id as string) AS id       \n",
    "                        FROM\n",
    "                            `\"\"\" + os.environ[\"WORKSPACE_CDR\"] + \"\"\".cb_criteria` cr       \n",
    "                        WHERE\n",
    "                            concept_id IN (443392)       \n",
    "                            AND full_text LIKE '%_rank1]%'      ) a \n",
    "                            ON (c.path LIKE CONCAT('%.', a.id, '.%') \n",
    "                            OR c.path LIKE CONCAT('%.', a.id) \n",
    "                            OR c.path LIKE CONCAT(a.id, '.%') \n",
    "                            OR c.path = a.id) \n",
    "                    WHERE\n",
    "                        is_standard = 1 \n",
    "                        AND is_selectable = 1) \n",
    "                    AND is_standard = 1 )) criteria ) \n",
    "            AND cb_search_person.person_id NOT IN (SELECT\n",
    "                person_id \n",
    "            FROM\n",
    "                `\"\"\" + os.environ[\"WORKSPACE_CDR\"] + \"\"\".person` p \n",
    "            WHERE\n",
    "                ethnicity_concept_id IN (903079, 0, 903096, 1586148) ) \n",
    "            AND cb_search_person.person_id NOT IN (SELECT\n",
    "                person_id \n",
    "            FROM\n",
    "                `\"\"\" + os.environ[\"WORKSPACE_CDR\"] + \"\"\".person` p \n",
    "            WHERE\n",
    "                sex_at_birth_concept_id IN (903096, 1177221, 0, 1585849, 46273637) ) \n",
    "            AND cb_search_person.person_id NOT IN (SELECT\n",
    "                person_id \n",
    "            FROM\n",
    "                `\"\"\" + os.environ[\"WORKSPACE_CDR\"] + \"\"\".person` p \n",
    "            WHERE\n",
    "                race_concept_id IN (2100000001, 903096, 45882607, 1177221) ) )\"\"\"\n",
    "\n",
    "dataset_94324895_person_df = pd.read_gbq(\n",
    "    dataset_94324895_person_sql,\n",
    "    dialect=\"standard\",\n",
    "    use_bqstorage_api=(\"BIGQUERY_STORAGE_API_ENABLED\" in os.environ),\n",
    "    progress_bar_type=\"tqdm_notebook\")\n",
    "\n",
    "dataset_94324895_person_df.head(5)"
   ]
  },
  {
   "cell_type": "markdown",
   "metadata": {},
   "source": [
    "Merge the dataframes to more easily work with the data"
   ]
  },
  {
   "cell_type": "code",
   "execution_count": null,
   "metadata": {},
   "outputs": [],
   "source": [
    "merged_df = (\n",
    "   dataset_94324895_person_df.merge(dataset_94324895_condition_df, on=\"person_id\", how=\"left\")\n",
    ")"
   ]
  },
  {
   "cell_type": "code",
   "execution_count": null,
   "metadata": {},
   "outputs": [],
   "source": [
    "merged_df.shape"
   ]
  },
  {
   "cell_type": "code",
   "execution_count": null,
   "metadata": {},
   "outputs": [],
   "source": [
    "merged_df.head(5)"
   ]
  },
  {
   "cell_type": "markdown",
   "metadata": {},
   "source": [
    "Each patient has multiple rows. To retain only one for each patient, I am going to retain the most recent condition start in order to preserve the most recent observation for CKD. "
   ]
  },
  {
   "cell_type": "code",
   "execution_count": null,
   "metadata": {},
   "outputs": [],
   "source": [
    "latest_non_null = merged_df.loc[\n",
    "    merged_df.dropna(subset = [\"condition_start_datetime\"])\n",
    "    .groupby(\"person_id\")[\"condition_start_datetime\"]\n",
    "    .idxmax()]"
   ]
  },
  {
   "cell_type": "code",
   "execution_count": null,
   "metadata": {},
   "outputs": [],
   "source": [
    "missing_dates = merged_df[merged_df[\"condition_start_datetime\"].isna()]"
   ]
  },
  {
   "cell_type": "code",
   "execution_count": null,
   "metadata": {},
   "outputs": [],
   "source": [
    "ckd_features_df = pd.concat([latest_non_null, missing_dates])"
   ]
  },
  {
   "cell_type": "code",
   "execution_count": null,
   "metadata": {},
   "outputs": [],
   "source": [
    "ckd_features_df[\"person_id\"].unique()\n"
   ]
  },
  {
   "cell_type": "markdown",
   "metadata": {},
   "source": [
    "#### Our total cohort size is 127,487 patients\n",
    "\n",
    "Next, let's investigate how many patients have CKD based on ICD-10 code. "
   ]
  },
  {
   "cell_type": "code",
   "execution_count": null,
   "metadata": {},
   "outputs": [],
   "source": [
    "ckd_features_df[\"condition_start_datetime\"].notna().sum()\n"
   ]
  },
  {
   "cell_type": "markdown",
   "metadata": {},
   "source": [
    "Only 12,124 patients have chronic kidney disease. However, I am going to add more based on the GFR criteria. "
   ]
  },
  {
   "cell_type": "markdown",
   "metadata": {},
   "source": [
    "## Adding more CKD patients based on glomerular filtration rate \n",
    "- If a patient has a GFR < 60 for multiple lab tests, they will be added to my CKD cohort"
   ]
  },
  {
   "cell_type": "code",
   "execution_count": null,
   "metadata": {},
   "outputs": [],
   "source": [
    "# This query represents dataset \"ML Features- CKD\" for domain \"measurement\" and was generated for All of Us Controlled Tier Dataset v8\n",
    "dataset_55367214_measurement_sql = \"\"\"\n",
    "    SELECT\n",
    "        measurement.person_id,\n",
    "        m_standard_concept.concept_name as standard_concept_name,\n",
    "        measurement.measurement_datetime,\n",
    "        measurement.value_as_number \n",
    "    FROM\n",
    "        ( SELECT\n",
    "            * \n",
    "        FROM\n",
    "            `\"\"\" + os.environ[\"WORKSPACE_CDR\"] + \"\"\".measurement` measurement \n",
    "        WHERE\n",
    "            (\n",
    "                measurement_concept_id IN (SELECT\n",
    "                    DISTINCT c.concept_id \n",
    "                FROM\n",
    "                    `\"\"\" + os.environ[\"WORKSPACE_CDR\"] + \"\"\".cb_criteria` c \n",
    "                JOIN\n",
    "                    (SELECT\n",
    "                        CAST(cr.id as string) AS id       \n",
    "                    FROM\n",
    "                        `\"\"\" + os.environ[\"WORKSPACE_CDR\"] + \"\"\".cb_criteria` cr       \n",
    "                    WHERE\n",
    "                        concept_id IN (1619025, 1619026, 3029859, 3030104, 3049187, 3053283, 36303797, 36306178, 40764999, 40771922, 46236952)       \n",
    "                        AND full_text LIKE '%_rank1]%'      ) a \n",
    "                        ON (c.path LIKE CONCAT('%.', a.id, '.%') \n",
    "                        OR c.path LIKE CONCAT('%.', a.id) \n",
    "                        OR c.path LIKE CONCAT(a.id, '.%') \n",
    "                        OR c.path = a.id) \n",
    "                WHERE\n",
    "                    is_standard = 1 \n",
    "                    AND is_selectable = 1)\n",
    "            )  \n",
    "            AND (\n",
    "                measurement.PERSON_ID IN (SELECT\n",
    "                    distinct person_id  \n",
    "                FROM\n",
    "                    `\"\"\" + os.environ[\"WORKSPACE_CDR\"] + \"\"\".cb_search_person` cb_search_person  \n",
    "                WHERE\n",
    "                    cb_search_person.person_id IN (SELECT\n",
    "                        person_id \n",
    "                    FROM\n",
    "                        `\"\"\" + os.environ[\"WORKSPACE_CDR\"] + \"\"\".cb_search_person` p \n",
    "                    WHERE\n",
    "                        DATE_DIFF(CURRENT_DATE, dob, YEAR) - IF(EXTRACT(MONTH FROM dob)*100 + EXTRACT(DAY FROM dob) > EXTRACT(MONTH FROM CURRENT_DATE)*100 + EXTRACT(DAY FROM CURRENT_DATE), 1, 0) BETWEEN 18 AND 124 \n",
    "                        AND NOT EXISTS (      SELECT\n",
    "                            'x'      \n",
    "                        FROM\n",
    "                            `\"\"\" + os.environ[\"WORKSPACE_CDR\"] + \"\"\".death` d      \n",
    "                        WHERE\n",
    "                            d.person_id = p.person_id ) ) \n",
    "                    AND cb_search_person.person_id IN (SELECT\n",
    "                        person_id \n",
    "                    FROM\n",
    "                        `\"\"\" + os.environ[\"WORKSPACE_CDR\"] + \"\"\".cb_search_person` p \n",
    "                    WHERE\n",
    "                        has_ehr_data = 1 ) \n",
    "                    AND cb_search_person.person_id IN (SELECT\n",
    "                        person_id \n",
    "                    FROM\n",
    "                        `\"\"\" + os.environ[\"WORKSPACE_CDR\"] + \"\"\".cb_search_person` p \n",
    "                    WHERE\n",
    "                        has_whole_genome_variant = 1 ) \n",
    "                    AND cb_search_person.person_id IN (SELECT\n",
    "                        person_id \n",
    "                    FROM\n",
    "                        `\"\"\" + os.environ[\"WORKSPACE_CDR\"] + \"\"\".cb_search_person` p \n",
    "                    WHERE\n",
    "                        DATE_DIFF(CURRENT_DATE, dob, YEAR) - IF(EXTRACT(MONTH FROM dob)*100 + EXTRACT(DAY FROM dob) > EXTRACT(MONTH FROM CURRENT_DATE)*100 + EXTRACT(DAY FROM CURRENT_DATE), 1, 0) BETWEEN 18 AND 100 \n",
    "                        AND NOT EXISTS (      SELECT\n",
    "                            'x'      \n",
    "                        FROM\n",
    "                            `\"\"\" + os.environ[\"WORKSPACE_CDR\"] + \"\"\".death` d      \n",
    "                        WHERE\n",
    "                            d.person_id = p.person_id ) ) \n",
    "                    AND cb_search_person.person_id IN (SELECT\n",
    "                        criteria.person_id \n",
    "                    FROM\n",
    "                        (SELECT\n",
    "                            DISTINCT person_id, entry_date, concept_id \n",
    "                        FROM\n",
    "                            `\"\"\" + os.environ[\"WORKSPACE_CDR\"] + \"\"\".cb_search_all_events` \n",
    "                        WHERE\n",
    "                            (concept_id IN (3038553) \n",
    "                            AND is_standard = 1 )) criteria ) \n",
    "                    AND cb_search_person.person_id IN (SELECT\n",
    "                        criteria.person_id \n",
    "                    FROM\n",
    "                        (SELECT\n",
    "                            DISTINCT person_id, entry_date, concept_id \n",
    "                        FROM\n",
    "                            `\"\"\" + os.environ[\"WORKSPACE_CDR\"] + \"\"\".cb_search_all_events` \n",
    "                        WHERE\n",
    "                            (concept_id IN(SELECT\n",
    "                                DISTINCT c.concept_id \n",
    "                            FROM\n",
    "                                `\"\"\" + os.environ[\"WORKSPACE_CDR\"] + \"\"\".cb_criteria` c \n",
    "                            JOIN\n",
    "                                (SELECT\n",
    "                                    CAST(cr.id as string) AS id       \n",
    "                                FROM\n",
    "                                    `\"\"\" + os.environ[\"WORKSPACE_CDR\"] + \"\"\".cb_criteria` cr       \n",
    "                                WHERE\n",
    "                                    concept_id IN (1585952, 1585940, 1585723, 1585375, 1585723, 1585729, 1585386, 1585952, 1585375, 1585952, 1585375, 1585375, 1585892, 1585892, 1585375, 1585940, 1585952, 1585855, 1585729, 1585375, 1740639, 1585940, 1585952, 1585375, 1585375, 1585729, 43528895, 1585723, 1585723, 1585892, 1585940, 1585892, 1585386, 1585386, 40192389, 1585729, 1585892, 1585375, 1585723, 1585952, 1585940, 1586134, 1585940, 1585386, 1585710, 1585729, 1585892, 1585892, 1585940, 1585952, 1585940, 1585940, 1585729, 1585892, 1585952, 1585940, 1585892, 1585723, 1585723, 1585729, 1585729, 1585386, 1585952, 1585375, 1585952, 1585940, 1585952, 1585386, 1585375, 1585375)       \n",
    "                                    AND full_text LIKE '%_rank1]%'      ) a \n",
    "                                    ON (c.path LIKE CONCAT('%.', a.id, '.%') \n",
    "                                    OR c.path LIKE CONCAT('%.', a.id) \n",
    "                                    OR c.path LIKE CONCAT(a.id, '.%') \n",
    "                                    OR c.path = a.id) \n",
    "                            WHERE\n",
    "                                is_standard = 0 \n",
    "                                AND is_selectable = 1) \n",
    "                            AND is_standard = 0 )) criteria ) \n",
    "                    AND cb_search_person.person_id IN (SELECT\n",
    "                        criteria.person_id \n",
    "                    FROM\n",
    "                        (SELECT\n",
    "                            DISTINCT person_id, entry_date, concept_id \n",
    "                        FROM\n",
    "                            `\"\"\" + os.environ[\"WORKSPACE_CDR\"] + \"\"\".cb_search_all_events` \n",
    "                        WHERE\n",
    "                            (concept_id IN (3027018) \n",
    "                            AND is_standard = 1 )) criteria ) \n",
    "                    AND cb_search_person.person_id IN (SELECT\n",
    "                        criteria.person_id \n",
    "                    FROM\n",
    "                        (SELECT\n",
    "                            DISTINCT person_id, entry_date, concept_id \n",
    "                        FROM\n",
    "                            `\"\"\" + os.environ[\"WORKSPACE_CDR\"] + \"\"\".cb_search_all_events` \n",
    "                        WHERE\n",
    "                            (concept_id IN (903118, 903115) \n",
    "                            AND is_standard = 0 )) criteria ) \n",
    "                    AND cb_search_person.person_id IN (SELECT\n",
    "                        criteria.person_id \n",
    "                    FROM\n",
    "                        (SELECT\n",
    "                            DISTINCT person_id, entry_date, concept_id \n",
    "                        FROM\n",
    "                            `\"\"\" + os.environ[\"WORKSPACE_CDR\"] + \"\"\".cb_search_all_events` \n",
    "                        WHERE\n",
    "                            (concept_id IN (3013682) \n",
    "                            AND is_standard = 1 )) criteria ) \n",
    "                    AND cb_search_person.person_id IN (SELECT\n",
    "                        criteria.person_id \n",
    "                    FROM\n",
    "                        (SELECT\n",
    "                            DISTINCT person_id, entry_date, concept_id \n",
    "                        FROM\n",
    "                            `\"\"\" + os.environ[\"WORKSPACE_CDR\"] + \"\"\".cb_search_all_events` \n",
    "                        WHERE\n",
    "                            (concept_id IN (3004501) \n",
    "                            AND is_standard = 1 )) criteria ) \n",
    "                    AND cb_search_person.person_id IN (SELECT\n",
    "                        criteria.person_id \n",
    "                    FROM\n",
    "                        (SELECT\n",
    "                            DISTINCT person_id, entry_date, concept_id \n",
    "                        FROM\n",
    "                            `\"\"\" + os.environ[\"WORKSPACE_CDR\"] + \"\"\".cb_search_all_events` \n",
    "                        WHERE\n",
    "                            (concept_id IN (3019550) \n",
    "                            AND is_standard = 1 )) criteria ) \n",
    "                    AND cb_search_person.person_id IN (SELECT\n",
    "                        criteria.person_id \n",
    "                    FROM\n",
    "                        (SELECT\n",
    "                            DISTINCT person_id, entry_date, concept_id \n",
    "                        FROM\n",
    "                            `\"\"\" + os.environ[\"WORKSPACE_CDR\"] + \"\"\".cb_search_all_events` \n",
    "                        WHERE\n",
    "                            (concept_id IN (3023103) \n",
    "                            AND is_standard = 1 )) criteria ) \n",
    "                    AND cb_search_person.person_id NOT IN (SELECT\n",
    "                        criteria.person_id \n",
    "                    FROM\n",
    "                        (SELECT\n",
    "                            DISTINCT person_id, entry_date, concept_id \n",
    "                        FROM\n",
    "                            `\"\"\" + os.environ[\"WORKSPACE_CDR\"] + \"\"\".cb_search_all_events` \n",
    "                        WHERE\n",
    "                            (concept_id IN(SELECT\n",
    "                                DISTINCT c.concept_id \n",
    "                            FROM\n",
    "                                `\"\"\" + os.environ[\"WORKSPACE_CDR\"] + \"\"\".cb_criteria` c \n",
    "                            JOIN\n",
    "                                (SELECT\n",
    "                                    CAST(cr.id as string) AS id       \n",
    "                                FROM\n",
    "                                    `\"\"\" + os.environ[\"WORKSPACE_CDR\"] + \"\"\".cb_criteria` cr       \n",
    "                                WHERE\n",
    "                                    concept_id IN (443392)       \n",
    "                                    AND full_text LIKE '%_rank1]%'      ) a \n",
    "                                    ON (c.path LIKE CONCAT('%.', a.id, '.%') \n",
    "                                    OR c.path LIKE CONCAT('%.', a.id) \n",
    "                                    OR c.path LIKE CONCAT(a.id, '.%') \n",
    "                                    OR c.path = a.id) \n",
    "                            WHERE\n",
    "                                is_standard = 1 \n",
    "                                AND is_selectable = 1) \n",
    "                            AND is_standard = 1 )) criteria ) \n",
    "                    AND cb_search_person.person_id NOT IN (SELECT\n",
    "                        person_id \n",
    "                    FROM\n",
    "                        `\"\"\" + os.environ[\"WORKSPACE_CDR\"] + \"\"\".person` p \n",
    "                    WHERE\n",
    "                        ethnicity_concept_id IN (903079, 0, 903096, 1586148) ) \n",
    "                    AND cb_search_person.person_id NOT IN (SELECT\n",
    "                        person_id \n",
    "                    FROM\n",
    "                        `\"\"\" + os.environ[\"WORKSPACE_CDR\"] + \"\"\".person` p \n",
    "                    WHERE\n",
    "                        sex_at_birth_concept_id IN (903096, 1177221, 0, 1585849, 46273637) ) \n",
    "                    AND cb_search_person.person_id NOT IN (SELECT\n",
    "                        person_id \n",
    "                    FROM\n",
    "                        `\"\"\" + os.environ[\"WORKSPACE_CDR\"] + \"\"\".person` p \n",
    "                    WHERE\n",
    "                        race_concept_id IN (2100000001, 903096, 45882607, 1177221) ) )\n",
    "            )) measurement \n",
    "    LEFT JOIN\n",
    "        `\"\"\" + os.environ[\"WORKSPACE_CDR\"] + \"\"\".concept` m_standard_concept \n",
    "            ON measurement.measurement_concept_id = m_standard_concept.concept_id\"\"\"\n",
    "\n",
    "dataset_55367214_measurement_df = pd.read_gbq(\n",
    "    dataset_55367214_measurement_sql,\n",
    "    dialect=\"standard\",\n",
    "    use_bqstorage_api=(\"BIGQUERY_STORAGE_API_ENABLED\" in os.environ),\n",
    "    progress_bar_type=\"tqdm_notebook\")\n",
    "\n",
    "dataset_55367214_measurement_df.head(5)"
   ]
  },
  {
   "cell_type": "code",
   "execution_count": null,
   "metadata": {},
   "outputs": [],
   "source": [
    "low_gfr = dataset_55367214_measurement_df[\n",
    "    (dataset_55367214_measurement_df['value_as_number'] < 60)\n",
    "]\n"
   ]
  },
  {
   "cell_type": "code",
   "execution_count": null,
   "metadata": {},
   "outputs": [],
   "source": [
    "low_gfr_counts = low_gfr.groupby('person_id').size()\n"
   ]
  },
  {
   "cell_type": "code",
   "execution_count": null,
   "metadata": {},
   "outputs": [],
   "source": [
    "participants_with_low_gfr = low_gfr_counts[low_gfr_counts >= 2].index\n"
   ]
  },
  {
   "cell_type": "code",
   "execution_count": null,
   "metadata": {},
   "outputs": [],
   "source": [
    "dataset_55367214_measurement_df['low_gfr'] = dataset_55367214_measurement_df['person_id'].apply(lambda x: 'yes' if x in participants_with_low_gfr else 'no')"
   ]
  },
  {
   "cell_type": "code",
   "execution_count": null,
   "metadata": {},
   "outputs": [],
   "source": [
    "low_gfr_df = dataset_55367214_measurement_df[['person_id', 'low_gfr']]"
   ]
  },
  {
   "cell_type": "code",
   "execution_count": null,
   "metadata": {},
   "outputs": [],
   "source": [
    "low_gfr_df = low_gfr_df.groupby('person_id').first().reset_index()"
   ]
  },
  {
   "cell_type": "code",
   "execution_count": null,
   "metadata": {},
   "outputs": [],
   "source": [
    "low_gfr_df.head()"
   ]
  },
  {
   "cell_type": "code",
   "execution_count": null,
   "metadata": {},
   "outputs": [],
   "source": [
    "low_gfr_df['person_id'].count()"
   ]
  },
  {
   "cell_type": "code",
   "execution_count": null,
   "metadata": {},
   "outputs": [],
   "source": [
    "ckd_features_df = (\n",
    "   ckd_features_df.merge(low_gfr_df, on=\"person_id\", how=\"left\")\n",
    ")"
   ]
  },
  {
   "cell_type": "code",
   "execution_count": null,
   "metadata": {},
   "outputs": [],
   "source": [
    "ckd_features_df.head()"
   ]
  },
  {
   "cell_type": "markdown",
   "metadata": {},
   "source": [
    "# Feature cleaning"
   ]
  },
  {
   "cell_type": "markdown",
   "metadata": {},
   "source": [
    "## Formatting the outcome variable (CKD) into 2 classes\n",
    "0- No presence of CKD\n",
    "1- presence of CKD "
   ]
  },
  {
   "cell_type": "code",
   "execution_count": null,
   "metadata": {},
   "outputs": [],
   "source": [
    "ckd_features_df[\"source_concept_name\"].unique()"
   ]
  },
  {
   "cell_type": "markdown",
   "metadata": {},
   "source": [
    "I am using ICD10 codes to identify those with CKD"
   ]
  },
  {
   "cell_type": "code",
   "execution_count": null,
   "metadata": {},
   "outputs": [],
   "source": [
    "ckd_features_df['outcome'] = ckd_features_df['source_concept_name'].notna().astype(int).squeeze()\n"
   ]
  },
  {
   "cell_type": "code",
   "execution_count": null,
   "metadata": {
    "scrolled": true
   },
   "outputs": [],
   "source": [
    "ckd_features_df.head()"
   ]
  },
  {
   "cell_type": "code",
   "execution_count": null,
   "metadata": {},
   "outputs": [],
   "source": [
    "ckd_features_df = ckd_features_df.drop(columns=['standard_concept_name', 'condition_end_datetime', 'condition_source_value', 'source_concept_name', 'source_vocabulary'])\n"
   ]
  },
  {
   "cell_type": "code",
   "execution_count": null,
   "metadata": {},
   "outputs": [],
   "source": [
    "ckd_features_df.head()"
   ]
  },
  {
   "cell_type": "code",
   "execution_count": null,
   "metadata": {},
   "outputs": [],
   "source": [
    "ckd_features_df['outcome'] = ckd_features_df.apply(\n",
    "    lambda row: 1 if row['low_gfr'] == 'yes' else row['outcome'],\n",
    "    axis=1\n",
    ")"
   ]
  },
  {
   "cell_type": "code",
   "execution_count": null,
   "metadata": {},
   "outputs": [],
   "source": [
    "ckd_features_df['outcome'].value_counts()"
   ]
  },
  {
   "cell_type": "markdown",
   "metadata": {},
   "source": [
    "It is important to note that there is not a balance between our 2 classifications\n",
    "This may necessary to address later in the ML process. "
   ]
  },
  {
   "cell_type": "markdown",
   "metadata": {},
   "source": [
    "## Cleaning sex variable"
   ]
  },
  {
   "cell_type": "code",
   "execution_count": null,
   "metadata": {},
   "outputs": [],
   "source": [
    "ckd_features_df['sex_at_birth'].unique()"
   ]
  },
  {
   "cell_type": "code",
   "execution_count": null,
   "metadata": {},
   "outputs": [],
   "source": [
    "ckd_features_df['sex'] = ckd_features_df['sex_at_birth']"
   ]
  },
  {
   "cell_type": "code",
   "execution_count": null,
   "metadata": {},
   "outputs": [],
   "source": [
    "ckd_features_df = ckd_features_df.drop(columns = ['sex_at_birth'])"
   ]
  },
  {
   "cell_type": "code",
   "execution_count": null,
   "metadata": {},
   "outputs": [],
   "source": [
    "ckd_features_df['sex'] = ckd_features_df['sex'].map({'Male': 0, 'Female': 1})"
   ]
  },
  {
   "cell_type": "code",
   "execution_count": null,
   "metadata": {},
   "outputs": [],
   "source": [
    "ckd_features_df"
   ]
  },
  {
   "cell_type": "markdown",
   "metadata": {},
   "source": [
    "## Calculating and binnning age variable"
   ]
  },
  {
   "cell_type": "code",
   "execution_count": null,
   "metadata": {},
   "outputs": [],
   "source": [
    "from datetime import date\n",
    "\n",
    "# Get today's date\n",
    "today = date.today()\n",
    "\n",
    "# Calculate age\n",
    "ckd_features_df['Age'] = ckd_features_df['date_of_birth'].apply(\n",
    "    lambda dob: today.year - dob.year - ((today.month, today.day) < (dob.month, dob.day))\n",
    ")"
   ]
  },
  {
   "cell_type": "markdown",
   "metadata": {},
   "source": [
    "Making sure the minimum age is not below 18 and the maximum age is not above 100. "
   ]
  },
  {
   "cell_type": "code",
   "execution_count": null,
   "metadata": {},
   "outputs": [],
   "source": [
    "ckd_features_df['Age'].min()"
   ]
  },
  {
   "cell_type": "code",
   "execution_count": null,
   "metadata": {},
   "outputs": [],
   "source": [
    "ckd_features_df['Age'].max()"
   ]
  },
  {
   "cell_type": "markdown",
   "metadata": {},
   "source": [
    "### Binning the age variable"
   ]
  },
  {
   "cell_type": "code",
   "execution_count": null,
   "metadata": {},
   "outputs": [],
   "source": [
    "ckd_features_df['Age'].hist()"
   ]
  },
  {
   "cell_type": "code",
   "execution_count": null,
   "metadata": {},
   "outputs": [],
   "source": [
    "bins = [18, 25, 35, 45, 55, 65, 101]  \n",
    "labels = ['Under 25', '25-34', '35-44', '45-54', '55-64', '65+']\n",
    "# Create the age group column\n",
    "ckd_features_df['Age_Group'] = pd.cut(ckd_features_df['Age'], bins=bins, labels=labels, right=False)"
   ]
  },
  {
   "cell_type": "code",
   "execution_count": null,
   "metadata": {},
   "outputs": [],
   "source": [
    "ckd_features_df"
   ]
  },
  {
   "cell_type": "code",
   "execution_count": null,
   "metadata": {},
   "outputs": [],
   "source": [
    " ckd_features_df['Age_Group'].value_counts()"
   ]
  },
  {
   "cell_type": "code",
   "execution_count": null,
   "metadata": {
    "scrolled": true
   },
   "outputs": [],
   "source": [
    "import seaborn as sns\n",
    "sns.histplot(ckd_features_df['Age_Group']);"
   ]
  },
  {
   "cell_type": "markdown",
   "metadata": {},
   "source": [
    "We have very few participants under 25. The majority of the partipants are 65 and older. The rest of the age bin groups are fairly equally distributed. \n",
    "\n",
    "This will only be important for imputing missing values by age group. For the model, I will use the continuous age variable. "
   ]
  },
  {
   "cell_type": "code",
   "execution_count": null,
   "metadata": {
    "scrolled": true
   },
   "outputs": [],
   "source": [
    " ckd_features_df['condition_start_datetime'].count()"
   ]
  },
  {
   "cell_type": "markdown",
   "metadata": {},
   "source": [
    "While I was going to calculate age at condition onset, only 12,000 patients have this data. Therefore, to preserve my large dataset, I am going to leave this feature out. "
   ]
  },
  {
   "cell_type": "code",
   "execution_count": null,
   "metadata": {},
   "outputs": [],
   "source": [
    "ckd_features_df_2 = ckd_features_df.drop(['date_of_birth', 'condition_start_datetime'], axis =1)"
   ]
  },
  {
   "cell_type": "markdown",
   "metadata": {},
   "source": [
    "## Import BMI and Blood Pressure Data"
   ]
  },
  {
   "cell_type": "code",
   "execution_count": null,
   "metadata": {
    "code_folding": []
   },
   "outputs": [],
   "source": [
    "dataset_91352319_measurement_sql = \"\"\"\n",
    "    SELECT\n",
    "        measurement.person_id,\n",
    "        m_standard_concept.concept_name as standard_concept_name,\n",
    "        measurement.measurement_datetime,\n",
    "        measurement.value_as_number,\n",
    "        measurement.unit_source_value \n",
    "    FROM\n",
    "        ( SELECT\n",
    "            * \n",
    "        FROM\n",
    "            `\"\"\" + os.environ[\"WORKSPACE_CDR\"] + \"\"\".measurement` measurement \n",
    "        WHERE\n",
    "            (\n",
    "                measurement_concept_id IN (SELECT\n",
    "                    DISTINCT c.concept_id \n",
    "                FROM\n",
    "                    `\"\"\" + os.environ[\"WORKSPACE_CDR\"] + \"\"\".cb_criteria` c \n",
    "                JOIN\n",
    "                    (SELECT\n",
    "                        CAST(cr.id as string) AS id       \n",
    "                    FROM\n",
    "                        `\"\"\" + os.environ[\"WORKSPACE_CDR\"] + \"\"\".cb_criteria` cr       \n",
    "                    WHERE\n",
    "                        concept_id IN (3004249, 3012888, 3038553, 37025979)       \n",
    "                        AND full_text LIKE '%_rank1]%'      ) a \n",
    "                        ON (c.path LIKE CONCAT('%.', a.id, '.%') \n",
    "                        OR c.path LIKE CONCAT('%.', a.id) \n",
    "                        OR c.path LIKE CONCAT(a.id, '.%') \n",
    "                        OR c.path = a.id) \n",
    "                WHERE\n",
    "                    is_standard = 1 \n",
    "                    AND is_selectable = 1)\n",
    "            )  \n",
    "            AND (\n",
    "                measurement.PERSON_ID IN (SELECT\n",
    "                    distinct person_id  \n",
    "                FROM\n",
    "                    `\"\"\" + os.environ[\"WORKSPACE_CDR\"] + \"\"\".cb_search_person` cb_search_person  \n",
    "                WHERE\n",
    "                    cb_search_person.person_id IN (SELECT\n",
    "                        person_id \n",
    "                    FROM\n",
    "                        `\"\"\" + os.environ[\"WORKSPACE_CDR\"] + \"\"\".cb_search_person` p \n",
    "                    WHERE\n",
    "                        DATE_DIFF(CURRENT_DATE, dob, YEAR) - IF(EXTRACT(MONTH FROM dob)*100 + EXTRACT(DAY FROM dob) > EXTRACT(MONTH FROM CURRENT_DATE)*100 + EXTRACT(DAY FROM CURRENT_DATE), 1, 0) BETWEEN 18 AND 124 \n",
    "                        AND NOT EXISTS (      SELECT\n",
    "                            'x'      \n",
    "                        FROM\n",
    "                            `\"\"\" + os.environ[\"WORKSPACE_CDR\"] + \"\"\".death` d      \n",
    "                        WHERE\n",
    "                            d.person_id = p.person_id ) ) \n",
    "                    AND cb_search_person.person_id IN (SELECT\n",
    "                        person_id \n",
    "                    FROM\n",
    "                        `\"\"\" + os.environ[\"WORKSPACE_CDR\"] + \"\"\".cb_search_person` p \n",
    "                    WHERE\n",
    "                        has_ehr_data = 1 ) \n",
    "                    AND cb_search_person.person_id IN (SELECT\n",
    "                        person_id \n",
    "                    FROM\n",
    "                        `\"\"\" + os.environ[\"WORKSPACE_CDR\"] + \"\"\".cb_search_person` p \n",
    "                    WHERE\n",
    "                        has_whole_genome_variant = 1 ) \n",
    "                    AND cb_search_person.person_id IN (SELECT\n",
    "                        person_id \n",
    "                    FROM\n",
    "                        `\"\"\" + os.environ[\"WORKSPACE_CDR\"] + \"\"\".cb_search_person` p \n",
    "                    WHERE\n",
    "                        DATE_DIFF(CURRENT_DATE, dob, YEAR) - IF(EXTRACT(MONTH FROM dob)*100 + EXTRACT(DAY FROM dob) > EXTRACT(MONTH FROM CURRENT_DATE)*100 + EXTRACT(DAY FROM CURRENT_DATE), 1, 0) BETWEEN 18 AND 100 \n",
    "                        AND NOT EXISTS (      SELECT\n",
    "                            'x'      \n",
    "                        FROM\n",
    "                            `\"\"\" + os.environ[\"WORKSPACE_CDR\"] + \"\"\".death` d      \n",
    "                        WHERE\n",
    "                            d.person_id = p.person_id ) ) \n",
    "                    AND cb_search_person.person_id IN (SELECT\n",
    "                        criteria.person_id \n",
    "                    FROM\n",
    "                        (SELECT\n",
    "                            DISTINCT person_id, entry_date, concept_id \n",
    "                        FROM\n",
    "                            `\"\"\" + os.environ[\"WORKSPACE_CDR\"] + \"\"\".cb_search_all_events` \n",
    "                        WHERE\n",
    "                            (concept_id IN (3038553) \n",
    "                            AND is_standard = 1 )) criteria ) \n",
    "                    AND cb_search_person.person_id IN (SELECT\n",
    "                        criteria.person_id \n",
    "                    FROM\n",
    "                        (SELECT\n",
    "                            DISTINCT person_id, entry_date, concept_id \n",
    "                        FROM\n",
    "                            `\"\"\" + os.environ[\"WORKSPACE_CDR\"] + \"\"\".cb_search_all_events` \n",
    "                        WHERE\n",
    "                            (concept_id IN(SELECT\n",
    "                                DISTINCT c.concept_id \n",
    "                            FROM\n",
    "                                `\"\"\" + os.environ[\"WORKSPACE_CDR\"] + \"\"\".cb_criteria` c \n",
    "                            JOIN\n",
    "                                (SELECT\n",
    "                                    CAST(cr.id as string) AS id       \n",
    "                                FROM\n",
    "                                    `\"\"\" + os.environ[\"WORKSPACE_CDR\"] + \"\"\".cb_criteria` cr       \n",
    "                                WHERE\n",
    "                                    concept_id IN (1585952, 1585940, 1585723, 1585375, 1585723, 1585729, 1585386, 1585952, 1585375, 1585952, 1585375, 1585375, 1585892, 1585892, 1585375, 1585940, 1585952, 1585855, 1585729, 1585375, 1740639, 1585940, 1585952, 1585375, 1585375, 1585729, 43528895, 1585723, 1585723, 1585892, 1585940, 1585892, 1585386, 1585386, 40192389, 1585729, 1585892, 1585375, 1585723, 1585952, 1585940, 1586134, 1585940, 1585386, 1585710, 1585729, 1585892, 1585892, 1585940, 1585952, 1585940, 1585940, 1585729, 1585892, 1585952, 1585940, 1585892, 1585723, 1585723, 1585729, 1585729, 1585386, 1585952, 1585375, 1585952, 1585940, 1585952, 1585386, 1585375, 1585375)       \n",
    "                                    AND full_text LIKE '%_rank1]%'      ) a \n",
    "                                    ON (c.path LIKE CONCAT('%.', a.id, '.%') \n",
    "                                    OR c.path LIKE CONCAT('%.', a.id) \n",
    "                                    OR c.path LIKE CONCAT(a.id, '.%') \n",
    "                                    OR c.path = a.id) \n",
    "                            WHERE\n",
    "                                is_standard = 0 \n",
    "                                AND is_selectable = 1) \n",
    "                            AND is_standard = 0 )) criteria ) \n",
    "                    AND cb_search_person.person_id IN (SELECT\n",
    "                        criteria.person_id \n",
    "                    FROM\n",
    "                        (SELECT\n",
    "                            DISTINCT person_id, entry_date, concept_id \n",
    "                        FROM\n",
    "                            `\"\"\" + os.environ[\"WORKSPACE_CDR\"] + \"\"\".cb_search_all_events` \n",
    "                        WHERE\n",
    "                            (concept_id IN (3027018) \n",
    "                            AND is_standard = 1 )) criteria ) \n",
    "                    AND cb_search_person.person_id IN (SELECT\n",
    "                        criteria.person_id \n",
    "                    FROM\n",
    "                        (SELECT\n",
    "                            DISTINCT person_id, entry_date, concept_id \n",
    "                        FROM\n",
    "                            `\"\"\" + os.environ[\"WORKSPACE_CDR\"] + \"\"\".cb_search_all_events` \n",
    "                        WHERE\n",
    "                            (concept_id IN (903118, 903115) \n",
    "                            AND is_standard = 0 )) criteria ) \n",
    "                    AND cb_search_person.person_id NOT IN (SELECT\n",
    "                        criteria.person_id \n",
    "                    FROM\n",
    "                        (SELECT\n",
    "                            DISTINCT person_id, entry_date, concept_id \n",
    "                        FROM\n",
    "                            `\"\"\" + os.environ[\"WORKSPACE_CDR\"] + \"\"\".cb_search_all_events` \n",
    "                        WHERE\n",
    "                            (concept_id IN(SELECT\n",
    "                                DISTINCT c.concept_id \n",
    "                            FROM\n",
    "                                `\"\"\" + os.environ[\"WORKSPACE_CDR\"] + \"\"\".cb_criteria` c \n",
    "                            JOIN\n",
    "                                (SELECT\n",
    "                                    CAST(cr.id as string) AS id       \n",
    "                                FROM\n",
    "                                    `\"\"\" + os.environ[\"WORKSPACE_CDR\"] + \"\"\".cb_criteria` cr       \n",
    "                                WHERE\n",
    "                                    concept_id IN (443392)       \n",
    "                                    AND full_text LIKE '%_rank1]%'      ) a \n",
    "                                    ON (c.path LIKE CONCAT('%.', a.id, '.%') \n",
    "                                    OR c.path LIKE CONCAT('%.', a.id) \n",
    "                                    OR c.path LIKE CONCAT(a.id, '.%') \n",
    "                                    OR c.path = a.id) \n",
    "                            WHERE\n",
    "                                is_standard = 1 \n",
    "                                AND is_selectable = 1) \n",
    "                            AND is_standard = 1 )) criteria ) \n",
    "                    AND cb_search_person.person_id NOT IN (SELECT\n",
    "                        person_id \n",
    "                    FROM\n",
    "                        `\"\"\" + os.environ[\"WORKSPACE_CDR\"] + \"\"\".person` p \n",
    "                    WHERE\n",
    "                        ethnicity_concept_id IN (903079, 0, 903096, 1586148) ) \n",
    "                    AND cb_search_person.person_id NOT IN (SELECT\n",
    "                        person_id \n",
    "                    FROM\n",
    "                        `\"\"\" + os.environ[\"WORKSPACE_CDR\"] + \"\"\".person` p \n",
    "                    WHERE\n",
    "                        sex_at_birth_concept_id IN (903096, 1177221, 0, 1585849, 46273637) ) \n",
    "                    AND cb_search_person.person_id NOT IN (SELECT\n",
    "                        person_id \n",
    "                    FROM\n",
    "                        `\"\"\" + os.environ[\"WORKSPACE_CDR\"] + \"\"\".person` p \n",
    "                    WHERE\n",
    "                        race_concept_id IN (2100000001, 903096, 45882607, 1177221) ) )\n",
    "            )) measurement \n",
    "    LEFT JOIN\n",
    "        `\"\"\" + os.environ[\"WORKSPACE_CDR\"] + \"\"\".concept` m_standard_concept \n",
    "            ON measurement.measurement_concept_id = m_standard_concept.concept_id\"\"\"\n",
    "\n",
    "dataset_91352319_measurement_df = pd.read_gbq(\n",
    "    dataset_91352319_measurement_sql,\n",
    "    dialect=\"standard\",\n",
    "    use_bqstorage_api=(\"BIGQUERY_STORAGE_API_ENABLED\" in os.environ),\n",
    "    progress_bar_type=\"tqdm_notebook\")\n",
    "\n",
    "dataset_91352319_measurement_df.head(5)"
   ]
  },
  {
   "cell_type": "code",
   "execution_count": null,
   "metadata": {},
   "outputs": [],
   "source": [
    "labs_df = dataset_91352319_measurement_df.sort_values(by=['person_id', 'measurement_datetime'], ascending=[True, False])\n",
    "\n",
    "# Group by 'patient_id' and 'standard_concept_name', and keep the most recent measurement\n",
    "labs_df = labs_df.groupby(['person_id', 'standard_concept_name'], as_index=False).first()\n",
    "\n",
    "labs_df.head(5)"
   ]
  },
  {
   "cell_type": "code",
   "execution_count": null,
   "metadata": {},
   "outputs": [],
   "source": [
    "print(labs_df[['person_id', 'standard_concept_name', 'value_as_number']].isnull().sum())\n"
   ]
  },
  {
   "cell_type": "markdown",
   "metadata": {},
   "source": [
    "Some patients do not have a recorded value for their labs. We are going to drop these patients. "
   ]
  },
  {
   "cell_type": "code",
   "execution_count": null,
   "metadata": {},
   "outputs": [],
   "source": [
    "labs_df = labs_df.dropna(subset=['value_as_number'])\n"
   ]
  },
  {
   "cell_type": "code",
   "execution_count": null,
   "metadata": {},
   "outputs": [],
   "source": [
    "labs_df = labs_df.pivot(index='person_id', columns='standard_concept_name', values='value_as_number')"
   ]
  },
  {
   "cell_type": "code",
   "execution_count": null,
   "metadata": {},
   "outputs": [],
   "source": [
    "labs_df.columns.name = None \n",
    "labs_df = labs_df.reset_index()"
   ]
  },
  {
   "cell_type": "code",
   "execution_count": null,
   "metadata": {},
   "outputs": [],
   "source": [
    "labs_df"
   ]
  },
  {
   "cell_type": "markdown",
   "metadata": {},
   "source": [
    "##### Merging the lab data with the rest of our eligible participants. "
   ]
  },
  {
   "cell_type": "code",
   "execution_count": null,
   "metadata": {},
   "outputs": [],
   "source": [
    "ckd_features_df_3 = (\n",
    "   ckd_features_df_2.merge(labs_df, on=\"person_id\", how=\"left\")\n",
    ")"
   ]
  },
  {
   "cell_type": "code",
   "execution_count": null,
   "metadata": {},
   "outputs": [],
   "source": [
    "ckd_features_df_3"
   ]
  },
  {
   "cell_type": "code",
   "execution_count": null,
   "metadata": {},
   "outputs": [],
   "source": [
    "ckd_features_df_3.isna().sum()"
   ]
  },
  {
   "cell_type": "markdown",
   "metadata": {},
   "source": [
    "There are too many misisng glucose measurements, therefore these columns will be dropped. "
   ]
  },
  {
   "cell_type": "code",
   "execution_count": null,
   "metadata": {},
   "outputs": [],
   "source": [
    "ckd_features_df_3.drop(['Glucose mean value [Mass/volume] in Blood Estimated from glycated hemoglobin', 'Glucose mean value [Moles/volume] in Blood Estimated from glycated hemoglobin'], axis = 1)"
   ]
  },
  {
   "cell_type": "markdown",
   "metadata": {},
   "source": [
    "## Clean the BMI feature"
   ]
  },
  {
   "cell_type": "code",
   "execution_count": null,
   "metadata": {},
   "outputs": [],
   "source": [
    "ckd_features_df_3['Body mass index (BMI) [Ratio]'].max()"
   ]
  },
  {
   "cell_type": "markdown",
   "metadata": {},
   "source": [
    "It is not plausible for someone to have a BMI this high. Therefore, I'm going to make that person's BMI NA and anyone else who has a BMI of over 70. This is the highest value I would typically see when viewing BMI charts online. Then I will impute the mean for those patients. "
   ]
  },
  {
   "cell_type": "code",
   "execution_count": null,
   "metadata": {},
   "outputs": [],
   "source": [
    "import numpy as np\n",
    "ckd_features_df_3.loc[ckd_features_df_3['Body mass index (BMI) [Ratio]'] > 65, 'Body mass index (BMI) [Ratio]'] = np.nan\n"
   ]
  },
  {
   "cell_type": "code",
   "execution_count": null,
   "metadata": {},
   "outputs": [],
   "source": [
    "ckd_features_df_3['Body mass index (BMI) [Ratio]'].max()"
   ]
  },
  {
   "cell_type": "code",
   "execution_count": null,
   "metadata": {},
   "outputs": [],
   "source": [
    "ckd_features_df_3['Body mass index (BMI) [Ratio]'].hist()"
   ]
  },
  {
   "cell_type": "code",
   "execution_count": null,
   "metadata": {},
   "outputs": [],
   "source": [
    "ckd_features_df_3['Body mass index (BMI) [Ratio]'].describe()"
   ]
  },
  {
   "cell_type": "markdown",
   "metadata": {},
   "source": [
    "Having a BMI under 10 would be life threatening and I am assuming this is a data entry error. "
   ]
  },
  {
   "cell_type": "code",
   "execution_count": null,
   "metadata": {},
   "outputs": [],
   "source": [
    "ckd_features_df_3.loc[ckd_features_df_3['Body mass index (BMI) [Ratio]'] < 10, 'Body mass index (BMI) [Ratio]'] = np.nan\n"
   ]
  },
  {
   "cell_type": "markdown",
   "metadata": {},
   "source": [
    "While it appears some patients were outliers in the BMI categoreis, we can now impute the mean. I am going to impute the mean based on age group. For example, a patient with an NA BMI who is 18 will end up with a different imputed value than a patient who is 65.  "
   ]
  },
  {
   "cell_type": "code",
   "execution_count": null,
   "metadata": {
    "code_folding": []
   },
   "outputs": [],
   "source": [
    "# Calculate the mean BMI for each age group\n",
    "mean_bmi_by_age_group = ckd_features_df_3.groupby('Age_Group')['Body mass index (BMI) [Ratio]'].transform('mean')\n",
    "\n",
    "# Impute the missing BMI values with the mean of the corresponding age group\n",
    "ckd_features_df_3['Body mass index (BMI) [Ratio]'] = ckd_features_df_3['Body mass index (BMI) [Ratio]'].fillna(mean_bmi_by_age_group)"
   ]
  },
  {
   "cell_type": "code",
   "execution_count": null,
   "metadata": {},
   "outputs": [],
   "source": [
    "ckd_features_df_3['Body mass index (BMI) [Ratio]'].describe()"
   ]
  },
  {
   "cell_type": "code",
   "execution_count": null,
   "metadata": {},
   "outputs": [],
   "source": [
    "ckd_features_df_3.rename(columns={'Body mass index (BMI) [Ratio]': 'BMI'}, inplace=True)"
   ]
  },
  {
   "cell_type": "code",
   "execution_count": null,
   "metadata": {},
   "outputs": [],
   "source": [
    "ckd_features_df_3['BMI'].hist()"
   ]
  },
  {
   "cell_type": "markdown",
   "metadata": {},
   "source": [
    "## Cleaning systolic and diastolic blood pressure"
   ]
  },
  {
   "cell_type": "code",
   "execution_count": null,
   "metadata": {},
   "outputs": [],
   "source": [
    "ckd_features_df_4 = ckd_features_df_3.rename(columns= {'Diastolic blood pressure': 'dbp', 'Systolic blood pressure': 'sbp'})"
   ]
  },
  {
   "cell_type": "markdown",
   "metadata": {},
   "source": [
    "Visualizing diastolic blood pressure distribution"
   ]
  },
  {
   "cell_type": "code",
   "execution_count": null,
   "metadata": {},
   "outputs": [],
   "source": [
    "ckd_features_df_4['dbp'].hist()"
   ]
  },
  {
   "cell_type": "code",
   "execution_count": null,
   "metadata": {},
   "outputs": [],
   "source": [
    "ckd_features_df_4['dbp'].max()"
   ]
  },
  {
   "cell_type": "code",
   "execution_count": null,
   "metadata": {},
   "outputs": [],
   "source": [
    "ckd_features_df_4['dbp'].min()"
   ]
  },
  {
   "cell_type": "markdown",
   "metadata": {},
   "source": [
    "It would not be possible to have a diastolic blood pressure of 0. Anything below 30 would indicate a crisis. Additionally, anything over 180 would indicate a current life crisis. I will impute the mean by age group for any participants with readings like this. "
   ]
  },
  {
   "cell_type": "code",
   "execution_count": null,
   "metadata": {},
   "outputs": [],
   "source": [
    "ckd_features_df_4.loc[ckd_features_df_4['dbp'] < 30, 'dbp'] = np.nan\n"
   ]
  },
  {
   "cell_type": "code",
   "execution_count": null,
   "metadata": {},
   "outputs": [],
   "source": [
    "ckd_features_df_4.loc[ckd_features_df_4['dbp'] >180, 'dbp'] = np.nan\n"
   ]
  },
  {
   "cell_type": "code",
   "execution_count": null,
   "metadata": {},
   "outputs": [],
   "source": [
    "ckd_features_df_4['dbp'].isna().sum()"
   ]
  },
  {
   "cell_type": "code",
   "execution_count": null,
   "metadata": {},
   "outputs": [],
   "source": [
    "ckd_features_df_4['dbp'].min()"
   ]
  },
  {
   "cell_type": "code",
   "execution_count": null,
   "metadata": {},
   "outputs": [],
   "source": [
    "# Calculate the mean dbp for each age group\n",
    "mean_dbp_by_age_group = ckd_features_df_4.groupby('Age_Group')['dbp'].transform('mean')\n",
    "\n",
    "# Impute the missing dbp values with the mean of the corresponding age group\n",
    "ckd_features_df_4['dbp'] = ckd_features_df_4['dbp'].fillna(mean_dbp_by_age_group)"
   ]
  },
  {
   "cell_type": "code",
   "execution_count": null,
   "metadata": {},
   "outputs": [],
   "source": [
    "ckd_features_df_4['dbp'].hist()"
   ]
  },
  {
   "cell_type": "markdown",
   "metadata": {},
   "source": [
    "Beginning work on systolic blood pressure"
   ]
  },
  {
   "cell_type": "code",
   "execution_count": null,
   "metadata": {},
   "outputs": [],
   "source": [
    "ckd_features_df_4['sbp'].hist()"
   ]
  },
  {
   "cell_type": "code",
   "execution_count": null,
   "metadata": {},
   "outputs": [],
   "source": [
    "print(ckd_features_df_4['sbp'].min(), ckd_features_df_4['sbp'].max())\n"
   ]
  },
  {
   "cell_type": "markdown",
   "metadata": {},
   "source": [
    "Inserting NaN for implausible sbp and then imputing the mean by age group "
   ]
  },
  {
   "cell_type": "code",
   "execution_count": null,
   "metadata": {},
   "outputs": [],
   "source": [
    "ckd_features_df_4.loc[ckd_features_df_4['sbp'] < 40, 'sbp'] = np.nan\n",
    "ckd_features_df_4.loc[ckd_features_df_4['sbp'] > 250, 'sbp'] = np.nan\n"
   ]
  },
  {
   "cell_type": "code",
   "execution_count": null,
   "metadata": {},
   "outputs": [],
   "source": [
    "ckd_features_df_4['sbp'].isna().sum()"
   ]
  },
  {
   "cell_type": "code",
   "execution_count": null,
   "metadata": {},
   "outputs": [],
   "source": [
    "# Calculate the mean sbp for each age group\n",
    "mean_sbp_by_age_group = ckd_features_df_4.groupby('Age_Group')['sbp'].transform('mean')\n",
    "\n",
    "# Impute the missing sbp values with the mean of the corresponding age group\n",
    "ckd_features_df_4['sbp'] = ckd_features_df_4['sbp'].fillna(mean_sbp_by_age_group)"
   ]
  },
  {
   "cell_type": "code",
   "execution_count": null,
   "metadata": {},
   "outputs": [],
   "source": [
    "ckd_features_df_4['sbp'].hist()"
   ]
  },
  {
   "cell_type": "code",
   "execution_count": null,
   "metadata": {},
   "outputs": [],
   "source": [
    "print(ckd_features_df_4['sbp'].min(), ckd_features_df_4['sbp'].max())\n"
   ]
  },
  {
   "cell_type": "code",
   "execution_count": null,
   "metadata": {},
   "outputs": [],
   "source": [
    "ckd_features_df_5 = ckd_features_df_4.drop(columns = ['Glucose mean value [Mass/volume] in Blood Estimated from glycated hemoglobin', 'Glucose mean value [Moles/volume] in Blood Estimated from glycated hemoglobin'])"
   ]
  },
  {
   "cell_type": "markdown",
   "metadata": {},
   "source": [
    "## Importing lab data"
   ]
  },
  {
   "cell_type": "code",
   "execution_count": null,
   "metadata": {},
   "outputs": [],
   "source": [
    "# This query represents dataset \"ML Features- CKD\" for domain \"measurement\" and was generated for All of Us Controlled Tier Dataset v8\n",
    "dataset_35505870_measurement_sql = \"\"\"\n",
    "    SELECT\n",
    "        measurement.person_id,\n",
    "        m_standard_concept.concept_name as standard_concept_name,\n",
    "        measurement.measurement_datetime,\n",
    "        measurement.value_as_number,\n",
    "        m_unit.concept_name as unit_concept_name \n",
    "    FROM\n",
    "        ( SELECT\n",
    "            * \n",
    "        FROM\n",
    "            `\"\"\" + os.environ[\"WORKSPACE_CDR\"] + \"\"\".measurement` measurement \n",
    "        WHERE\n",
    "            (\n",
    "                measurement_concept_id IN (SELECT\n",
    "                    DISTINCT c.concept_id \n",
    "                FROM\n",
    "                    `\"\"\" + os.environ[\"WORKSPACE_CDR\"] + \"\"\".cb_criteria` c \n",
    "                JOIN\n",
    "                    (SELECT\n",
    "                        CAST(cr.id as string) AS id       \n",
    "                    FROM\n",
    "                        `\"\"\" + os.environ[\"WORKSPACE_CDR\"] + \"\"\".cb_criteria` cr       \n",
    "                    WHERE\n",
    "                        concept_id IN (3004501, 3013682, 3016723, 3019550, 3023103, 3024561)       \n",
    "                        AND full_text LIKE '%_rank1]%'      ) a \n",
    "                        ON (c.path LIKE CONCAT('%.', a.id, '.%') \n",
    "                        OR c.path LIKE CONCAT('%.', a.id) \n",
    "                        OR c.path LIKE CONCAT(a.id, '.%') \n",
    "                        OR c.path = a.id) \n",
    "                WHERE\n",
    "                    is_standard = 1 \n",
    "                    AND is_selectable = 1)\n",
    "            )  \n",
    "            AND (\n",
    "                measurement.PERSON_ID IN (SELECT\n",
    "                    distinct person_id  \n",
    "                FROM\n",
    "                    `\"\"\" + os.environ[\"WORKSPACE_CDR\"] + \"\"\".cb_search_person` cb_search_person  \n",
    "                WHERE\n",
    "                    cb_search_person.person_id IN (SELECT\n",
    "                        person_id \n",
    "                    FROM\n",
    "                        `\"\"\" + os.environ[\"WORKSPACE_CDR\"] + \"\"\".cb_search_person` p \n",
    "                    WHERE\n",
    "                        DATE_DIFF(CURRENT_DATE, dob, YEAR) - IF(EXTRACT(MONTH FROM dob)*100 + EXTRACT(DAY FROM dob) > EXTRACT(MONTH FROM CURRENT_DATE)*100 + EXTRACT(DAY FROM CURRENT_DATE), 1, 0) BETWEEN 18 AND 124 \n",
    "                        AND NOT EXISTS (      SELECT\n",
    "                            'x'      \n",
    "                        FROM\n",
    "                            `\"\"\" + os.environ[\"WORKSPACE_CDR\"] + \"\"\".death` d      \n",
    "                        WHERE\n",
    "                            d.person_id = p.person_id ) ) \n",
    "                    AND cb_search_person.person_id IN (SELECT\n",
    "                        person_id \n",
    "                    FROM\n",
    "                        `\"\"\" + os.environ[\"WORKSPACE_CDR\"] + \"\"\".cb_search_person` p \n",
    "                    WHERE\n",
    "                        has_ehr_data = 1 ) \n",
    "                    AND cb_search_person.person_id IN (SELECT\n",
    "                        person_id \n",
    "                    FROM\n",
    "                        `\"\"\" + os.environ[\"WORKSPACE_CDR\"] + \"\"\".cb_search_person` p \n",
    "                    WHERE\n",
    "                        has_whole_genome_variant = 1 ) \n",
    "                    AND cb_search_person.person_id IN (SELECT\n",
    "                        person_id \n",
    "                    FROM\n",
    "                        `\"\"\" + os.environ[\"WORKSPACE_CDR\"] + \"\"\".cb_search_person` p \n",
    "                    WHERE\n",
    "                        DATE_DIFF(CURRENT_DATE, dob, YEAR) - IF(EXTRACT(MONTH FROM dob)*100 + EXTRACT(DAY FROM dob) > EXTRACT(MONTH FROM CURRENT_DATE)*100 + EXTRACT(DAY FROM CURRENT_DATE), 1, 0) BETWEEN 18 AND 100 \n",
    "                        AND NOT EXISTS (      SELECT\n",
    "                            'x'      \n",
    "                        FROM\n",
    "                            `\"\"\" + os.environ[\"WORKSPACE_CDR\"] + \"\"\".death` d      \n",
    "                        WHERE\n",
    "                            d.person_id = p.person_id ) ) \n",
    "                    AND cb_search_person.person_id IN (SELECT\n",
    "                        criteria.person_id \n",
    "                    FROM\n",
    "                        (SELECT\n",
    "                            DISTINCT person_id, entry_date, concept_id \n",
    "                        FROM\n",
    "                            `\"\"\" + os.environ[\"WORKSPACE_CDR\"] + \"\"\".cb_search_all_events` \n",
    "                        WHERE\n",
    "                            (concept_id IN (3038553) \n",
    "                            AND is_standard = 1 )) criteria ) \n",
    "                    AND cb_search_person.person_id IN (SELECT\n",
    "                        criteria.person_id \n",
    "                    FROM\n",
    "                        (SELECT\n",
    "                            DISTINCT person_id, entry_date, concept_id \n",
    "                        FROM\n",
    "                            `\"\"\" + os.environ[\"WORKSPACE_CDR\"] + \"\"\".cb_search_all_events` \n",
    "                        WHERE\n",
    "                            (concept_id IN(SELECT\n",
    "                                DISTINCT c.concept_id \n",
    "                            FROM\n",
    "                                `\"\"\" + os.environ[\"WORKSPACE_CDR\"] + \"\"\".cb_criteria` c \n",
    "                            JOIN\n",
    "                                (SELECT\n",
    "                                    CAST(cr.id as string) AS id       \n",
    "                                FROM\n",
    "                                    `\"\"\" + os.environ[\"WORKSPACE_CDR\"] + \"\"\".cb_criteria` cr       \n",
    "                                WHERE\n",
    "                                    concept_id IN (1585952, 1585940, 1585723, 1585375, 1585723, 1585729, 1585386, 1585952, 1585375, 1585952, 1585375, 1585375, 1585892, 1585892, 1585375, 1585940, 1585952, 1585855, 1585729, 1585375, 1740639, 1585940, 1585952, 1585375, 1585375, 1585729, 43528895, 1585723, 1585723, 1585892, 1585940, 1585892, 1585386, 1585386, 40192389, 1585729, 1585892, 1585375, 1585723, 1585952, 1585940, 1586134, 1585940, 1585386, 1585710, 1585729, 1585892, 1585892, 1585940, 1585952, 1585940, 1585940, 1585729, 1585892, 1585952, 1585940, 1585892, 1585723, 1585723, 1585729, 1585729, 1585386, 1585952, 1585375, 1585952, 1585940, 1585952, 1585386, 1585375, 1585375)       \n",
    "                                    AND full_text LIKE '%_rank1]%'      ) a \n",
    "                                    ON (c.path LIKE CONCAT('%.', a.id, '.%') \n",
    "                                    OR c.path LIKE CONCAT('%.', a.id) \n",
    "                                    OR c.path LIKE CONCAT(a.id, '.%') \n",
    "                                    OR c.path = a.id) \n",
    "                            WHERE\n",
    "                                is_standard = 0 \n",
    "                                AND is_selectable = 1) \n",
    "                            AND is_standard = 0 )) criteria ) \n",
    "                    AND cb_search_person.person_id IN (SELECT\n",
    "                        criteria.person_id \n",
    "                    FROM\n",
    "                        (SELECT\n",
    "                            DISTINCT person_id, entry_date, concept_id \n",
    "                        FROM\n",
    "                            `\"\"\" + os.environ[\"WORKSPACE_CDR\"] + \"\"\".cb_search_all_events` \n",
    "                        WHERE\n",
    "                            (concept_id IN (3027018) \n",
    "                            AND is_standard = 1 )) criteria ) \n",
    "                    AND cb_search_person.person_id IN (SELECT\n",
    "                        criteria.person_id \n",
    "                    FROM\n",
    "                        (SELECT\n",
    "                            DISTINCT person_id, entry_date, concept_id \n",
    "                        FROM\n",
    "                            `\"\"\" + os.environ[\"WORKSPACE_CDR\"] + \"\"\".cb_search_all_events` \n",
    "                        WHERE\n",
    "                            (concept_id IN (903118, 903115) \n",
    "                            AND is_standard = 0 )) criteria ) \n",
    "                    AND cb_search_person.person_id IN (SELECT\n",
    "                        criteria.person_id \n",
    "                    FROM\n",
    "                        (SELECT\n",
    "                            DISTINCT person_id, entry_date, concept_id \n",
    "                        FROM\n",
    "                            `\"\"\" + os.environ[\"WORKSPACE_CDR\"] + \"\"\".cb_search_all_events` \n",
    "                        WHERE\n",
    "                            (concept_id IN (3013682) \n",
    "                            AND is_standard = 1 )) criteria ) \n",
    "                    AND cb_search_person.person_id IN (SELECT\n",
    "                        criteria.person_id \n",
    "                    FROM\n",
    "                        (SELECT\n",
    "                            DISTINCT person_id, entry_date, concept_id \n",
    "                        FROM\n",
    "                            `\"\"\" + os.environ[\"WORKSPACE_CDR\"] + \"\"\".cb_search_all_events` \n",
    "                        WHERE\n",
    "                            (concept_id IN (3004501) \n",
    "                            AND is_standard = 1 )) criteria ) \n",
    "                    AND cb_search_person.person_id IN (SELECT\n",
    "                        criteria.person_id \n",
    "                    FROM\n",
    "                        (SELECT\n",
    "                            DISTINCT person_id, entry_date, concept_id \n",
    "                        FROM\n",
    "                            `\"\"\" + os.environ[\"WORKSPACE_CDR\"] + \"\"\".cb_search_all_events` \n",
    "                        WHERE\n",
    "                            (concept_id IN (3019550) \n",
    "                            AND is_standard = 1 )) criteria ) \n",
    "                    AND cb_search_person.person_id IN (SELECT\n",
    "                        criteria.person_id \n",
    "                    FROM\n",
    "                        (SELECT\n",
    "                            DISTINCT person_id, entry_date, concept_id \n",
    "                        FROM\n",
    "                            `\"\"\" + os.environ[\"WORKSPACE_CDR\"] + \"\"\".cb_search_all_events` \n",
    "                        WHERE\n",
    "                            (concept_id IN (3023103) \n",
    "                            AND is_standard = 1 )) criteria ) \n",
    "                    AND cb_search_person.person_id NOT IN (SELECT\n",
    "                        criteria.person_id \n",
    "                    FROM\n",
    "                        (SELECT\n",
    "                            DISTINCT person_id, entry_date, concept_id \n",
    "                        FROM\n",
    "                            `\"\"\" + os.environ[\"WORKSPACE_CDR\"] + \"\"\".cb_search_all_events` \n",
    "                        WHERE\n",
    "                            (concept_id IN(SELECT\n",
    "                                DISTINCT c.concept_id \n",
    "                            FROM\n",
    "                                `\"\"\" + os.environ[\"WORKSPACE_CDR\"] + \"\"\".cb_criteria` c \n",
    "                            JOIN\n",
    "                                (SELECT\n",
    "                                    CAST(cr.id as string) AS id       \n",
    "                                FROM\n",
    "                                    `\"\"\" + os.environ[\"WORKSPACE_CDR\"] + \"\"\".cb_criteria` cr       \n",
    "                                WHERE\n",
    "                                    concept_id IN (443392)       \n",
    "                                    AND full_text LIKE '%_rank1]%'      ) a \n",
    "                                    ON (c.path LIKE CONCAT('%.', a.id, '.%') \n",
    "                                    OR c.path LIKE CONCAT('%.', a.id) \n",
    "                                    OR c.path LIKE CONCAT(a.id, '.%') \n",
    "                                    OR c.path = a.id) \n",
    "                            WHERE\n",
    "                                is_standard = 1 \n",
    "                                AND is_selectable = 1) \n",
    "                            AND is_standard = 1 )) criteria ) \n",
    "                    AND cb_search_person.person_id NOT IN (SELECT\n",
    "                        person_id \n",
    "                    FROM\n",
    "                        `\"\"\" + os.environ[\"WORKSPACE_CDR\"] + \"\"\".person` p \n",
    "                    WHERE\n",
    "                        ethnicity_concept_id IN (903079, 0, 903096, 1586148) ) \n",
    "                    AND cb_search_person.person_id NOT IN (SELECT\n",
    "                        person_id \n",
    "                    FROM\n",
    "                        `\"\"\" + os.environ[\"WORKSPACE_CDR\"] + \"\"\".person` p \n",
    "                    WHERE\n",
    "                        sex_at_birth_concept_id IN (903096, 1177221, 0, 1585849, 46273637) ) \n",
    "                    AND cb_search_person.person_id NOT IN (SELECT\n",
    "                        person_id \n",
    "                    FROM\n",
    "                        `\"\"\" + os.environ[\"WORKSPACE_CDR\"] + \"\"\".person` p \n",
    "                    WHERE\n",
    "                        race_concept_id IN (2100000001, 903096, 45882607, 1177221) ) )\n",
    "            )) measurement \n",
    "    LEFT JOIN\n",
    "        `\"\"\" + os.environ[\"WORKSPACE_CDR\"] + \"\"\".concept` m_standard_concept \n",
    "            ON measurement.measurement_concept_id = m_standard_concept.concept_id \n",
    "    LEFT JOIN\n",
    "        `\"\"\" + os.environ[\"WORKSPACE_CDR\"] + \"\"\".concept` m_unit \n",
    "            ON measurement.unit_concept_id = m_unit.concept_id\"\"\"\n",
    "\n",
    "dataset_35505870_measurement_df = pd.read_gbq(\n",
    "    dataset_35505870_measurement_sql,\n",
    "    dialect=\"standard\",\n",
    "    use_bqstorage_api=(\"BIGQUERY_STORAGE_API_ENABLED\" in os.environ),\n",
    "    progress_bar_type=\"tqdm_notebook\")\n",
    "\n",
    "dataset_35505870_measurement_df.head(5)"
   ]
  },
  {
   "cell_type": "code",
   "execution_count": null,
   "metadata": {},
   "outputs": [],
   "source": [
    "labs2_df = dataset_35505870_measurement_df.sort_values(by=['person_id', 'measurement_datetime'], ascending=[True, False])\n",
    "\n",
    "# Group by 'patient_id' and 'standard_concept_name', and keep the most recent measurement\n",
    "labs2_df = labs2_df.groupby(['person_id', 'standard_concept_name'], as_index=False).first()\n",
    "\n",
    "labs2_df.head(5)"
   ]
  },
  {
   "cell_type": "code",
   "execution_count": null,
   "metadata": {},
   "outputs": [],
   "source": [
    "print(labs2_df[['person_id', 'standard_concept_name', 'value_as_number']].isnull().sum())\n"
   ]
  },
  {
   "cell_type": "markdown",
   "metadata": {},
   "source": [
    "Drop the patients who don't have recorded lab values"
   ]
  },
  {
   "cell_type": "code",
   "execution_count": null,
   "metadata": {},
   "outputs": [],
   "source": [
    "labs2_df = labs2_df.dropna(subset=['value_as_number'])"
   ]
  },
  {
   "cell_type": "markdown",
   "metadata": {},
   "source": [
    "### Apply correct units for each of my lab measurements. Converting any that are different "
   ]
  },
  {
   "cell_type": "markdown",
   "metadata": {},
   "source": [
    "Some of our lab measurements have different units. Unless otherwise labeled, I'm assuming (according to the all of us data browser)\n",
    "- albumin in grams/deciliter\n",
    "- creatinine in milligrams/deciliter\n",
    "- glucose in milligrams/deciliter\n",
    "- potassium in millimole per liter\n",
    "- sodium in millimole per liter\n"
   ]
  },
  {
   "cell_type": "code",
   "execution_count": null,
   "metadata": {},
   "outputs": [],
   "source": [
    "unique_albumin_units = labs2_df[labs2_df['standard_concept_name'] == 'Albumin [Mass/volume] in Serum or Plasma']['unit_concept_name'].unique()\n",
    "print(unique_albumin_units)"
   ]
  },
  {
   "cell_type": "code",
   "execution_count": null,
   "metadata": {},
   "outputs": [],
   "source": [
    "albumin_mask = (labs2_df['standard_concept_name'] == 'Albumin [Mass/volume] in Serum or Plasma') & (labs2_df['unit_concept_name'] == 'milligram per milliliter')\n",
    "labs2_df.loc[albumin_mask, 'value_as_number'] = labs2_df.loc[albumin_mask, 'value_as_number'] / 1000"
   ]
  },
  {
   "cell_type": "code",
   "execution_count": null,
   "metadata": {},
   "outputs": [],
   "source": [
    "albumin_mask = (labs2_df['standard_concept_name'] == 'Albumin [Mass/volume] in Serum or Plasma') & (labs2_df['unit_concept_name'] == 'no value')\n",
    "labs2_df.loc[albumin_mask, 'value_as_number'] = labs2_df.loc[albumin_mask, 'value_as_number'] / 10"
   ]
  },
  {
   "cell_type": "code",
   "execution_count": null,
   "metadata": {},
   "outputs": [],
   "source": [
    "albumin_mask = (labs2_df['standard_concept_name'] == 'Albumin [Mass/volume] in Serum or Plasma') & (labs2_df['unit_concept_name'] == 'gram per liter')\n",
    "labs2_df.loc[albumin_mask, 'value_as_number'] = labs2_df.loc[albumin_mask, 'value_as_number'] / 10"
   ]
  },
  {
   "cell_type": "code",
   "execution_count": null,
   "metadata": {},
   "outputs": [],
   "source": [
    "unique_creatinine_units = labs2_df[labs2_df['standard_concept_name'] == 'Creatinine [Mass/volume] in Serum or Plasma']['unit_concept_name'].unique()\n",
    "print(unique_creatinine_units)"
   ]
  },
  {
   "cell_type": "markdown",
   "metadata": {},
   "source": [
    "I investigated all of the following values by unit label and they are the same unit. \n",
    "Unclear why some are labeled differently, but I am basing this decision on realistic lab measurements"
   ]
  },
  {
   "cell_type": "code",
   "execution_count": null,
   "metadata": {},
   "outputs": [],
   "source": [
    "unique_glucose_units = labs2_df[labs2_df['standard_concept_name'] == 'Glucose [Mass/volume] in Serum or Plasma']['unit_concept_name'].unique()\n",
    "print(unique_glucose_units)"
   ]
  },
  {
   "cell_type": "code",
   "execution_count": null,
   "metadata": {},
   "outputs": [],
   "source": [
    "unique_potassium_units = labs2_df[labs2_df['standard_concept_name'] == 'Potassium [Moles/volume] in Serum or Plasma']['unit_concept_name'].unique()\n",
    "print(unique_potassium_units)"
   ]
  },
  {
   "cell_type": "code",
   "execution_count": null,
   "metadata": {},
   "outputs": [],
   "source": [
    "unique_sodium_units = labs2_df[labs2_df['standard_concept_name'] == 'Sodium [Moles/volume] in Serum or Plasma']['unit_concept_name'].unique()\n",
    "print(unique_sodium_units)"
   ]
  },
  {
   "cell_type": "code",
   "execution_count": null,
   "metadata": {},
   "outputs": [],
   "source": [
    "labs2_df = labs2_df.pivot(index='person_id', columns='standard_concept_name', values='value_as_number')"
   ]
  },
  {
   "cell_type": "code",
   "execution_count": null,
   "metadata": {},
   "outputs": [],
   "source": [
    "labs2_df.columns.name = None \n",
    "labs2_df = labs2_df.reset_index()"
   ]
  },
  {
   "cell_type": "markdown",
   "metadata": {},
   "source": [
    "Merging the new lab values with the rest of the features"
   ]
  },
  {
   "cell_type": "code",
   "execution_count": null,
   "metadata": {},
   "outputs": [],
   "source": [
    "ckd_features_df_5 = (\n",
    "   ckd_features_df_5.merge(labs2_df, on=\"person_id\", how=\"left\")\n",
    ")"
   ]
  },
  {
   "cell_type": "code",
   "execution_count": null,
   "metadata": {},
   "outputs": [],
   "source": [
    "ckd_features_df_5.count()"
   ]
  },
  {
   "cell_type": "markdown",
   "metadata": {},
   "source": [
    "### Glucose "
   ]
  },
  {
   "cell_type": "code",
   "execution_count": null,
   "metadata": {},
   "outputs": [],
   "source": [
    "ckd_features_df_5.rename(columns={'Glucose [Mass/volume] in Serum or Plasma': 'Glucose'}, inplace=True)"
   ]
  },
  {
   "cell_type": "code",
   "execution_count": null,
   "metadata": {},
   "outputs": [],
   "source": [
    "ckd_features_df_5['Glucose'].hist()"
   ]
  },
  {
   "cell_type": "code",
   "execution_count": null,
   "metadata": {},
   "outputs": [],
   "source": [
    "ckd_features_df_5.loc[ckd_features_df_5['Glucose'] > 400, 'Glucose'] = np.nan\n",
    "ckd_features_df_5.loc[ckd_features_df_5['Glucose'] < 40, 'Glucose'] = np.nan"
   ]
  },
  {
   "cell_type": "code",
   "execution_count": null,
   "metadata": {},
   "outputs": [],
   "source": [
    "ckd_features_df_5['Glucose'].hist()"
   ]
  },
  {
   "cell_type": "code",
   "execution_count": null,
   "metadata": {},
   "outputs": [],
   "source": [
    "ckd_features_df_5['Glucose'].isna().sum()"
   ]
  },
  {
   "cell_type": "code",
   "execution_count": null,
   "metadata": {},
   "outputs": [],
   "source": [
    "# Calculate the mean glucose for each age group\n",
    "mean_glucose_by_age_group = ckd_features_df_5.groupby('Age_Group')['Glucose'].transform('mean')\n",
    "\n",
    "# Impute the missing glucose values with the mean of the corresponding age group\n",
    "ckd_features_df_5['Glucose'] = ckd_features_df_5['Glucose'].fillna(mean_glucose_by_age_group)"
   ]
  },
  {
   "cell_type": "code",
   "execution_count": null,
   "metadata": {},
   "outputs": [],
   "source": [
    "ckd_features_df_5['Glucose'].describe()"
   ]
  },
  {
   "cell_type": "markdown",
   "metadata": {},
   "source": [
    "### Potassium"
   ]
  },
  {
   "cell_type": "code",
   "execution_count": null,
   "metadata": {},
   "outputs": [],
   "source": [
    "ckd_features_df_5.rename(columns={'Potassium [Moles/volume] in Serum or Plasma': 'Potassium'}, inplace=True)"
   ]
  },
  {
   "cell_type": "code",
   "execution_count": null,
   "metadata": {},
   "outputs": [],
   "source": [
    "ckd_features_df_5['Potassium'].hist()"
   ]
  },
  {
   "cell_type": "code",
   "execution_count": null,
   "metadata": {},
   "outputs": [],
   "source": [
    "ckd_features_df_5.loc[ckd_features_df_5['Potassium'] > 7, 'Potassium'] = np.nan\n",
    "ckd_features_df_5.loc[ckd_features_df_5['Potassium'] < 2.5, 'Potassium'] = np.nan"
   ]
  },
  {
   "cell_type": "code",
   "execution_count": null,
   "metadata": {},
   "outputs": [],
   "source": [
    "ckd_features_df_5['Potassium'].hist()"
   ]
  },
  {
   "cell_type": "code",
   "execution_count": null,
   "metadata": {},
   "outputs": [],
   "source": [
    "# Calculate the mean potassium for each age group\n",
    "mean_potassium_by_age_group = ckd_features_df_5.groupby('Age_Group')['Potassium'].transform('mean')\n",
    "\n",
    "# Impute the missing potassium values with the mean of the corresponding age group\n",
    "ckd_features_df_5['Potassium'] = ckd_features_df_5['Potassium'].fillna(mean_potassium_by_age_group)"
   ]
  },
  {
   "cell_type": "code",
   "execution_count": null,
   "metadata": {},
   "outputs": [],
   "source": [
    "ckd_features_df_5['Potassium'].describe()"
   ]
  },
  {
   "cell_type": "code",
   "execution_count": null,
   "metadata": {},
   "outputs": [],
   "source": [
    "sns.histplot(ckd_features_df_5['Potassium']);"
   ]
  },
  {
   "cell_type": "markdown",
   "metadata": {},
   "source": [
    "### Sodium"
   ]
  },
  {
   "cell_type": "code",
   "execution_count": null,
   "metadata": {},
   "outputs": [],
   "source": [
    "ckd_features_df_5.rename(columns={'Sodium [Moles/volume] in Serum or Plasma': 'Sodium'}, inplace=True)"
   ]
  },
  {
   "cell_type": "code",
   "execution_count": null,
   "metadata": {},
   "outputs": [],
   "source": [
    "ckd_features_df_5['Sodium'].hist()"
   ]
  },
  {
   "cell_type": "code",
   "execution_count": null,
   "metadata": {},
   "outputs": [],
   "source": [
    "ckd_features_df_5['Sodium'].min()"
   ]
  },
  {
   "cell_type": "code",
   "execution_count": null,
   "metadata": {},
   "outputs": [],
   "source": [
    "ckd_features_df_5['Sodium'].max()"
   ]
  },
  {
   "cell_type": "code",
   "execution_count": null,
   "metadata": {},
   "outputs": [],
   "source": [
    "ckd_features_df_5.loc[ckd_features_df_5['Sodium'] > 170, 'Sodium'] = np.nan\n",
    "ckd_features_df_5.loc[ckd_features_df_5['Sodium'] < 115, 'Sodium'] = np.nan"
   ]
  },
  {
   "cell_type": "code",
   "execution_count": null,
   "metadata": {},
   "outputs": [],
   "source": [
    "# Calculate the mean sodium for each age group\n",
    "mean_sodium_by_age_group = ckd_features_df_5.groupby('Age_Group')['Sodium'].transform('mean')\n",
    "\n",
    "# Impute the missing sodium values with the mean of the corresponding age group\n",
    "ckd_features_df_5['Sodium'] = ckd_features_df_5['Sodium'].fillna(mean_sodium_by_age_group)"
   ]
  },
  {
   "cell_type": "code",
   "execution_count": null,
   "metadata": {},
   "outputs": [],
   "source": [
    "sns.histplot(ckd_features_df_5['Sodium']);"
   ]
  },
  {
   "cell_type": "markdown",
   "metadata": {},
   "source": [
    "### Urea Nitrogen"
   ]
  },
  {
   "cell_type": "code",
   "execution_count": null,
   "metadata": {},
   "outputs": [],
   "source": [
    "ckd_features_df_5.rename(columns={'Urea nitrogen [Mass/volume] in Serum or Plasma': 'Urea'}, inplace=True)"
   ]
  },
  {
   "cell_type": "code",
   "execution_count": null,
   "metadata": {},
   "outputs": [],
   "source": [
    "ckd_features_df_5['Urea'].hist()"
   ]
  },
  {
   "cell_type": "code",
   "execution_count": null,
   "metadata": {},
   "outputs": [],
   "source": [
    "ckd_features_df_5.loc[ckd_features_df_5['Urea'] > 60, 'Urea'] = np.nan\n",
    "ckd_features_df_5.loc[ckd_features_df_5['Urea'] < 5, 'Urea'] = np.nan"
   ]
  },
  {
   "cell_type": "code",
   "execution_count": null,
   "metadata": {},
   "outputs": [],
   "source": [
    "ckd_features_df_5['Urea'].isna().sum()"
   ]
  },
  {
   "cell_type": "code",
   "execution_count": null,
   "metadata": {},
   "outputs": [],
   "source": [
    "# Calculate the mean BUN for each age group\n",
    "mean_bun_by_age_group = ckd_features_df_5.groupby('Age_Group')['Urea'].transform('mean')\n",
    "\n",
    "# Impute the missing BUN values with the mean of the corresponding age group\n",
    "ckd_features_df_5['Urea'] = ckd_features_df_5['Urea'].fillna(mean_bun_by_age_group)"
   ]
  },
  {
   "cell_type": "code",
   "execution_count": null,
   "metadata": {},
   "outputs": [],
   "source": [
    "sns.histplot(ckd_features_df_5['Urea']);"
   ]
  },
  {
   "cell_type": "markdown",
   "metadata": {},
   "source": [
    "### Creatinine"
   ]
  },
  {
   "cell_type": "code",
   "execution_count": null,
   "metadata": {},
   "outputs": [],
   "source": [
    "ckd_features_df_5.rename(columns={'Creatinine [Mass/volume] in Serum or Plasma': 'Creatinine'}, inplace=True)"
   ]
  },
  {
   "cell_type": "code",
   "execution_count": null,
   "metadata": {},
   "outputs": [],
   "source": [
    "ckd_features_df_5['Creatinine'].hist()"
   ]
  },
  {
   "cell_type": "code",
   "execution_count": null,
   "metadata": {},
   "outputs": [],
   "source": [
    "ckd_features_df_5['Creatinine'].min()"
   ]
  },
  {
   "cell_type": "code",
   "execution_count": null,
   "metadata": {},
   "outputs": [],
   "source": [
    "ckd_features_df_5['Creatinine'].max()"
   ]
  },
  {
   "cell_type": "code",
   "execution_count": null,
   "metadata": {},
   "outputs": [],
   "source": [
    "ckd_features_df_5.loc[ckd_features_df_5['Creatinine'] > 2.5, 'Creatinine'] = np.nan\n",
    "ckd_features_df_5.loc[ckd_features_df_5['Creatinine'] < 0.1, 'Creatinine'] = np.nan"
   ]
  },
  {
   "cell_type": "code",
   "execution_count": null,
   "metadata": {},
   "outputs": [],
   "source": [
    "# Calculate the mean creatinine for each age group\n",
    "mean_creatinine_by_age_group = ckd_features_df_5.groupby('Age_Group')['Creatinine'].transform('mean')\n",
    "\n",
    "# Impute the missing creatinine values with the mean of the corresponding age group\n",
    "ckd_features_df_5['Creatinine'] = ckd_features_df_5['Creatinine'].fillna(mean_creatinine_by_age_group)"
   ]
  },
  {
   "cell_type": "code",
   "execution_count": null,
   "metadata": {},
   "outputs": [],
   "source": [
    "sns.histplot(ckd_features_df_5['Creatinine']);"
   ]
  },
  {
   "cell_type": "markdown",
   "metadata": {},
   "source": [
    "### Albumin"
   ]
  },
  {
   "cell_type": "code",
   "execution_count": null,
   "metadata": {},
   "outputs": [],
   "source": [
    "ckd_features_df_5.rename(columns={'Albumin [Mass/volume] in Serum or Plasma': 'Albumin'}, inplace=True)"
   ]
  },
  {
   "cell_type": "code",
   "execution_count": null,
   "metadata": {},
   "outputs": [],
   "source": [
    "ckd_features_df_5['Albumin'].hist()"
   ]
  },
  {
   "cell_type": "code",
   "execution_count": null,
   "metadata": {},
   "outputs": [],
   "source": [
    "ckd_features_df_5['Albumin'].min()"
   ]
  },
  {
   "cell_type": "code",
   "execution_count": null,
   "metadata": {},
   "outputs": [],
   "source": [
    "ckd_features_df_5['Albumin'].max()"
   ]
  },
  {
   "cell_type": "code",
   "execution_count": null,
   "metadata": {},
   "outputs": [],
   "source": [
    "ckd_features_df_5.loc[ckd_features_df_5['Albumin'] > 7, 'Albumin'] = np.nan\n",
    "ckd_features_df_5.loc[ckd_features_df_5['Albumin'] < 1, 'Albumin'] = np.nan"
   ]
  },
  {
   "cell_type": "code",
   "execution_count": null,
   "metadata": {},
   "outputs": [],
   "source": [
    "# Calculate the mean Albumin for each age group\n",
    "mean_albumin_by_age_group = ckd_features_df_5.groupby('Age_Group')['Albumin'].transform('mean')\n",
    "\n",
    "# Impute the missing Albumin values with the mean of the corresponding age group\n",
    "ckd_features_df_5['Albumin'] = ckd_features_df_5['Albumin'].fillna(mean_albumin_by_age_group)"
   ]
  },
  {
   "cell_type": "code",
   "execution_count": null,
   "metadata": {},
   "outputs": [],
   "source": [
    "ckd_features_df_5['Albumin'].hist()"
   ]
  },
  {
   "cell_type": "markdown",
   "metadata": {},
   "source": [
    "## Importing Lifestyle Data"
   ]
  },
  {
   "cell_type": "code",
   "execution_count": null,
   "metadata": {},
   "outputs": [],
   "source": [
    "# This query represents dataset \"ML Features- CKD\" for domain \"survey\" and was generated for All of Us Controlled Tier Dataset v8\n",
    "dataset_65281885_survey_sql = \"\"\"\n",
    "    SELECT\n",
    "        answer.person_id,\n",
    "        answer.survey_datetime,\n",
    "        answer.survey,\n",
    "        answer.question_concept_id,\n",
    "        answer.question,\n",
    "        answer.answer_concept_id,\n",
    "        answer.answer,\n",
    "        answer.survey_version_concept_id,\n",
    "        answer.survey_version_name  \n",
    "    FROM\n",
    "        `\"\"\" + os.environ[\"WORKSPACE_CDR\"] + \"\"\".ds_survey` answer   \n",
    "    WHERE\n",
    "        (\n",
    "            question_concept_id IN (SELECT\n",
    "                DISTINCT concept_id                         \n",
    "            FROM\n",
    "                `\"\"\" + os.environ[\"WORKSPACE_CDR\"] + \"\"\".cb_criteria` c                         \n",
    "            JOIN\n",
    "                (SELECT\n",
    "                    CAST(cr.id as string) AS id                               \n",
    "                FROM\n",
    "                    `\"\"\" + os.environ[\"WORKSPACE_CDR\"] + \"\"\".cb_criteria` cr                               \n",
    "                WHERE\n",
    "                    concept_id IN (1585855)                               \n",
    "                    AND domain_id = 'SURVEY') a \n",
    "                    ON (c.path like CONCAT('%', a.id, '.%'))                         \n",
    "            WHERE\n",
    "                domain_id = 'SURVEY'                         \n",
    "                AND type = 'PPI'                         \n",
    "                AND subtype = 'QUESTION')\n",
    "        )  \n",
    "        AND (\n",
    "            answer.PERSON_ID IN (SELECT\n",
    "                distinct person_id  \n",
    "            FROM\n",
    "                `\"\"\" + os.environ[\"WORKSPACE_CDR\"] + \"\"\".cb_search_person` cb_search_person  \n",
    "            WHERE\n",
    "                cb_search_person.person_id IN (SELECT\n",
    "                    person_id \n",
    "                FROM\n",
    "                    `\"\"\" + os.environ[\"WORKSPACE_CDR\"] + \"\"\".cb_search_person` p \n",
    "                WHERE\n",
    "                    DATE_DIFF(CURRENT_DATE, dob, YEAR) - IF(EXTRACT(MONTH FROM dob)*100 + EXTRACT(DAY FROM dob) > EXTRACT(MONTH FROM CURRENT_DATE)*100 + EXTRACT(DAY FROM CURRENT_DATE), 1, 0) BETWEEN 18 AND 124 \n",
    "                    AND NOT EXISTS (      SELECT\n",
    "                        'x'      \n",
    "                    FROM\n",
    "                        `\"\"\" + os.environ[\"WORKSPACE_CDR\"] + \"\"\".death` d      \n",
    "                    WHERE\n",
    "                        d.person_id = p.person_id ) ) \n",
    "                AND cb_search_person.person_id IN (SELECT\n",
    "                    person_id \n",
    "                FROM\n",
    "                    `\"\"\" + os.environ[\"WORKSPACE_CDR\"] + \"\"\".cb_search_person` p \n",
    "                WHERE\n",
    "                    has_ehr_data = 1 ) \n",
    "                AND cb_search_person.person_id IN (SELECT\n",
    "                    person_id \n",
    "                FROM\n",
    "                    `\"\"\" + os.environ[\"WORKSPACE_CDR\"] + \"\"\".cb_search_person` p \n",
    "                WHERE\n",
    "                    has_whole_genome_variant = 1 ) \n",
    "                AND cb_search_person.person_id IN (SELECT\n",
    "                    person_id \n",
    "                FROM\n",
    "                    `\"\"\" + os.environ[\"WORKSPACE_CDR\"] + \"\"\".cb_search_person` p \n",
    "                WHERE\n",
    "                    DATE_DIFF(CURRENT_DATE, dob, YEAR) - IF(EXTRACT(MONTH FROM dob)*100 + EXTRACT(DAY FROM dob) > EXTRACT(MONTH FROM CURRENT_DATE)*100 + EXTRACT(DAY FROM CURRENT_DATE), 1, 0) BETWEEN 18 AND 100 \n",
    "                    AND NOT EXISTS (      SELECT\n",
    "                        'x'      \n",
    "                    FROM\n",
    "                        `\"\"\" + os.environ[\"WORKSPACE_CDR\"] + \"\"\".death` d      \n",
    "                    WHERE\n",
    "                        d.person_id = p.person_id ) ) \n",
    "                AND cb_search_person.person_id IN (SELECT\n",
    "                    criteria.person_id \n",
    "                FROM\n",
    "                    (SELECT\n",
    "                        DISTINCT person_id, entry_date, concept_id \n",
    "                    FROM\n",
    "                        `\"\"\" + os.environ[\"WORKSPACE_CDR\"] + \"\"\".cb_search_all_events` \n",
    "                    WHERE\n",
    "                        (concept_id IN (3038553) \n",
    "                        AND is_standard = 1 )) criteria ) \n",
    "                AND cb_search_person.person_id IN (SELECT\n",
    "                    criteria.person_id \n",
    "                FROM\n",
    "                    (SELECT\n",
    "                        DISTINCT person_id, entry_date, concept_id \n",
    "                    FROM\n",
    "                        `\"\"\" + os.environ[\"WORKSPACE_CDR\"] + \"\"\".cb_search_all_events` \n",
    "                    WHERE\n",
    "                        (concept_id IN(SELECT\n",
    "                            DISTINCT c.concept_id \n",
    "                        FROM\n",
    "                            `\"\"\" + os.environ[\"WORKSPACE_CDR\"] + \"\"\".cb_criteria` c \n",
    "                        JOIN\n",
    "                            (SELECT\n",
    "                                CAST(cr.id as string) AS id       \n",
    "                            FROM\n",
    "                                `\"\"\" + os.environ[\"WORKSPACE_CDR\"] + \"\"\".cb_criteria` cr       \n",
    "                            WHERE\n",
    "                                concept_id IN (1585952, 1585940, 1585723, 1585375, 1585723, 1585729, 1585386, 1585952, 1585375, 1585952, 1585375, 1585375, 1585892, 1585892, 1585375, 1585940, 1585952, 1585855, 1585729, 1585375, 1740639, 1585940, 1585952, 1585375, 1585375, 1585729, 43528895, 1585723, 1585723, 1585892, 1585940, 1585892, 1585386, 1585386, 40192389, 1585729, 1585892, 1585375, 1585723, 1585952, 1585940, 1586134, 1585940, 1585386, 1585710, 1585729, 1585892, 1585892, 1585940, 1585952, 1585940, 1585940, 1585729, 1585892, 1585952, 1585940, 1585892, 1585723, 1585723, 1585729, 1585729, 1585386, 1585952, 1585375, 1585952, 1585940, 1585952, 1585386, 1585375, 1585375)       \n",
    "                                AND full_text LIKE '%_rank1]%'      ) a \n",
    "                                ON (c.path LIKE CONCAT('%.', a.id, '.%') \n",
    "                                OR c.path LIKE CONCAT('%.', a.id) \n",
    "                                OR c.path LIKE CONCAT(a.id, '.%') \n",
    "                                OR c.path = a.id) \n",
    "                        WHERE\n",
    "                            is_standard = 0 \n",
    "                            AND is_selectable = 1) \n",
    "                        AND is_standard = 0 )) criteria ) \n",
    "                AND cb_search_person.person_id IN (SELECT\n",
    "                    criteria.person_id \n",
    "                FROM\n",
    "                    (SELECT\n",
    "                        DISTINCT person_id, entry_date, concept_id \n",
    "                    FROM\n",
    "                        `\"\"\" + os.environ[\"WORKSPACE_CDR\"] + \"\"\".cb_search_all_events` \n",
    "                    WHERE\n",
    "                        (concept_id IN (3027018) \n",
    "                        AND is_standard = 1 )) criteria ) \n",
    "                AND cb_search_person.person_id IN (SELECT\n",
    "                    criteria.person_id \n",
    "                FROM\n",
    "                    (SELECT\n",
    "                        DISTINCT person_id, entry_date, concept_id \n",
    "                    FROM\n",
    "                        `\"\"\" + os.environ[\"WORKSPACE_CDR\"] + \"\"\".cb_search_all_events` \n",
    "                    WHERE\n",
    "                        (concept_id IN (903118, 903115) \n",
    "                        AND is_standard = 0 )) criteria ) \n",
    "                AND cb_search_person.person_id IN (SELECT\n",
    "                    criteria.person_id \n",
    "                FROM\n",
    "                    (SELECT\n",
    "                        DISTINCT person_id, entry_date, concept_id \n",
    "                    FROM\n",
    "                        `\"\"\" + os.environ[\"WORKSPACE_CDR\"] + \"\"\".cb_search_all_events` \n",
    "                    WHERE\n",
    "                        (concept_id IN (3013682) \n",
    "                        AND is_standard = 1 )) criteria ) \n",
    "                AND cb_search_person.person_id IN (SELECT\n",
    "                    criteria.person_id \n",
    "                FROM\n",
    "                    (SELECT\n",
    "                        DISTINCT person_id, entry_date, concept_id \n",
    "                    FROM\n",
    "                        `\"\"\" + os.environ[\"WORKSPACE_CDR\"] + \"\"\".cb_search_all_events` \n",
    "                    WHERE\n",
    "                        (concept_id IN (3004501) \n",
    "                        AND is_standard = 1 )) criteria ) \n",
    "                AND cb_search_person.person_id IN (SELECT\n",
    "                    criteria.person_id \n",
    "                FROM\n",
    "                    (SELECT\n",
    "                        DISTINCT person_id, entry_date, concept_id \n",
    "                    FROM\n",
    "                        `\"\"\" + os.environ[\"WORKSPACE_CDR\"] + \"\"\".cb_search_all_events` \n",
    "                    WHERE\n",
    "                        (concept_id IN (3019550) \n",
    "                        AND is_standard = 1 )) criteria ) \n",
    "                AND cb_search_person.person_id IN (SELECT\n",
    "                    criteria.person_id \n",
    "                FROM\n",
    "                    (SELECT\n",
    "                        DISTINCT person_id, entry_date, concept_id \n",
    "                    FROM\n",
    "                        `\"\"\" + os.environ[\"WORKSPACE_CDR\"] + \"\"\".cb_search_all_events` \n",
    "                    WHERE\n",
    "                        (concept_id IN (3023103) \n",
    "                        AND is_standard = 1 )) criteria ) \n",
    "                AND cb_search_person.person_id NOT IN (SELECT\n",
    "                    criteria.person_id \n",
    "                FROM\n",
    "                    (SELECT\n",
    "                        DISTINCT person_id, entry_date, concept_id \n",
    "                    FROM\n",
    "                        `\"\"\" + os.environ[\"WORKSPACE_CDR\"] + \"\"\".cb_search_all_events` \n",
    "                    WHERE\n",
    "                        (concept_id IN(SELECT\n",
    "                            DISTINCT c.concept_id \n",
    "                        FROM\n",
    "                            `\"\"\" + os.environ[\"WORKSPACE_CDR\"] + \"\"\".cb_criteria` c \n",
    "                        JOIN\n",
    "                            (SELECT\n",
    "                                CAST(cr.id as string) AS id       \n",
    "                            FROM\n",
    "                                `\"\"\" + os.environ[\"WORKSPACE_CDR\"] + \"\"\".cb_criteria` cr       \n",
    "                            WHERE\n",
    "                                concept_id IN (443392)       \n",
    "                                AND full_text LIKE '%_rank1]%'      ) a \n",
    "                                ON (c.path LIKE CONCAT('%.', a.id, '.%') \n",
    "                                OR c.path LIKE CONCAT('%.', a.id) \n",
    "                                OR c.path LIKE CONCAT(a.id, '.%') \n",
    "                                OR c.path = a.id) \n",
    "                        WHERE\n",
    "                            is_standard = 1 \n",
    "                            AND is_selectable = 1) \n",
    "                        AND is_standard = 1 )) criteria ) \n",
    "                AND cb_search_person.person_id NOT IN (SELECT\n",
    "                    person_id \n",
    "                FROM\n",
    "                    `\"\"\" + os.environ[\"WORKSPACE_CDR\"] + \"\"\".person` p \n",
    "                WHERE\n",
    "                    ethnicity_concept_id IN (903079, 0, 903096, 1586148) ) \n",
    "                AND cb_search_person.person_id NOT IN (SELECT\n",
    "                    person_id \n",
    "                FROM\n",
    "                    `\"\"\" + os.environ[\"WORKSPACE_CDR\"] + \"\"\".person` p \n",
    "                WHERE\n",
    "                    sex_at_birth_concept_id IN (903096, 1177221, 0, 1585849, 46273637) ) \n",
    "                AND cb_search_person.person_id NOT IN (SELECT\n",
    "                    person_id \n",
    "                FROM\n",
    "                    `\"\"\" + os.environ[\"WORKSPACE_CDR\"] + \"\"\".person` p \n",
    "                WHERE\n",
    "                    race_concept_id IN (2100000001, 903096, 45882607, 1177221) ) )\n",
    "        )\"\"\"\n",
    "\n",
    "dataset_65281885_survey_df = pd.read_gbq(\n",
    "    dataset_65281885_survey_sql,\n",
    "    dialect=\"standard\",\n",
    "    use_bqstorage_api=(\"BIGQUERY_STORAGE_API_ENABLED\" in os.environ),\n",
    "    progress_bar_type=\"tqdm_notebook\")\n",
    "\n",
    "dataset_65281885_survey_df.head(5)"
   ]
  },
  {
   "cell_type": "code",
   "execution_count": null,
   "metadata": {},
   "outputs": [],
   "source": [
    "dataset_65281885_survey_df['question'].unique()"
   ]
  },
  {
   "cell_type": "code",
   "execution_count": null,
   "metadata": {},
   "outputs": [],
   "source": [
    "lifestyle_values = dataset_65281885_survey_df.drop(columns=['survey', 'question_concept_id', 'answer_concept_id', 'survey_version_concept_id', 'survey_version_name'])"
   ]
  },
  {
   "cell_type": "code",
   "execution_count": null,
   "metadata": {},
   "outputs": [],
   "source": [
    "questions_to_keep = ['Smoking: 100 Cigs Lifetime', 'Alcohol: Alcohol Participant', 'Alcohol: Drink Frequency Past Year'] \n",
    "lifestyle_values = lifestyle_values[lifestyle_values['question'].isin(questions_to_keep)]\n"
   ]
  },
  {
   "cell_type": "code",
   "execution_count": null,
   "metadata": {},
   "outputs": [],
   "source": [
    "lifestyle_values.head()"
   ]
  },
  {
   "cell_type": "markdown",
   "metadata": {},
   "source": [
    "Keep most recent recorded survey answer"
   ]
  },
  {
   "cell_type": "code",
   "execution_count": null,
   "metadata": {},
   "outputs": [],
   "source": [
    "lifestyle_values = lifestyle_values.sort_values(by=['person_id', 'survey_datetime'], ascending=[True, False])\n",
    "\n",
    "# Group by 'patient_id' and 'standard_concept_name', and keep the most recent measurement\n",
    "lifestyle_values = lifestyle_values.groupby(['person_id', 'question'], as_index=False).first()\n",
    "\n",
    "lifestyle_values.head(5)"
   ]
  },
  {
   "cell_type": "code",
   "execution_count": null,
   "metadata": {},
   "outputs": [],
   "source": [
    " lifestyle_values['question'].value_counts()"
   ]
  },
  {
   "cell_type": "markdown",
   "metadata": {},
   "source": [
    "All of our participants should have some answer for the alcohol and smoking questions. \n",
    "- Imporant note: smoking 100 cigs lifetime was the only smoking related question that had enough responses to include in my analysis"
   ]
  },
  {
   "cell_type": "code",
   "execution_count": null,
   "metadata": {},
   "outputs": [],
   "source": [
    "lifestyle_values = lifestyle_values.drop(columns = ['survey_datetime']).pivot(index='person_id', columns='question', values='answer').reset_index()\n"
   ]
  },
  {
   "cell_type": "code",
   "execution_count": null,
   "metadata": {},
   "outputs": [],
   "source": [
    "lifestyle_values.columns.name = None "
   ]
  },
  {
   "cell_type": "code",
   "execution_count": null,
   "metadata": {},
   "outputs": [],
   "source": [
    "lifestyle_values.head(10)"
   ]
  },
  {
   "cell_type": "code",
   "execution_count": null,
   "metadata": {},
   "outputs": [],
   "source": [
    "lifestyle_values.loc[lifestyle_values['Alcohol: Alcohol Participant'] == 'Alcohol Participant: No', 'Alcohol: Drink Frequency Past Year'] = '0'\n"
   ]
  },
  {
   "cell_type": "code",
   "execution_count": null,
   "metadata": {},
   "outputs": [],
   "source": [
    "lifestyle_values['Alcohol: Drink Frequency Past Year'].value_counts()"
   ]
  },
  {
   "cell_type": "code",
   "execution_count": null,
   "metadata": {},
   "outputs": [],
   "source": [
    "def scale_score_drink_past_year(answer):\n",
    "    if answer == 0 or answer == \"0\":\n",
    "        return 0\n",
    "    mapping = {\n",
    "        \"Drink Frequency Past Year: Never\": 0,\n",
    "        \"Drink Frequency Past Year: Monthly Or Less\": 1,\n",
    "        \"Drink Frequency Past Year: 2 to 4 Per Month\": 2,\n",
    "        \"Drink Frequency Past Year: 2 to 3 Per Week\": 3,\n",
    "        \"Drink Frequency Past Year: 4 or More Per Week\": 4\n",
    "    }\n",
    "    return mapping.get(answer, None)"
   ]
  },
  {
   "cell_type": "code",
   "execution_count": null,
   "metadata": {},
   "outputs": [],
   "source": [
    "lifestyle_values['alcohol_score'] = lifestyle_values['Alcohol: Drink Frequency Past Year'].apply(scale_score_drink_past_year)"
   ]
  },
  {
   "cell_type": "code",
   "execution_count": null,
   "metadata": {},
   "outputs": [],
   "source": [
    "lifestyle_values = lifestyle_values.drop(columns=['Alcohol: Drink Frequency Past Year', 'Alcohol: Alcohol Participant'])"
   ]
  },
  {
   "cell_type": "markdown",
   "metadata": {},
   "source": [
    "####  Merge with the rest of the feature set"
   ]
  },
  {
   "cell_type": "code",
   "execution_count": null,
   "metadata": {},
   "outputs": [],
   "source": [
    "ckd_features_df_6 = (\n",
    "   ckd_features_df_5.merge(lifestyle_values, on=\"person_id\", how=\"left\")\n",
    ")"
   ]
  },
  {
   "cell_type": "code",
   "execution_count": null,
   "metadata": {
    "scrolled": false
   },
   "outputs": [],
   "source": [
    "ckd_features_df_6.head(10)"
   ]
  },
  {
   "cell_type": "markdown",
   "metadata": {},
   "source": [
    "### Smoking Status "
   ]
  },
  {
   "cell_type": "code",
   "execution_count": null,
   "metadata": {},
   "outputs": [],
   "source": [
    "ckd_features_df_6.rename(columns={'Smoking: 100 Cigs Lifetime': 'smoking_status'}, inplace=True)"
   ]
  },
  {
   "cell_type": "code",
   "execution_count": null,
   "metadata": {},
   "outputs": [],
   "source": [
    "ckd_features_df_6['smoking_status'].value_counts()"
   ]
  },
  {
   "cell_type": "markdown",
   "metadata": {},
   "source": [
    "While this may oversimplify the smoking status variable, I will code \"Prefer not to Answer\", \"Skip\", and \"Don't Know\" participants as nonsmokers. \n",
    "\n",
    "This should be kept in mind as a potential limitation later. "
   ]
  },
  {
   "cell_type": "code",
   "execution_count": null,
   "metadata": {},
   "outputs": [],
   "source": [
    "ckd_features_df_6['smoking_status'] = ckd_features_df_6['smoking_status'].map({\n",
    "    '100 Cigs Lifetime: Yes': 1,\n",
    "    '100 Cigs Lifetime: No': 0,\n",
    "    'PMI: Dont Know': 0,\n",
    "    'PMI: Skip': 0,\n",
    "    'PMI: Prefer Not To Answer': 0\n",
    "})"
   ]
  },
  {
   "cell_type": "code",
   "execution_count": null,
   "metadata": {},
   "outputs": [],
   "source": [
    "ckd_features_df_6['smoking_status'].isna().sum()"
   ]
  },
  {
   "cell_type": "markdown",
   "metadata": {},
   "source": [
    "Imputing mode smoking status by age group for participants that are missing that survey answer"
   ]
  },
  {
   "cell_type": "code",
   "execution_count": null,
   "metadata": {},
   "outputs": [],
   "source": [
    "def mode_imputer(series):\n",
    "    return series.mode().iloc[0] if not series.mode().empty else np.nan\n",
    "\n",
    "smoking_status_mode_by_age_group = ckd_features_df_6.groupby('Age_Group')['smoking_status'].apply(mode_imputer)\n",
    "\n",
    "\n",
    "ckd_features_df_6['smoking_status'] = ckd_features_df_6.apply(\n",
    "    lambda row: smoking_status_mode_by_age_group[row['Age_Group']] if pd.isna(row['smoking_status']) else row['smoking_status'],\n",
    "    axis=1\n",
    ")"
   ]
  },
  {
   "cell_type": "code",
   "execution_count": null,
   "metadata": {},
   "outputs": [],
   "source": [
    "ckd_features_df_6['smoking_status'].isna().sum()"
   ]
  },
  {
   "cell_type": "markdown",
   "metadata": {},
   "source": [
    "### Alcohol Use"
   ]
  },
  {
   "cell_type": "markdown",
   "metadata": {},
   "source": [
    "Imputing mode alcohol score by age group for participants that are missing that survey answer"
   ]
  },
  {
   "cell_type": "code",
   "execution_count": null,
   "metadata": {},
   "outputs": [],
   "source": [
    "alcohol_score_mode_by_age_group = ckd_features_df_6.groupby('Age_Group')['alcohol_score'].apply(mode_imputer)\n",
    "\n",
    "\n",
    "ckd_features_df_6['alcohol_score'] = ckd_features_df_6.apply(\n",
    "    lambda row: alcohol_score_mode_by_age_group[row['Age_Group']] if pd.isna(row['alcohol_score']) else row['alcohol_score'],\n",
    "    axis=1\n",
    ")"
   ]
  },
  {
   "cell_type": "code",
   "execution_count": null,
   "metadata": {},
   "outputs": [],
   "source": [
    "sns.histplot(ckd_features_df_6['alcohol_score']);"
   ]
  },
  {
   "cell_type": "markdown",
   "metadata": {},
   "source": [
    "## Overall Health Survey Features"
   ]
  },
  {
   "cell_type": "code",
   "execution_count": null,
   "metadata": {},
   "outputs": [],
   "source": [
    "\n",
    "# This query represents dataset \"ML Features- CKD\" for domain \"survey\" and was generated for All of Us Controlled Tier Dataset v8\n",
    "dataset_89356137_survey_sql = \"\"\"\n",
    "    SELECT\n",
    "        answer.person_id,\n",
    "        answer.survey_datetime,\n",
    "        answer.question,\n",
    "        answer.answer  \n",
    "    FROM\n",
    "        `\"\"\" + os.environ[\"WORKSPACE_CDR\"] + \"\"\".ds_survey` answer   \n",
    "    WHERE\n",
    "        (\n",
    "            question_concept_id IN (SELECT\n",
    "                DISTINCT concept_id                         \n",
    "            FROM\n",
    "                `\"\"\" + os.environ[\"WORKSPACE_CDR\"] + \"\"\".cb_criteria` c                         \n",
    "            JOIN\n",
    "                (SELECT\n",
    "                    CAST(cr.id as string) AS id                               \n",
    "                FROM\n",
    "                    `\"\"\" + os.environ[\"WORKSPACE_CDR\"] + \"\"\".cb_criteria` cr                               \n",
    "                WHERE\n",
    "                    concept_id IN (1585710)                               \n",
    "                    AND domain_id = 'SURVEY') a \n",
    "                    ON (c.path like CONCAT('%', a.id, '.%'))                         \n",
    "            WHERE\n",
    "                domain_id = 'SURVEY'                         \n",
    "                AND type = 'PPI'                         \n",
    "                AND subtype = 'QUESTION')\n",
    "        )  \n",
    "        AND (\n",
    "            answer.PERSON_ID IN (SELECT\n",
    "                distinct person_id  \n",
    "            FROM\n",
    "                `\"\"\" + os.environ[\"WORKSPACE_CDR\"] + \"\"\".cb_search_person` cb_search_person  \n",
    "            WHERE\n",
    "                cb_search_person.person_id IN (SELECT\n",
    "                    person_id \n",
    "                FROM\n",
    "                    `\"\"\" + os.environ[\"WORKSPACE_CDR\"] + \"\"\".cb_search_person` p \n",
    "                WHERE\n",
    "                    DATE_DIFF(CURRENT_DATE, dob, YEAR) - IF(EXTRACT(MONTH FROM dob)*100 + EXTRACT(DAY FROM dob) > EXTRACT(MONTH FROM CURRENT_DATE)*100 + EXTRACT(DAY FROM CURRENT_DATE), 1, 0) BETWEEN 18 AND 124 \n",
    "                    AND NOT EXISTS (      SELECT\n",
    "                        'x'      \n",
    "                    FROM\n",
    "                        `\"\"\" + os.environ[\"WORKSPACE_CDR\"] + \"\"\".death` d      \n",
    "                    WHERE\n",
    "                        d.person_id = p.person_id ) ) \n",
    "                AND cb_search_person.person_id IN (SELECT\n",
    "                    person_id \n",
    "                FROM\n",
    "                    `\"\"\" + os.environ[\"WORKSPACE_CDR\"] + \"\"\".cb_search_person` p \n",
    "                WHERE\n",
    "                    has_ehr_data = 1 ) \n",
    "                AND cb_search_person.person_id IN (SELECT\n",
    "                    person_id \n",
    "                FROM\n",
    "                    `\"\"\" + os.environ[\"WORKSPACE_CDR\"] + \"\"\".cb_search_person` p \n",
    "                WHERE\n",
    "                    has_whole_genome_variant = 1 ) \n",
    "                AND cb_search_person.person_id IN (SELECT\n",
    "                    person_id \n",
    "                FROM\n",
    "                    `\"\"\" + os.environ[\"WORKSPACE_CDR\"] + \"\"\".cb_search_person` p \n",
    "                WHERE\n",
    "                    DATE_DIFF(CURRENT_DATE, dob, YEAR) - IF(EXTRACT(MONTH FROM dob)*100 + EXTRACT(DAY FROM dob) > EXTRACT(MONTH FROM CURRENT_DATE)*100 + EXTRACT(DAY FROM CURRENT_DATE), 1, 0) BETWEEN 18 AND 100 \n",
    "                    AND NOT EXISTS (      SELECT\n",
    "                        'x'      \n",
    "                    FROM\n",
    "                        `\"\"\" + os.environ[\"WORKSPACE_CDR\"] + \"\"\".death` d      \n",
    "                    WHERE\n",
    "                        d.person_id = p.person_id ) ) \n",
    "                AND cb_search_person.person_id IN (SELECT\n",
    "                    criteria.person_id \n",
    "                FROM\n",
    "                    (SELECT\n",
    "                        DISTINCT person_id, entry_date, concept_id \n",
    "                    FROM\n",
    "                        `\"\"\" + os.environ[\"WORKSPACE_CDR\"] + \"\"\".cb_search_all_events` \n",
    "                    WHERE\n",
    "                        (concept_id IN (3038553) \n",
    "                        AND is_standard = 1 )) criteria ) \n",
    "                AND cb_search_person.person_id IN (SELECT\n",
    "                    criteria.person_id \n",
    "                FROM\n",
    "                    (SELECT\n",
    "                        DISTINCT person_id, entry_date, concept_id \n",
    "                    FROM\n",
    "                        `\"\"\" + os.environ[\"WORKSPACE_CDR\"] + \"\"\".cb_search_all_events` \n",
    "                    WHERE\n",
    "                        (concept_id IN(SELECT\n",
    "                            DISTINCT c.concept_id \n",
    "                        FROM\n",
    "                            `\"\"\" + os.environ[\"WORKSPACE_CDR\"] + \"\"\".cb_criteria` c \n",
    "                        JOIN\n",
    "                            (SELECT\n",
    "                                CAST(cr.id as string) AS id       \n",
    "                            FROM\n",
    "                                `\"\"\" + os.environ[\"WORKSPACE_CDR\"] + \"\"\".cb_criteria` cr       \n",
    "                            WHERE\n",
    "                                concept_id IN (1585952, 1585940, 1585723, 1585375, 1585723, 1585729, 1585386, 1585952, 1585375, 1585952, 1585375, 1585375, 1585892, 1585892, 1585375, 1585940, 1585952, 1585855, 1585729, 1585375, 1740639, 1585940, 1585952, 1585375, 1585375, 1585729, 43528895, 1585723, 1585723, 1585892, 1585940, 1585892, 1585386, 1585386, 40192389, 1585729, 1585892, 1585375, 1585723, 1585952, 1585940, 1586134, 1585940, 1585386, 1585710, 1585729, 1585892, 1585892, 1585940, 1585952, 1585940, 1585940, 1585729, 1585892, 1585952, 1585940, 1585892, 1585723, 1585723, 1585729, 1585729, 1585386, 1585952, 1585375, 1585952, 1585940, 1585952, 1585386, 1585375, 1585375)       \n",
    "                                AND full_text LIKE '%_rank1]%'      ) a \n",
    "                                ON (c.path LIKE CONCAT('%.', a.id, '.%') \n",
    "                                OR c.path LIKE CONCAT('%.', a.id) \n",
    "                                OR c.path LIKE CONCAT(a.id, '.%') \n",
    "                                OR c.path = a.id) \n",
    "                        WHERE\n",
    "                            is_standard = 0 \n",
    "                            AND is_selectable = 1) \n",
    "                        AND is_standard = 0 )) criteria ) \n",
    "                AND cb_search_person.person_id IN (SELECT\n",
    "                    criteria.person_id \n",
    "                FROM\n",
    "                    (SELECT\n",
    "                        DISTINCT person_id, entry_date, concept_id \n",
    "                    FROM\n",
    "                        `\"\"\" + os.environ[\"WORKSPACE_CDR\"] + \"\"\".cb_search_all_events` \n",
    "                    WHERE\n",
    "                        (concept_id IN (3027018) \n",
    "                        AND is_standard = 1 )) criteria ) \n",
    "                AND cb_search_person.person_id IN (SELECT\n",
    "                    criteria.person_id \n",
    "                FROM\n",
    "                    (SELECT\n",
    "                        DISTINCT person_id, entry_date, concept_id \n",
    "                    FROM\n",
    "                        `\"\"\" + os.environ[\"WORKSPACE_CDR\"] + \"\"\".cb_search_all_events` \n",
    "                    WHERE\n",
    "                        (concept_id IN (903118, 903115) \n",
    "                        AND is_standard = 0 )) criteria ) \n",
    "                AND cb_search_person.person_id IN (SELECT\n",
    "                    criteria.person_id \n",
    "                FROM\n",
    "                    (SELECT\n",
    "                        DISTINCT person_id, entry_date, concept_id \n",
    "                    FROM\n",
    "                        `\"\"\" + os.environ[\"WORKSPACE_CDR\"] + \"\"\".cb_search_all_events` \n",
    "                    WHERE\n",
    "                        (concept_id IN (3013682) \n",
    "                        AND is_standard = 1 )) criteria ) \n",
    "                AND cb_search_person.person_id IN (SELECT\n",
    "                    criteria.person_id \n",
    "                FROM\n",
    "                    (SELECT\n",
    "                        DISTINCT person_id, entry_date, concept_id \n",
    "                    FROM\n",
    "                        `\"\"\" + os.environ[\"WORKSPACE_CDR\"] + \"\"\".cb_search_all_events` \n",
    "                    WHERE\n",
    "                        (concept_id IN (3004501) \n",
    "                        AND is_standard = 1 )) criteria ) \n",
    "                AND cb_search_person.person_id IN (SELECT\n",
    "                    criteria.person_id \n",
    "                FROM\n",
    "                    (SELECT\n",
    "                        DISTINCT person_id, entry_date, concept_id \n",
    "                    FROM\n",
    "                        `\"\"\" + os.environ[\"WORKSPACE_CDR\"] + \"\"\".cb_search_all_events` \n",
    "                    WHERE\n",
    "                        (concept_id IN (3019550) \n",
    "                        AND is_standard = 1 )) criteria ) \n",
    "                AND cb_search_person.person_id IN (SELECT\n",
    "                    criteria.person_id \n",
    "                FROM\n",
    "                    (SELECT\n",
    "                        DISTINCT person_id, entry_date, concept_id \n",
    "                    FROM\n",
    "                        `\"\"\" + os.environ[\"WORKSPACE_CDR\"] + \"\"\".cb_search_all_events` \n",
    "                    WHERE\n",
    "                        (concept_id IN (3023103) \n",
    "                        AND is_standard = 1 )) criteria ) \n",
    "                AND cb_search_person.person_id NOT IN (SELECT\n",
    "                    criteria.person_id \n",
    "                FROM\n",
    "                    (SELECT\n",
    "                        DISTINCT person_id, entry_date, concept_id \n",
    "                    FROM\n",
    "                        `\"\"\" + os.environ[\"WORKSPACE_CDR\"] + \"\"\".cb_search_all_events` \n",
    "                    WHERE\n",
    "                        (concept_id IN(SELECT\n",
    "                            DISTINCT c.concept_id \n",
    "                        FROM\n",
    "                            `\"\"\" + os.environ[\"WORKSPACE_CDR\"] + \"\"\".cb_criteria` c \n",
    "                        JOIN\n",
    "                            (SELECT\n",
    "                                CAST(cr.id as string) AS id       \n",
    "                            FROM\n",
    "                                `\"\"\" + os.environ[\"WORKSPACE_CDR\"] + \"\"\".cb_criteria` cr       \n",
    "                            WHERE\n",
    "                                concept_id IN (443392)       \n",
    "                                AND full_text LIKE '%_rank1]%'      ) a \n",
    "                                ON (c.path LIKE CONCAT('%.', a.id, '.%') \n",
    "                                OR c.path LIKE CONCAT('%.', a.id) \n",
    "                                OR c.path LIKE CONCAT(a.id, '.%') \n",
    "                                OR c.path = a.id) \n",
    "                        WHERE\n",
    "                            is_standard = 1 \n",
    "                            AND is_selectable = 1) \n",
    "                        AND is_standard = 1 )) criteria ) \n",
    "                AND cb_search_person.person_id NOT IN (SELECT\n",
    "                    person_id \n",
    "                FROM\n",
    "                    `\"\"\" + os.environ[\"WORKSPACE_CDR\"] + \"\"\".person` p \n",
    "                WHERE\n",
    "                    ethnicity_concept_id IN (903079, 0, 903096, 1586148) ) \n",
    "                AND cb_search_person.person_id NOT IN (SELECT\n",
    "                    person_id \n",
    "                FROM\n",
    "                    `\"\"\" + os.environ[\"WORKSPACE_CDR\"] + \"\"\".person` p \n",
    "                WHERE\n",
    "                    sex_at_birth_concept_id IN (903096, 1177221, 0, 1585849, 46273637) ) \n",
    "                AND cb_search_person.person_id NOT IN (SELECT\n",
    "                    person_id \n",
    "                FROM\n",
    "                    `\"\"\" + os.environ[\"WORKSPACE_CDR\"] + \"\"\".person` p \n",
    "                WHERE\n",
    "                    race_concept_id IN (2100000001, 903096, 45882607, 1177221) ) )\n",
    "        )\"\"\"\n",
    "\n",
    "dataset_89356137_survey_df = pd.read_gbq(\n",
    "    dataset_89356137_survey_sql,\n",
    "    dialect=\"standard\",\n",
    "    use_bqstorage_api=(\"BIGQUERY_STORAGE_API_ENABLED\" in os.environ),\n",
    "    progress_bar_type=\"tqdm_notebook\")\n",
    "\n",
    "dataset_89356137_survey_df.head(5)"
   ]
  },
  {
   "cell_type": "code",
   "execution_count": null,
   "metadata": {},
   "outputs": [],
   "source": [
    "dataset_89356137_survey_df['question'].unique()"
   ]
  },
  {
   "cell_type": "code",
   "execution_count": null,
   "metadata": {},
   "outputs": [],
   "source": [
    "questions_to_keep = ['Overall Health: General Mental Health', 'Overall Health: General Physical Health'] \n",
    "overall_health_values = dataset_89356137_survey_df[dataset_89356137_survey_df['question'].isin(questions_to_keep)]\n"
   ]
  },
  {
   "cell_type": "code",
   "execution_count": null,
   "metadata": {},
   "outputs": [],
   "source": [
    "overall_health_values = overall_health_values.sort_values(by=['person_id', 'survey_datetime'], ascending=[True, False])\n",
    "\n",
    "# Group by 'patient_id' and 'standard_concept_name', and keep the most recent measurement\n",
    "overall_health_values = overall_health_values.groupby(['person_id', 'question'], as_index=False).first()\n",
    "\n",
    "overall_health_values.head(5)"
   ]
  },
  {
   "cell_type": "code",
   "execution_count": null,
   "metadata": {},
   "outputs": [],
   "source": [
    "overall_health_values['question'].value_counts()"
   ]
  },
  {
   "cell_type": "code",
   "execution_count": null,
   "metadata": {},
   "outputs": [],
   "source": [
    "overall_health_values = overall_health_values.drop(columns = ['survey_datetime']).pivot(index='person_id', columns='question', values='answer').reset_index()"
   ]
  },
  {
   "cell_type": "code",
   "execution_count": null,
   "metadata": {},
   "outputs": [],
   "source": [
    "overall_health_values.columns.name = None "
   ]
  },
  {
   "cell_type": "code",
   "execution_count": null,
   "metadata": {},
   "outputs": [],
   "source": [
    "overall_health_values.head()"
   ]
  },
  {
   "cell_type": "code",
   "execution_count": null,
   "metadata": {},
   "outputs": [],
   "source": [
    "overall_health_values['mental_health'] = overall_health_values['Overall Health: General Mental Health']\n",
    "overall_health_values['physical_health'] = overall_health_values['Overall Health: General Physical Health']"
   ]
  },
  {
   "cell_type": "markdown",
   "metadata": {},
   "source": [
    "Both of these variables are ordinal and I will map them accordingly"
   ]
  },
  {
   "cell_type": "code",
   "execution_count": null,
   "metadata": {},
   "outputs": [],
   "source": [
    "overall_health_values['mental_health'] = overall_health_values['mental_health'].map({\n",
    "    'General Mental Health: Poor': 0,\n",
    "    'General Mental Health: Fair': 1,\n",
    "    'General Mental Health: Good': 2,\n",
    "    'General Mental Health: Very Good': 3,\n",
    "    'General Mental Health: Excllent': 4,\n",
    "    'General Mental Health: Excellent': 4\n",
    "})"
   ]
  },
  {
   "cell_type": "code",
   "execution_count": null,
   "metadata": {},
   "outputs": [],
   "source": [
    "overall_health_values['physical_health'] = overall_health_values['physical_health'].map({\n",
    "    'General Physical Health: Poor': 0,\n",
    "    'General Physical Health: Fair': 1,\n",
    "    'General Physical Health: Good': 2,\n",
    "    'General Physical Health: Very Good': 3,\n",
    "    'General Physical Health: Excellent': 4\n",
    "})"
   ]
  },
  {
   "cell_type": "code",
   "execution_count": null,
   "metadata": {},
   "outputs": [],
   "source": [
    "overall_health_values.head(20)"
   ]
  },
  {
   "cell_type": "code",
   "execution_count": null,
   "metadata": {},
   "outputs": [],
   "source": [
    "overall_health_values = overall_health_values.drop(columns=['Overall Health: General Mental Health', 'Overall Health: General Physical Health'])"
   ]
  },
  {
   "cell_type": "code",
   "execution_count": null,
   "metadata": {},
   "outputs": [],
   "source": [
    "ckd_features_df_7 = (\n",
    "   ckd_features_df_6.merge(overall_health_values, on=\"person_id\", how=\"left\")\n",
    ")"
   ]
  },
  {
   "cell_type": "markdown",
   "metadata": {},
   "source": [
    "### Imputing mental health values"
   ]
  },
  {
   "cell_type": "markdown",
   "metadata": {},
   "source": [
    "Imputing mode of mental health rating by age group. "
   ]
  },
  {
   "cell_type": "code",
   "execution_count": null,
   "metadata": {},
   "outputs": [],
   "source": [
    "ckd_features_df_7['mental_health'].isna().sum()"
   ]
  },
  {
   "cell_type": "code",
   "execution_count": null,
   "metadata": {},
   "outputs": [],
   "source": [
    "def mode_imputer(series):\n",
    "    return series.mode().iloc[0] if not series.mode().empty else np.nan\n",
    "\n",
    "mental_health_mode_by_age_group = ckd_features_df_7.groupby('Age_Group')['mental_health'].apply(mode_imputer)\n",
    "\n",
    "\n",
    "ckd_features_df_7['mental_health'] = ckd_features_df_7.apply(\n",
    "    lambda row: mental_health_mode_by_age_group[row['Age_Group']] if pd.isna(row['mental_health']) else row['mental_health'],\n",
    "    axis=1\n",
    ")"
   ]
  },
  {
   "cell_type": "code",
   "execution_count": null,
   "metadata": {},
   "outputs": [],
   "source": [
    "sns.histplot(ckd_features_df_7['mental_health']);"
   ]
  },
  {
   "cell_type": "markdown",
   "metadata": {},
   "source": [
    "### Imputing physical health values"
   ]
  },
  {
   "cell_type": "code",
   "execution_count": null,
   "metadata": {},
   "outputs": [],
   "source": [
    "ckd_features_df_7['physical_health'].isna().sum()"
   ]
  },
  {
   "cell_type": "code",
   "execution_count": null,
   "metadata": {},
   "outputs": [],
   "source": [
    "physical_health_mode_by_age_group = ckd_features_df_7.groupby('Age_Group')['physical_health'].apply(mode_imputer)\n",
    "\n",
    "\n",
    "ckd_features_df_7['physical_health'] = ckd_features_df_7.apply(\n",
    "    lambda row: physical_health_mode_by_age_group[row['Age_Group']] if pd.isna(row['physical_health']) else row['physical_health'],\n",
    "    axis=1\n",
    ")"
   ]
  },
  {
   "cell_type": "code",
   "execution_count": null,
   "metadata": {},
   "outputs": [],
   "source": [
    "sns.histplot(ckd_features_df_7['physical_health']);"
   ]
  },
  {
   "cell_type": "markdown",
   "metadata": {},
   "source": [
    "## Healthcare Access Feature "
   ]
  },
  {
   "cell_type": "code",
   "execution_count": null,
   "metadata": {},
   "outputs": [],
   "source": [
    "\n",
    "# This query represents dataset \"ML Features- CKD\" for domain \"survey\" and was generated for All of Us Controlled Tier Dataset v8\n",
    "dataset_31480590_survey_sql = \"\"\"\n",
    "    SELECT\n",
    "        answer.person_id,\n",
    "        answer.survey_datetime,\n",
    "        answer.question,\n",
    "        answer.answer  \n",
    "    FROM\n",
    "        `\"\"\" + os.environ[\"WORKSPACE_CDR\"] + \"\"\".ds_survey` answer   \n",
    "    WHERE\n",
    "        (\n",
    "            question_concept_id IN (SELECT\n",
    "                DISTINCT concept_id                         \n",
    "            FROM\n",
    "                `\"\"\" + os.environ[\"WORKSPACE_CDR\"] + \"\"\".cb_criteria` c                         \n",
    "            JOIN\n",
    "                (SELECT\n",
    "                    CAST(cr.id as string) AS id                               \n",
    "                FROM\n",
    "                    `\"\"\" + os.environ[\"WORKSPACE_CDR\"] + \"\"\".cb_criteria` cr                               \n",
    "                WHERE\n",
    "                    concept_id IN (43528895)                               \n",
    "                    AND domain_id = 'SURVEY') a \n",
    "                    ON (c.path like CONCAT('%', a.id, '.%'))                         \n",
    "            WHERE\n",
    "                domain_id = 'SURVEY'                         \n",
    "                AND type = 'PPI'                         \n",
    "                AND subtype = 'QUESTION')\n",
    "        )  \n",
    "        AND (\n",
    "            answer.PERSON_ID IN (SELECT\n",
    "                distinct person_id  \n",
    "            FROM\n",
    "                `\"\"\" + os.environ[\"WORKSPACE_CDR\"] + \"\"\".cb_search_person` cb_search_person  \n",
    "            WHERE\n",
    "                cb_search_person.person_id IN (SELECT\n",
    "                    person_id \n",
    "                FROM\n",
    "                    `\"\"\" + os.environ[\"WORKSPACE_CDR\"] + \"\"\".cb_search_person` p \n",
    "                WHERE\n",
    "                    DATE_DIFF(CURRENT_DATE, dob, YEAR) - IF(EXTRACT(MONTH FROM dob)*100 + EXTRACT(DAY FROM dob) > EXTRACT(MONTH FROM CURRENT_DATE)*100 + EXTRACT(DAY FROM CURRENT_DATE), 1, 0) BETWEEN 18 AND 124 \n",
    "                    AND NOT EXISTS (      SELECT\n",
    "                        'x'      \n",
    "                    FROM\n",
    "                        `\"\"\" + os.environ[\"WORKSPACE_CDR\"] + \"\"\".death` d      \n",
    "                    WHERE\n",
    "                        d.person_id = p.person_id ) ) \n",
    "                AND cb_search_person.person_id IN (SELECT\n",
    "                    person_id \n",
    "                FROM\n",
    "                    `\"\"\" + os.environ[\"WORKSPACE_CDR\"] + \"\"\".cb_search_person` p \n",
    "                WHERE\n",
    "                    has_ehr_data = 1 ) \n",
    "                AND cb_search_person.person_id IN (SELECT\n",
    "                    person_id \n",
    "                FROM\n",
    "                    `\"\"\" + os.environ[\"WORKSPACE_CDR\"] + \"\"\".cb_search_person` p \n",
    "                WHERE\n",
    "                    has_whole_genome_variant = 1 ) \n",
    "                AND cb_search_person.person_id IN (SELECT\n",
    "                    person_id \n",
    "                FROM\n",
    "                    `\"\"\" + os.environ[\"WORKSPACE_CDR\"] + \"\"\".cb_search_person` p \n",
    "                WHERE\n",
    "                    DATE_DIFF(CURRENT_DATE, dob, YEAR) - IF(EXTRACT(MONTH FROM dob)*100 + EXTRACT(DAY FROM dob) > EXTRACT(MONTH FROM CURRENT_DATE)*100 + EXTRACT(DAY FROM CURRENT_DATE), 1, 0) BETWEEN 18 AND 100 \n",
    "                    AND NOT EXISTS (      SELECT\n",
    "                        'x'      \n",
    "                    FROM\n",
    "                        `\"\"\" + os.environ[\"WORKSPACE_CDR\"] + \"\"\".death` d      \n",
    "                    WHERE\n",
    "                        d.person_id = p.person_id ) ) \n",
    "                AND cb_search_person.person_id IN (SELECT\n",
    "                    criteria.person_id \n",
    "                FROM\n",
    "                    (SELECT\n",
    "                        DISTINCT person_id, entry_date, concept_id \n",
    "                    FROM\n",
    "                        `\"\"\" + os.environ[\"WORKSPACE_CDR\"] + \"\"\".cb_search_all_events` \n",
    "                    WHERE\n",
    "                        (concept_id IN (3038553) \n",
    "                        AND is_standard = 1 )) criteria ) \n",
    "                AND cb_search_person.person_id IN (SELECT\n",
    "                    criteria.person_id \n",
    "                FROM\n",
    "                    (SELECT\n",
    "                        DISTINCT person_id, entry_date, concept_id \n",
    "                    FROM\n",
    "                        `\"\"\" + os.environ[\"WORKSPACE_CDR\"] + \"\"\".cb_search_all_events` \n",
    "                    WHERE\n",
    "                        (concept_id IN(SELECT\n",
    "                            DISTINCT c.concept_id \n",
    "                        FROM\n",
    "                            `\"\"\" + os.environ[\"WORKSPACE_CDR\"] + \"\"\".cb_criteria` c \n",
    "                        JOIN\n",
    "                            (SELECT\n",
    "                                CAST(cr.id as string) AS id       \n",
    "                            FROM\n",
    "                                `\"\"\" + os.environ[\"WORKSPACE_CDR\"] + \"\"\".cb_criteria` cr       \n",
    "                            WHERE\n",
    "                                concept_id IN (1585952, 1585940, 1585723, 1585375, 1585723, 1585729, 1585386, 1585952, 1585375, 1585952, 1585375, 1585375, 1585892, 1585892, 1585375, 1585940, 1585952, 1585855, 1585729, 1585375, 1740639, 1585940, 1585952, 1585375, 1585375, 1585729, 43528895, 1585723, 1585723, 1585892, 1585940, 1585892, 1585386, 1585386, 40192389, 1585729, 1585892, 1585375, 1585723, 1585952, 1585940, 1586134, 1585940, 1585386, 1585710, 1585729, 1585892, 1585892, 1585940, 1585952, 1585940, 1585940, 1585729, 1585892, 1585952, 1585940, 1585892, 1585723, 1585723, 1585729, 1585729, 1585386, 1585952, 1585375, 1585952, 1585940, 1585952, 1585386, 1585375, 1585375)       \n",
    "                                AND full_text LIKE '%_rank1]%'      ) a \n",
    "                                ON (c.path LIKE CONCAT('%.', a.id, '.%') \n",
    "                                OR c.path LIKE CONCAT('%.', a.id) \n",
    "                                OR c.path LIKE CONCAT(a.id, '.%') \n",
    "                                OR c.path = a.id) \n",
    "                        WHERE\n",
    "                            is_standard = 0 \n",
    "                            AND is_selectable = 1) \n",
    "                        AND is_standard = 0 )) criteria ) \n",
    "                AND cb_search_person.person_id IN (SELECT\n",
    "                    criteria.person_id \n",
    "                FROM\n",
    "                    (SELECT\n",
    "                        DISTINCT person_id, entry_date, concept_id \n",
    "                    FROM\n",
    "                        `\"\"\" + os.environ[\"WORKSPACE_CDR\"] + \"\"\".cb_search_all_events` \n",
    "                    WHERE\n",
    "                        (concept_id IN (3027018) \n",
    "                        AND is_standard = 1 )) criteria ) \n",
    "                AND cb_search_person.person_id IN (SELECT\n",
    "                    criteria.person_id \n",
    "                FROM\n",
    "                    (SELECT\n",
    "                        DISTINCT person_id, entry_date, concept_id \n",
    "                    FROM\n",
    "                        `\"\"\" + os.environ[\"WORKSPACE_CDR\"] + \"\"\".cb_search_all_events` \n",
    "                    WHERE\n",
    "                        (concept_id IN (903118, 903115) \n",
    "                        AND is_standard = 0 )) criteria ) \n",
    "                AND cb_search_person.person_id IN (SELECT\n",
    "                    criteria.person_id \n",
    "                FROM\n",
    "                    (SELECT\n",
    "                        DISTINCT person_id, entry_date, concept_id \n",
    "                    FROM\n",
    "                        `\"\"\" + os.environ[\"WORKSPACE_CDR\"] + \"\"\".cb_search_all_events` \n",
    "                    WHERE\n",
    "                        (concept_id IN (3013682) \n",
    "                        AND is_standard = 1 )) criteria ) \n",
    "                AND cb_search_person.person_id IN (SELECT\n",
    "                    criteria.person_id \n",
    "                FROM\n",
    "                    (SELECT\n",
    "                        DISTINCT person_id, entry_date, concept_id \n",
    "                    FROM\n",
    "                        `\"\"\" + os.environ[\"WORKSPACE_CDR\"] + \"\"\".cb_search_all_events` \n",
    "                    WHERE\n",
    "                        (concept_id IN (3004501) \n",
    "                        AND is_standard = 1 )) criteria ) \n",
    "                AND cb_search_person.person_id IN (SELECT\n",
    "                    criteria.person_id \n",
    "                FROM\n",
    "                    (SELECT\n",
    "                        DISTINCT person_id, entry_date, concept_id \n",
    "                    FROM\n",
    "                        `\"\"\" + os.environ[\"WORKSPACE_CDR\"] + \"\"\".cb_search_all_events` \n",
    "                    WHERE\n",
    "                        (concept_id IN (3019550) \n",
    "                        AND is_standard = 1 )) criteria ) \n",
    "                AND cb_search_person.person_id IN (SELECT\n",
    "                    criteria.person_id \n",
    "                FROM\n",
    "                    (SELECT\n",
    "                        DISTINCT person_id, entry_date, concept_id \n",
    "                    FROM\n",
    "                        `\"\"\" + os.environ[\"WORKSPACE_CDR\"] + \"\"\".cb_search_all_events` \n",
    "                    WHERE\n",
    "                        (concept_id IN (3023103) \n",
    "                        AND is_standard = 1 )) criteria ) \n",
    "                AND cb_search_person.person_id NOT IN (SELECT\n",
    "                    criteria.person_id \n",
    "                FROM\n",
    "                    (SELECT\n",
    "                        DISTINCT person_id, entry_date, concept_id \n",
    "                    FROM\n",
    "                        `\"\"\" + os.environ[\"WORKSPACE_CDR\"] + \"\"\".cb_search_all_events` \n",
    "                    WHERE\n",
    "                        (concept_id IN(SELECT\n",
    "                            DISTINCT c.concept_id \n",
    "                        FROM\n",
    "                            `\"\"\" + os.environ[\"WORKSPACE_CDR\"] + \"\"\".cb_criteria` c \n",
    "                        JOIN\n",
    "                            (SELECT\n",
    "                                CAST(cr.id as string) AS id       \n",
    "                            FROM\n",
    "                                `\"\"\" + os.environ[\"WORKSPACE_CDR\"] + \"\"\".cb_criteria` cr       \n",
    "                            WHERE\n",
    "                                concept_id IN (443392)       \n",
    "                                AND full_text LIKE '%_rank1]%'      ) a \n",
    "                                ON (c.path LIKE CONCAT('%.', a.id, '.%') \n",
    "                                OR c.path LIKE CONCAT('%.', a.id) \n",
    "                                OR c.path LIKE CONCAT(a.id, '.%') \n",
    "                                OR c.path = a.id) \n",
    "                        WHERE\n",
    "                            is_standard = 1 \n",
    "                            AND is_selectable = 1) \n",
    "                        AND is_standard = 1 )) criteria ) \n",
    "                AND cb_search_person.person_id NOT IN (SELECT\n",
    "                    person_id \n",
    "                FROM\n",
    "                    `\"\"\" + os.environ[\"WORKSPACE_CDR\"] + \"\"\".person` p \n",
    "                WHERE\n",
    "                    ethnicity_concept_id IN (903079, 0, 903096, 1586148) ) \n",
    "                AND cb_search_person.person_id NOT IN (SELECT\n",
    "                    person_id \n",
    "                FROM\n",
    "                    `\"\"\" + os.environ[\"WORKSPACE_CDR\"] + \"\"\".person` p \n",
    "                WHERE\n",
    "                    sex_at_birth_concept_id IN (903096, 1177221, 0, 1585849, 46273637) ) \n",
    "                AND cb_search_person.person_id NOT IN (SELECT\n",
    "                    person_id \n",
    "                FROM\n",
    "                    `\"\"\" + os.environ[\"WORKSPACE_CDR\"] + \"\"\".person` p \n",
    "                WHERE\n",
    "                    race_concept_id IN (2100000001, 903096, 45882607, 1177221) ) )\n",
    "        )\"\"\"\n",
    "\n",
    "dataset_31480590_survey_df = pd.read_gbq(\n",
    "    dataset_31480590_survey_sql,\n",
    "    dialect=\"standard\",\n",
    "    use_bqstorage_api=(\"BIGQUERY_STORAGE_API_ENABLED\" in os.environ),\n",
    "    progress_bar_type=\"tqdm_notebook\")\n",
    "\n",
    "dataset_31480590_survey_df.head(5)"
   ]
  },
  {
   "cell_type": "code",
   "execution_count": null,
   "metadata": {},
   "outputs": [],
   "source": [
    "dataset_31480590_survey_df['question'].unique()"
   ]
  },
  {
   "cell_type": "code",
   "execution_count": null,
   "metadata": {},
   "outputs": [],
   "source": [
    "questions_to_keep = [\"Can't Afford Care: Healthcare Provider\"] \n",
    "afford_care_values = dataset_31480590_survey_df[dataset_31480590_survey_df['question'].isin(questions_to_keep)]"
   ]
  },
  {
   "cell_type": "code",
   "execution_count": null,
   "metadata": {},
   "outputs": [],
   "source": [
    "afford_care_values"
   ]
  },
  {
   "cell_type": "code",
   "execution_count": null,
   "metadata": {},
   "outputs": [],
   "source": [
    "afford_care_values = afford_care_values.sort_values(by=['person_id', 'survey_datetime'], ascending=[True, False])\n",
    "\n",
    "# Group by 'patient_id' and 'question', and keep the most recent survey answer\n",
    "afford_care_values = afford_care_values.groupby(['person_id', 'question'], as_index=False).first()\n",
    "\n",
    "afford_care_values.head(5)"
   ]
  },
  {
   "cell_type": "code",
   "execution_count": null,
   "metadata": {},
   "outputs": [],
   "source": [
    "afford_care_values = afford_care_values.drop(columns = ['survey_datetime']).pivot(index='person_id', columns='question', values='answer').reset_index()"
   ]
  },
  {
   "cell_type": "code",
   "execution_count": null,
   "metadata": {},
   "outputs": [],
   "source": [
    "afford_care_values.columns.name = None "
   ]
  },
  {
   "cell_type": "code",
   "execution_count": null,
   "metadata": {},
   "outputs": [],
   "source": [
    "afford_care_values.rename(columns={\"Can't Afford Care: Healthcare Provider\": 'afford_provider'}, inplace=True)\n",
    "afford_care_values.head(10)"
   ]
  },
  {
   "cell_type": "code",
   "execution_count": null,
   "metadata": {
    "scrolled": true
   },
   "outputs": [],
   "source": [
    "afford_care_values['afford_provider'].value_counts()"
   ]
  },
  {
   "cell_type": "markdown",
   "metadata": {},
   "source": [
    "If a patient doesn't know if they can afford a healthcare provider, specifically a primary care provider, they likely can't or don't have an established PCP. Therefore, I will classify these patients as not able to afford a healthcare provider. "
   ]
  },
  {
   "cell_type": "code",
   "execution_count": null,
   "metadata": {},
   "outputs": [],
   "source": [
    "afford_care_values['afford_provider'] = afford_care_values['afford_provider'].map({\n",
    "    \"Can't Afford Healthcare Provider: Yes\": 0,\n",
    "    \"Can't Afford Healthcare Provider: No\": 1,\n",
    "    'PMI: Skip': np.nan,\n",
    "    'PMI: Dont Know': 0\n",
    "})"
   ]
  },
  {
   "cell_type": "code",
   "execution_count": null,
   "metadata": {},
   "outputs": [],
   "source": [
    "ckd_features_df_8 = (\n",
    "   ckd_features_df_7.merge(afford_care_values, on=\"person_id\", how=\"left\")\n",
    ")"
   ]
  },
  {
   "cell_type": "code",
   "execution_count": null,
   "metadata": {},
   "outputs": [],
   "source": [
    "ckd_features_df_8.head()"
   ]
  },
  {
   "cell_type": "code",
   "execution_count": null,
   "metadata": {},
   "outputs": [],
   "source": [
    "afford_care_mode_by_age_group = ckd_features_df_8.groupby('Age_Group')['afford_provider'].apply(mode_imputer)\n",
    "\n",
    "\n",
    "ckd_features_df_8['afford_provider'] = ckd_features_df_8.apply(\n",
    "    lambda row: afford_care_mode_by_age_group[row['Age_Group']] if pd.isna(row['afford_provider']) else row['afford_provider'],\n",
    "    axis=1\n",
    ")"
   ]
  },
  {
   "cell_type": "code",
   "execution_count": null,
   "metadata": {},
   "outputs": [],
   "source": [
    "sns.histplot(ckd_features_df_8['afford_provider']);"
   ]
  },
  {
   "cell_type": "markdown",
   "metadata": {},
   "source": [
    "There are significatly more patients that can afford a provider. This may make it difficult for the model to pick up on a any predictive power not affording a provider could have. This will be important to keep in mind when investigating feature importance.  "
   ]
  },
  {
   "cell_type": "markdown",
   "metadata": {},
   "source": [
    "## Diabetes Mellitus"
   ]
  },
  {
   "cell_type": "code",
   "execution_count": null,
   "metadata": {},
   "outputs": [],
   "source": [
    "\n",
    "# This query represents dataset \"ML Features- CKD\" for domain \"condition\" and was generated for All of Us Controlled Tier Dataset v8\n",
    "dataset_30560220_condition_sql = \"\"\"\n",
    "    SELECT\n",
    "        c_occurrence.person_id,\n",
    "        c_standard_concept.concept_name as standard_concept_name \n",
    "    FROM\n",
    "        ( SELECT\n",
    "            * \n",
    "        FROM\n",
    "            `\"\"\" + os.environ[\"WORKSPACE_CDR\"] + \"\"\".condition_occurrence` c_occurrence \n",
    "        WHERE\n",
    "            (\n",
    "                condition_concept_id IN (SELECT\n",
    "                    DISTINCT c.concept_id \n",
    "                FROM\n",
    "                    `\"\"\" + os.environ[\"WORKSPACE_CDR\"] + \"\"\".cb_criteria` c \n",
    "                JOIN\n",
    "                    (SELECT\n",
    "                        CAST(cr.id as string) AS id       \n",
    "                    FROM\n",
    "                        `\"\"\" + os.environ[\"WORKSPACE_CDR\"] + \"\"\".cb_criteria` cr       \n",
    "                    WHERE\n",
    "                        concept_id IN (201820, 201826)       \n",
    "                        AND full_text LIKE '%_rank1]%'      ) a \n",
    "                        ON (c.path LIKE CONCAT('%.', a.id, '.%') \n",
    "                        OR c.path LIKE CONCAT('%.', a.id) \n",
    "                        OR c.path LIKE CONCAT(a.id, '.%') \n",
    "                        OR c.path = a.id) \n",
    "                WHERE\n",
    "                    is_standard = 1 \n",
    "                    AND is_selectable = 1)\n",
    "            )  \n",
    "            AND (\n",
    "                c_occurrence.PERSON_ID IN (SELECT\n",
    "                    distinct person_id  \n",
    "                FROM\n",
    "                    `\"\"\" + os.environ[\"WORKSPACE_CDR\"] + \"\"\".cb_search_person` cb_search_person  \n",
    "                WHERE\n",
    "                    cb_search_person.person_id IN (SELECT\n",
    "                        person_id \n",
    "                    FROM\n",
    "                        `\"\"\" + os.environ[\"WORKSPACE_CDR\"] + \"\"\".cb_search_person` p \n",
    "                    WHERE\n",
    "                        DATE_DIFF(CURRENT_DATE, dob, YEAR) - IF(EXTRACT(MONTH FROM dob)*100 + EXTRACT(DAY FROM dob) > EXTRACT(MONTH FROM CURRENT_DATE)*100 + EXTRACT(DAY FROM CURRENT_DATE), 1, 0) BETWEEN 18 AND 124 \n",
    "                        AND NOT EXISTS (      SELECT\n",
    "                            'x'      \n",
    "                        FROM\n",
    "                            `\"\"\" + os.environ[\"WORKSPACE_CDR\"] + \"\"\".death` d      \n",
    "                        WHERE\n",
    "                            d.person_id = p.person_id ) ) \n",
    "                    AND cb_search_person.person_id IN (SELECT\n",
    "                        person_id \n",
    "                    FROM\n",
    "                        `\"\"\" + os.environ[\"WORKSPACE_CDR\"] + \"\"\".cb_search_person` p \n",
    "                    WHERE\n",
    "                        has_ehr_data = 1 ) \n",
    "                    AND cb_search_person.person_id IN (SELECT\n",
    "                        person_id \n",
    "                    FROM\n",
    "                        `\"\"\" + os.environ[\"WORKSPACE_CDR\"] + \"\"\".cb_search_person` p \n",
    "                    WHERE\n",
    "                        has_whole_genome_variant = 1 ) \n",
    "                    AND cb_search_person.person_id IN (SELECT\n",
    "                        person_id \n",
    "                    FROM\n",
    "                        `\"\"\" + os.environ[\"WORKSPACE_CDR\"] + \"\"\".cb_search_person` p \n",
    "                    WHERE\n",
    "                        DATE_DIFF(CURRENT_DATE, dob, YEAR) - IF(EXTRACT(MONTH FROM dob)*100 + EXTRACT(DAY FROM dob) > EXTRACT(MONTH FROM CURRENT_DATE)*100 + EXTRACT(DAY FROM CURRENT_DATE), 1, 0) BETWEEN 18 AND 100 \n",
    "                        AND NOT EXISTS (      SELECT\n",
    "                            'x'      \n",
    "                        FROM\n",
    "                            `\"\"\" + os.environ[\"WORKSPACE_CDR\"] + \"\"\".death` d      \n",
    "                        WHERE\n",
    "                            d.person_id = p.person_id ) ) \n",
    "                    AND cb_search_person.person_id IN (SELECT\n",
    "                        criteria.person_id \n",
    "                    FROM\n",
    "                        (SELECT\n",
    "                            DISTINCT person_id, entry_date, concept_id \n",
    "                        FROM\n",
    "                            `\"\"\" + os.environ[\"WORKSPACE_CDR\"] + \"\"\".cb_search_all_events` \n",
    "                        WHERE\n",
    "                            (concept_id IN (3038553) \n",
    "                            AND is_standard = 1 )) criteria ) \n",
    "                    AND cb_search_person.person_id IN (SELECT\n",
    "                        criteria.person_id \n",
    "                    FROM\n",
    "                        (SELECT\n",
    "                            DISTINCT person_id, entry_date, concept_id \n",
    "                        FROM\n",
    "                            `\"\"\" + os.environ[\"WORKSPACE_CDR\"] + \"\"\".cb_search_all_events` \n",
    "                        WHERE\n",
    "                            (concept_id IN(SELECT\n",
    "                                DISTINCT c.concept_id \n",
    "                            FROM\n",
    "                                `\"\"\" + os.environ[\"WORKSPACE_CDR\"] + \"\"\".cb_criteria` c \n",
    "                            JOIN\n",
    "                                (SELECT\n",
    "                                    CAST(cr.id as string) AS id       \n",
    "                                FROM\n",
    "                                    `\"\"\" + os.environ[\"WORKSPACE_CDR\"] + \"\"\".cb_criteria` cr       \n",
    "                                WHERE\n",
    "                                    concept_id IN (1585952, 1585940, 1585723, 1585375, 1585723, 1585729, 1585386, 1585952, 1585375, 1585952, 1585375, 1585375, 1585892, 1585892, 1585375, 1585940, 1585952, 1585855, 1585729, 1585375, 1740639, 1585940, 1585952, 1585375, 1585375, 1585729, 43528895, 1585723, 1585723, 1585892, 1585940, 1585892, 1585386, 1585386, 40192389, 1585729, 1585892, 1585375, 1585723, 1585952, 1585940, 1586134, 1585940, 1585386, 1585710, 1585729, 1585892, 1585892, 1585940, 1585952, 1585940, 1585940, 1585729, 1585892, 1585952, 1585940, 1585892, 1585723, 1585723, 1585729, 1585729, 1585386, 1585952, 1585375, 1585952, 1585940, 1585952, 1585386, 1585375, 1585375)       \n",
    "                                    AND full_text LIKE '%_rank1]%'      ) a \n",
    "                                    ON (c.path LIKE CONCAT('%.', a.id, '.%') \n",
    "                                    OR c.path LIKE CONCAT('%.', a.id) \n",
    "                                    OR c.path LIKE CONCAT(a.id, '.%') \n",
    "                                    OR c.path = a.id) \n",
    "                            WHERE\n",
    "                                is_standard = 0 \n",
    "                                AND is_selectable = 1) \n",
    "                            AND is_standard = 0 )) criteria ) \n",
    "                    AND cb_search_person.person_id IN (SELECT\n",
    "                        criteria.person_id \n",
    "                    FROM\n",
    "                        (SELECT\n",
    "                            DISTINCT person_id, entry_date, concept_id \n",
    "                        FROM\n",
    "                            `\"\"\" + os.environ[\"WORKSPACE_CDR\"] + \"\"\".cb_search_all_events` \n",
    "                        WHERE\n",
    "                            (concept_id IN (3027018) \n",
    "                            AND is_standard = 1 )) criteria ) \n",
    "                    AND cb_search_person.person_id IN (SELECT\n",
    "                        criteria.person_id \n",
    "                    FROM\n",
    "                        (SELECT\n",
    "                            DISTINCT person_id, entry_date, concept_id \n",
    "                        FROM\n",
    "                            `\"\"\" + os.environ[\"WORKSPACE_CDR\"] + \"\"\".cb_search_all_events` \n",
    "                        WHERE\n",
    "                            (concept_id IN (903118, 903115) \n",
    "                            AND is_standard = 0 )) criteria ) \n",
    "                    AND cb_search_person.person_id IN (SELECT\n",
    "                        criteria.person_id \n",
    "                    FROM\n",
    "                        (SELECT\n",
    "                            DISTINCT person_id, entry_date, concept_id \n",
    "                        FROM\n",
    "                            `\"\"\" + os.environ[\"WORKSPACE_CDR\"] + \"\"\".cb_search_all_events` \n",
    "                        WHERE\n",
    "                            (concept_id IN (3013682) \n",
    "                            AND is_standard = 1 )) criteria ) \n",
    "                    AND cb_search_person.person_id IN (SELECT\n",
    "                        criteria.person_id \n",
    "                    FROM\n",
    "                        (SELECT\n",
    "                            DISTINCT person_id, entry_date, concept_id \n",
    "                        FROM\n",
    "                            `\"\"\" + os.environ[\"WORKSPACE_CDR\"] + \"\"\".cb_search_all_events` \n",
    "                        WHERE\n",
    "                            (concept_id IN (3004501) \n",
    "                            AND is_standard = 1 )) criteria ) \n",
    "                    AND cb_search_person.person_id IN (SELECT\n",
    "                        criteria.person_id \n",
    "                    FROM\n",
    "                        (SELECT\n",
    "                            DISTINCT person_id, entry_date, concept_id \n",
    "                        FROM\n",
    "                            `\"\"\" + os.environ[\"WORKSPACE_CDR\"] + \"\"\".cb_search_all_events` \n",
    "                        WHERE\n",
    "                            (concept_id IN (3019550) \n",
    "                            AND is_standard = 1 )) criteria ) \n",
    "                    AND cb_search_person.person_id IN (SELECT\n",
    "                        criteria.person_id \n",
    "                    FROM\n",
    "                        (SELECT\n",
    "                            DISTINCT person_id, entry_date, concept_id \n",
    "                        FROM\n",
    "                            `\"\"\" + os.environ[\"WORKSPACE_CDR\"] + \"\"\".cb_search_all_events` \n",
    "                        WHERE\n",
    "                            (concept_id IN (3023103) \n",
    "                            AND is_standard = 1 )) criteria ) \n",
    "                    AND cb_search_person.person_id NOT IN (SELECT\n",
    "                        criteria.person_id \n",
    "                    FROM\n",
    "                        (SELECT\n",
    "                            DISTINCT person_id, entry_date, concept_id \n",
    "                        FROM\n",
    "                            `\"\"\" + os.environ[\"WORKSPACE_CDR\"] + \"\"\".cb_search_all_events` \n",
    "                        WHERE\n",
    "                            (concept_id IN(SELECT\n",
    "                                DISTINCT c.concept_id \n",
    "                            FROM\n",
    "                                `\"\"\" + os.environ[\"WORKSPACE_CDR\"] + \"\"\".cb_criteria` c \n",
    "                            JOIN\n",
    "                                (SELECT\n",
    "                                    CAST(cr.id as string) AS id       \n",
    "                                FROM\n",
    "                                    `\"\"\" + os.environ[\"WORKSPACE_CDR\"] + \"\"\".cb_criteria` cr       \n",
    "                                WHERE\n",
    "                                    concept_id IN (443392)       \n",
    "                                    AND full_text LIKE '%_rank1]%'      ) a \n",
    "                                    ON (c.path LIKE CONCAT('%.', a.id, '.%') \n",
    "                                    OR c.path LIKE CONCAT('%.', a.id) \n",
    "                                    OR c.path LIKE CONCAT(a.id, '.%') \n",
    "                                    OR c.path = a.id) \n",
    "                            WHERE\n",
    "                                is_standard = 1 \n",
    "                                AND is_selectable = 1) \n",
    "                            AND is_standard = 1 )) criteria ) \n",
    "                    AND cb_search_person.person_id NOT IN (SELECT\n",
    "                        person_id \n",
    "                    FROM\n",
    "                        `\"\"\" + os.environ[\"WORKSPACE_CDR\"] + \"\"\".person` p \n",
    "                    WHERE\n",
    "                        ethnicity_concept_id IN (903079, 0, 903096, 1586148) ) \n",
    "                    AND cb_search_person.person_id NOT IN (SELECT\n",
    "                        person_id \n",
    "                    FROM\n",
    "                        `\"\"\" + os.environ[\"WORKSPACE_CDR\"] + \"\"\".person` p \n",
    "                    WHERE\n",
    "                        sex_at_birth_concept_id IN (903096, 1177221, 0, 1585849, 46273637) ) \n",
    "                    AND cb_search_person.person_id NOT IN (SELECT\n",
    "                        person_id \n",
    "                    FROM\n",
    "                        `\"\"\" + os.environ[\"WORKSPACE_CDR\"] + \"\"\".person` p \n",
    "                    WHERE\n",
    "                        race_concept_id IN (2100000001, 903096, 45882607, 1177221) ) )\n",
    "            )) c_occurrence \n",
    "    LEFT JOIN\n",
    "        `\"\"\" + os.environ[\"WORKSPACE_CDR\"] + \"\"\".concept` c_standard_concept \n",
    "            ON c_occurrence.condition_concept_id = c_standard_concept.concept_id\"\"\"\n",
    "\n",
    "dataset_30560220_condition_df = pd.read_gbq(\n",
    "    dataset_30560220_condition_sql,\n",
    "    dialect=\"standard\",\n",
    "    use_bqstorage_api=(\"BIGQUERY_STORAGE_API_ENABLED\" in os.environ),\n",
    "    progress_bar_type=\"tqdm_notebook\")\n",
    "\n",
    "dataset_30560220_condition_df.head(5)"
   ]
  },
  {
   "cell_type": "code",
   "execution_count": null,
   "metadata": {},
   "outputs": [],
   "source": [
    "dataset_30560220_condition_df['standard_concept_name'].unique()"
   ]
  },
  {
   "cell_type": "code",
   "execution_count": null,
   "metadata": {},
   "outputs": [],
   "source": [
    "diabetes_df = (\n",
    "    dataset_30560220_condition_df\n",
    "    .assign(diabetes=dataset_30560220_condition_df['standard_concept_name'].notna().astype(int))\n",
    "    .groupby('person_id', as_index=False)['diabetes']\n",
    "    .max()\n",
    ")"
   ]
  },
  {
   "cell_type": "code",
   "execution_count": null,
   "metadata": {},
   "outputs": [],
   "source": [
    "ckd_features_df_9 = (\n",
    "   ckd_features_df_8.merge(diabetes_df, on=\"person_id\", how=\"left\")\n",
    ")"
   ]
  },
  {
   "cell_type": "code",
   "execution_count": null,
   "metadata": {},
   "outputs": [],
   "source": [
    "ckd_features_df_9['diabetes'].isna().sum()"
   ]
  },
  {
   "cell_type": "code",
   "execution_count": null,
   "metadata": {},
   "outputs": [],
   "source": [
    "ckd_features_df_9['diabetes'] = ckd_features_df_9['diabetes'].fillna(0)"
   ]
  },
  {
   "cell_type": "code",
   "execution_count": null,
   "metadata": {},
   "outputs": [],
   "source": [
    "ckd_features_df_9['diabetes'].value_counts()"
   ]
  },
  {
   "cell_type": "markdown",
   "metadata": {},
   "source": [
    "## Hypertension"
   ]
  },
  {
   "cell_type": "code",
   "execution_count": null,
   "metadata": {},
   "outputs": [],
   "source": [
    "# This query represents dataset \"ML Features- CKD\" for domain \"condition\" and was generated for All of Us Controlled Tier Dataset v8\n",
    "dataset_01165059_condition_sql = \"\"\"\n",
    "    SELECT\n",
    "        c_occurrence.person_id,\n",
    "        c_standard_concept.concept_name as standard_concept_name \n",
    "    FROM\n",
    "        ( SELECT\n",
    "            * \n",
    "        FROM\n",
    "            `\"\"\" + os.environ[\"WORKSPACE_CDR\"] + \"\"\".condition_occurrence` c_occurrence \n",
    "        WHERE\n",
    "            (\n",
    "                condition_concept_id IN (SELECT\n",
    "                    DISTINCT c.concept_id \n",
    "                FROM\n",
    "                    `\"\"\" + os.environ[\"WORKSPACE_CDR\"] + \"\"\".cb_criteria` c \n",
    "                JOIN\n",
    "                    (SELECT\n",
    "                        CAST(cr.id as string) AS id       \n",
    "                    FROM\n",
    "                        `\"\"\" + os.environ[\"WORKSPACE_CDR\"] + \"\"\".cb_criteria` cr       \n",
    "                    WHERE\n",
    "                        concept_id IN (316866, 320128)       \n",
    "                        AND full_text LIKE '%_rank1]%'      ) a \n",
    "                        ON (c.path LIKE CONCAT('%.', a.id, '.%') \n",
    "                        OR c.path LIKE CONCAT('%.', a.id) \n",
    "                        OR c.path LIKE CONCAT(a.id, '.%') \n",
    "                        OR c.path = a.id) \n",
    "                WHERE\n",
    "                    is_standard = 1 \n",
    "                    AND is_selectable = 1)\n",
    "            )  \n",
    "            AND (\n",
    "                c_occurrence.PERSON_ID IN (SELECT\n",
    "                    distinct person_id  \n",
    "                FROM\n",
    "                    `\"\"\" + os.environ[\"WORKSPACE_CDR\"] + \"\"\".cb_search_person` cb_search_person  \n",
    "                WHERE\n",
    "                    cb_search_person.person_id IN (SELECT\n",
    "                        person_id \n",
    "                    FROM\n",
    "                        `\"\"\" + os.environ[\"WORKSPACE_CDR\"] + \"\"\".cb_search_person` p \n",
    "                    WHERE\n",
    "                        DATE_DIFF(CURRENT_DATE, dob, YEAR) - IF(EXTRACT(MONTH FROM dob)*100 + EXTRACT(DAY FROM dob) > EXTRACT(MONTH FROM CURRENT_DATE)*100 + EXTRACT(DAY FROM CURRENT_DATE), 1, 0) BETWEEN 18 AND 124 \n",
    "                        AND NOT EXISTS (      SELECT\n",
    "                            'x'      \n",
    "                        FROM\n",
    "                            `\"\"\" + os.environ[\"WORKSPACE_CDR\"] + \"\"\".death` d      \n",
    "                        WHERE\n",
    "                            d.person_id = p.person_id ) ) \n",
    "                    AND cb_search_person.person_id IN (SELECT\n",
    "                        person_id \n",
    "                    FROM\n",
    "                        `\"\"\" + os.environ[\"WORKSPACE_CDR\"] + \"\"\".cb_search_person` p \n",
    "                    WHERE\n",
    "                        has_ehr_data = 1 ) \n",
    "                    AND cb_search_person.person_id IN (SELECT\n",
    "                        person_id \n",
    "                    FROM\n",
    "                        `\"\"\" + os.environ[\"WORKSPACE_CDR\"] + \"\"\".cb_search_person` p \n",
    "                    WHERE\n",
    "                        has_whole_genome_variant = 1 ) \n",
    "                    AND cb_search_person.person_id IN (SELECT\n",
    "                        person_id \n",
    "                    FROM\n",
    "                        `\"\"\" + os.environ[\"WORKSPACE_CDR\"] + \"\"\".cb_search_person` p \n",
    "                    WHERE\n",
    "                        DATE_DIFF(CURRENT_DATE, dob, YEAR) - IF(EXTRACT(MONTH FROM dob)*100 + EXTRACT(DAY FROM dob) > EXTRACT(MONTH FROM CURRENT_DATE)*100 + EXTRACT(DAY FROM CURRENT_DATE), 1, 0) BETWEEN 18 AND 100 \n",
    "                        AND NOT EXISTS (      SELECT\n",
    "                            'x'      \n",
    "                        FROM\n",
    "                            `\"\"\" + os.environ[\"WORKSPACE_CDR\"] + \"\"\".death` d      \n",
    "                        WHERE\n",
    "                            d.person_id = p.person_id ) ) \n",
    "                    AND cb_search_person.person_id IN (SELECT\n",
    "                        criteria.person_id \n",
    "                    FROM\n",
    "                        (SELECT\n",
    "                            DISTINCT person_id, entry_date, concept_id \n",
    "                        FROM\n",
    "                            `\"\"\" + os.environ[\"WORKSPACE_CDR\"] + \"\"\".cb_search_all_events` \n",
    "                        WHERE\n",
    "                            (concept_id IN (3038553) \n",
    "                            AND is_standard = 1 )) criteria ) \n",
    "                    AND cb_search_person.person_id IN (SELECT\n",
    "                        criteria.person_id \n",
    "                    FROM\n",
    "                        (SELECT\n",
    "                            DISTINCT person_id, entry_date, concept_id \n",
    "                        FROM\n",
    "                            `\"\"\" + os.environ[\"WORKSPACE_CDR\"] + \"\"\".cb_search_all_events` \n",
    "                        WHERE\n",
    "                            (concept_id IN(SELECT\n",
    "                                DISTINCT c.concept_id \n",
    "                            FROM\n",
    "                                `\"\"\" + os.environ[\"WORKSPACE_CDR\"] + \"\"\".cb_criteria` c \n",
    "                            JOIN\n",
    "                                (SELECT\n",
    "                                    CAST(cr.id as string) AS id       \n",
    "                                FROM\n",
    "                                    `\"\"\" + os.environ[\"WORKSPACE_CDR\"] + \"\"\".cb_criteria` cr       \n",
    "                                WHERE\n",
    "                                    concept_id IN (1585952, 1585940, 1585723, 1585375, 1585723, 1585729, 1585386, 1585952, 1585375, 1585952, 1585375, 1585375, 1585892, 1585892, 1585375, 1585940, 1585952, 1585855, 1585729, 1585375, 1740639, 1585940, 1585952, 1585375, 1585375, 1585729, 43528895, 1585723, 1585723, 1585892, 1585940, 1585892, 1585386, 1585386, 40192389, 1585729, 1585892, 1585375, 1585723, 1585952, 1585940, 1586134, 1585940, 1585386, 1585710, 1585729, 1585892, 1585892, 1585940, 1585952, 1585940, 1585940, 1585729, 1585892, 1585952, 1585940, 1585892, 1585723, 1585723, 1585729, 1585729, 1585386, 1585952, 1585375, 1585952, 1585940, 1585952, 1585386, 1585375, 1585375)       \n",
    "                                    AND full_text LIKE '%_rank1]%'      ) a \n",
    "                                    ON (c.path LIKE CONCAT('%.', a.id, '.%') \n",
    "                                    OR c.path LIKE CONCAT('%.', a.id) \n",
    "                                    OR c.path LIKE CONCAT(a.id, '.%') \n",
    "                                    OR c.path = a.id) \n",
    "                            WHERE\n",
    "                                is_standard = 0 \n",
    "                                AND is_selectable = 1) \n",
    "                            AND is_standard = 0 )) criteria ) \n",
    "                    AND cb_search_person.person_id IN (SELECT\n",
    "                        criteria.person_id \n",
    "                    FROM\n",
    "                        (SELECT\n",
    "                            DISTINCT person_id, entry_date, concept_id \n",
    "                        FROM\n",
    "                            `\"\"\" + os.environ[\"WORKSPACE_CDR\"] + \"\"\".cb_search_all_events` \n",
    "                        WHERE\n",
    "                            (concept_id IN (3027018) \n",
    "                            AND is_standard = 1 )) criteria ) \n",
    "                    AND cb_search_person.person_id IN (SELECT\n",
    "                        criteria.person_id \n",
    "                    FROM\n",
    "                        (SELECT\n",
    "                            DISTINCT person_id, entry_date, concept_id \n",
    "                        FROM\n",
    "                            `\"\"\" + os.environ[\"WORKSPACE_CDR\"] + \"\"\".cb_search_all_events` \n",
    "                        WHERE\n",
    "                            (concept_id IN (903118, 903115) \n",
    "                            AND is_standard = 0 )) criteria ) \n",
    "                    AND cb_search_person.person_id IN (SELECT\n",
    "                        criteria.person_id \n",
    "                    FROM\n",
    "                        (SELECT\n",
    "                            DISTINCT person_id, entry_date, concept_id \n",
    "                        FROM\n",
    "                            `\"\"\" + os.environ[\"WORKSPACE_CDR\"] + \"\"\".cb_search_all_events` \n",
    "                        WHERE\n",
    "                            (concept_id IN (3013682) \n",
    "                            AND is_standard = 1 )) criteria ) \n",
    "                    AND cb_search_person.person_id IN (SELECT\n",
    "                        criteria.person_id \n",
    "                    FROM\n",
    "                        (SELECT\n",
    "                            DISTINCT person_id, entry_date, concept_id \n",
    "                        FROM\n",
    "                            `\"\"\" + os.environ[\"WORKSPACE_CDR\"] + \"\"\".cb_search_all_events` \n",
    "                        WHERE\n",
    "                            (concept_id IN (3004501) \n",
    "                            AND is_standard = 1 )) criteria ) \n",
    "                    AND cb_search_person.person_id IN (SELECT\n",
    "                        criteria.person_id \n",
    "                    FROM\n",
    "                        (SELECT\n",
    "                            DISTINCT person_id, entry_date, concept_id \n",
    "                        FROM\n",
    "                            `\"\"\" + os.environ[\"WORKSPACE_CDR\"] + \"\"\".cb_search_all_events` \n",
    "                        WHERE\n",
    "                            (concept_id IN (3019550) \n",
    "                            AND is_standard = 1 )) criteria ) \n",
    "                    AND cb_search_person.person_id IN (SELECT\n",
    "                        criteria.person_id \n",
    "                    FROM\n",
    "                        (SELECT\n",
    "                            DISTINCT person_id, entry_date, concept_id \n",
    "                        FROM\n",
    "                            `\"\"\" + os.environ[\"WORKSPACE_CDR\"] + \"\"\".cb_search_all_events` \n",
    "                        WHERE\n",
    "                            (concept_id IN (3023103) \n",
    "                            AND is_standard = 1 )) criteria ) \n",
    "                    AND cb_search_person.person_id NOT IN (SELECT\n",
    "                        criteria.person_id \n",
    "                    FROM\n",
    "                        (SELECT\n",
    "                            DISTINCT person_id, entry_date, concept_id \n",
    "                        FROM\n",
    "                            `\"\"\" + os.environ[\"WORKSPACE_CDR\"] + \"\"\".cb_search_all_events` \n",
    "                        WHERE\n",
    "                            (concept_id IN(SELECT\n",
    "                                DISTINCT c.concept_id \n",
    "                            FROM\n",
    "                                `\"\"\" + os.environ[\"WORKSPACE_CDR\"] + \"\"\".cb_criteria` c \n",
    "                            JOIN\n",
    "                                (SELECT\n",
    "                                    CAST(cr.id as string) AS id       \n",
    "                                FROM\n",
    "                                    `\"\"\" + os.environ[\"WORKSPACE_CDR\"] + \"\"\".cb_criteria` cr       \n",
    "                                WHERE\n",
    "                                    concept_id IN (443392)       \n",
    "                                    AND full_text LIKE '%_rank1]%'      ) a \n",
    "                                    ON (c.path LIKE CONCAT('%.', a.id, '.%') \n",
    "                                    OR c.path LIKE CONCAT('%.', a.id) \n",
    "                                    OR c.path LIKE CONCAT(a.id, '.%') \n",
    "                                    OR c.path = a.id) \n",
    "                            WHERE\n",
    "                                is_standard = 1 \n",
    "                                AND is_selectable = 1) \n",
    "                            AND is_standard = 1 )) criteria ) \n",
    "                    AND cb_search_person.person_id NOT IN (SELECT\n",
    "                        person_id \n",
    "                    FROM\n",
    "                        `\"\"\" + os.environ[\"WORKSPACE_CDR\"] + \"\"\".person` p \n",
    "                    WHERE\n",
    "                        ethnicity_concept_id IN (903079, 0, 903096, 1586148) ) \n",
    "                    AND cb_search_person.person_id NOT IN (SELECT\n",
    "                        person_id \n",
    "                    FROM\n",
    "                        `\"\"\" + os.environ[\"WORKSPACE_CDR\"] + \"\"\".person` p \n",
    "                    WHERE\n",
    "                        sex_at_birth_concept_id IN (903096, 1177221, 0, 1585849, 46273637) ) \n",
    "                    AND cb_search_person.person_id NOT IN (SELECT\n",
    "                        person_id \n",
    "                    FROM\n",
    "                        `\"\"\" + os.environ[\"WORKSPACE_CDR\"] + \"\"\".person` p \n",
    "                    WHERE\n",
    "                        race_concept_id IN (2100000001, 903096, 45882607, 1177221) ) )\n",
    "            )) c_occurrence \n",
    "    LEFT JOIN\n",
    "        `\"\"\" + os.environ[\"WORKSPACE_CDR\"] + \"\"\".concept` c_standard_concept \n",
    "            ON c_occurrence.condition_concept_id = c_standard_concept.concept_id\"\"\"\n",
    "\n",
    "dataset_01165059_condition_df = pd.read_gbq(\n",
    "    dataset_01165059_condition_sql,\n",
    "    dialect=\"standard\",\n",
    "    use_bqstorage_api=(\"BIGQUERY_STORAGE_API_ENABLED\" in os.environ),\n",
    "    progress_bar_type=\"tqdm_notebook\")\n",
    "\n",
    "dataset_01165059_condition_df.head(5)"
   ]
  },
  {
   "cell_type": "code",
   "execution_count": null,
   "metadata": {},
   "outputs": [],
   "source": [
    "hypertension_df = (\n",
    "    dataset_01165059_condition_df\n",
    "    .assign(hypertension=dataset_01165059_condition_df['standard_concept_name'].notna().astype(int))\n",
    "    .groupby('person_id', as_index=False)['hypertension']\n",
    "    .max()\n",
    ")"
   ]
  },
  {
   "cell_type": "code",
   "execution_count": null,
   "metadata": {},
   "outputs": [],
   "source": [
    "ckd_features_df_10 = (\n",
    "   ckd_features_df_9.merge(hypertension_df, on=\"person_id\", how=\"left\")\n",
    ")"
   ]
  },
  {
   "cell_type": "code",
   "execution_count": null,
   "metadata": {},
   "outputs": [],
   "source": [
    "ckd_features_df_10['hypertension'].isna().sum()"
   ]
  },
  {
   "cell_type": "code",
   "execution_count": null,
   "metadata": {},
   "outputs": [],
   "source": [
    "ckd_features_df_10['hypertension'] = ckd_features_df_10['hypertension'].fillna(0)"
   ]
  },
  {
   "cell_type": "code",
   "execution_count": null,
   "metadata": {},
   "outputs": [],
   "source": [
    "ckd_features_df_10['hypertension'].value_counts()"
   ]
  },
  {
   "cell_type": "markdown",
   "metadata": {},
   "source": [
    "## Add more lab values "
   ]
  },
  {
   "cell_type": "code",
   "execution_count": null,
   "metadata": {},
   "outputs": [],
   "source": [
    "# This query represents dataset \"ML Features- CKD\" for domain \"measurement\" and was generated for All of Us Controlled Tier Dataset v8\n",
    "dataset_50879404_measurement_sql = \"\"\"\n",
    "    SELECT\n",
    "        measurement.person_id,\n",
    "        m_standard_concept.concept_name as standard_concept_name,\n",
    "        measurement.measurement_datetime,\n",
    "        measurement.value_as_number,\n",
    "        m_unit.concept_name as unit_concept_name \n",
    "    FROM\n",
    "        ( SELECT\n",
    "            * \n",
    "        FROM\n",
    "            `\"\"\" + os.environ[\"WORKSPACE_CDR\"] + \"\"\".measurement` measurement \n",
    "        WHERE\n",
    "            (\n",
    "                measurement_concept_id IN (SELECT\n",
    "                    DISTINCT c.concept_id \n",
    "                FROM\n",
    "                    `\"\"\" + os.environ[\"WORKSPACE_CDR\"] + \"\"\".cb_criteria` c \n",
    "                JOIN\n",
    "                    (SELECT\n",
    "                        CAST(cr.id as string) AS id       \n",
    "                    FROM\n",
    "                        `\"\"\" + os.environ[\"WORKSPACE_CDR\"] + \"\"\".cb_criteria` cr       \n",
    "                    WHERE\n",
    "                        concept_id IN (3000905, 3000963, 3020416)       \n",
    "                        AND full_text LIKE '%_rank1]%'      ) a \n",
    "                        ON (c.path LIKE CONCAT('%.', a.id, '.%') \n",
    "                        OR c.path LIKE CONCAT('%.', a.id) \n",
    "                        OR c.path LIKE CONCAT(a.id, '.%') \n",
    "                        OR c.path = a.id) \n",
    "                WHERE\n",
    "                    is_standard = 1 \n",
    "                    AND is_selectable = 1)\n",
    "            )  \n",
    "            AND (\n",
    "                measurement.PERSON_ID IN (SELECT\n",
    "                    distinct person_id  \n",
    "                FROM\n",
    "                    `\"\"\" + os.environ[\"WORKSPACE_CDR\"] + \"\"\".cb_search_person` cb_search_person  \n",
    "                WHERE\n",
    "                    cb_search_person.person_id IN (SELECT\n",
    "                        person_id \n",
    "                    FROM\n",
    "                        `\"\"\" + os.environ[\"WORKSPACE_CDR\"] + \"\"\".cb_search_person` p \n",
    "                    WHERE\n",
    "                        DATE_DIFF(CURRENT_DATE, dob, YEAR) - IF(EXTRACT(MONTH FROM dob)*100 + EXTRACT(DAY FROM dob) > EXTRACT(MONTH FROM CURRENT_DATE)*100 + EXTRACT(DAY FROM CURRENT_DATE), 1, 0) BETWEEN 18 AND 124 \n",
    "                        AND NOT EXISTS (      SELECT\n",
    "                            'x'      \n",
    "                        FROM\n",
    "                            `\"\"\" + os.environ[\"WORKSPACE_CDR\"] + \"\"\".death` d      \n",
    "                        WHERE\n",
    "                            d.person_id = p.person_id ) ) \n",
    "                    AND cb_search_person.person_id IN (SELECT\n",
    "                        person_id \n",
    "                    FROM\n",
    "                        `\"\"\" + os.environ[\"WORKSPACE_CDR\"] + \"\"\".cb_search_person` p \n",
    "                    WHERE\n",
    "                        has_ehr_data = 1 ) \n",
    "                    AND cb_search_person.person_id IN (SELECT\n",
    "                        person_id \n",
    "                    FROM\n",
    "                        `\"\"\" + os.environ[\"WORKSPACE_CDR\"] + \"\"\".cb_search_person` p \n",
    "                    WHERE\n",
    "                        has_whole_genome_variant = 1 ) \n",
    "                    AND cb_search_person.person_id IN (SELECT\n",
    "                        person_id \n",
    "                    FROM\n",
    "                        `\"\"\" + os.environ[\"WORKSPACE_CDR\"] + \"\"\".cb_search_person` p \n",
    "                    WHERE\n",
    "                        DATE_DIFF(CURRENT_DATE, dob, YEAR) - IF(EXTRACT(MONTH FROM dob)*100 + EXTRACT(DAY FROM dob) > EXTRACT(MONTH FROM CURRENT_DATE)*100 + EXTRACT(DAY FROM CURRENT_DATE), 1, 0) BETWEEN 18 AND 100 \n",
    "                        AND NOT EXISTS (      SELECT\n",
    "                            'x'      \n",
    "                        FROM\n",
    "                            `\"\"\" + os.environ[\"WORKSPACE_CDR\"] + \"\"\".death` d      \n",
    "                        WHERE\n",
    "                            d.person_id = p.person_id ) ) \n",
    "                    AND cb_search_person.person_id IN (SELECT\n",
    "                        criteria.person_id \n",
    "                    FROM\n",
    "                        (SELECT\n",
    "                            DISTINCT person_id, entry_date, concept_id \n",
    "                        FROM\n",
    "                            `\"\"\" + os.environ[\"WORKSPACE_CDR\"] + \"\"\".cb_search_all_events` \n",
    "                        WHERE\n",
    "                            (concept_id IN (3038553) \n",
    "                            AND is_standard = 1 )) criteria ) \n",
    "                    AND cb_search_person.person_id IN (SELECT\n",
    "                        criteria.person_id \n",
    "                    FROM\n",
    "                        (SELECT\n",
    "                            DISTINCT person_id, entry_date, concept_id \n",
    "                        FROM\n",
    "                            `\"\"\" + os.environ[\"WORKSPACE_CDR\"] + \"\"\".cb_search_all_events` \n",
    "                        WHERE\n",
    "                            (concept_id IN(SELECT\n",
    "                                DISTINCT c.concept_id \n",
    "                            FROM\n",
    "                                `\"\"\" + os.environ[\"WORKSPACE_CDR\"] + \"\"\".cb_criteria` c \n",
    "                            JOIN\n",
    "                                (SELECT\n",
    "                                    CAST(cr.id as string) AS id       \n",
    "                                FROM\n",
    "                                    `\"\"\" + os.environ[\"WORKSPACE_CDR\"] + \"\"\".cb_criteria` cr       \n",
    "                                WHERE\n",
    "                                    concept_id IN (1585952, 1585940, 1585723, 1585375, 1585723, 1585729, 1585386, 1585952, 1585375, 1585952, 1585375, 1585375, 1585892, 1585892, 1585375, 1585940, 1585952, 1585855, 1585729, 1585375, 1740639, 1585940, 1585952, 1585375, 1585375, 1585729, 43528895, 1585723, 1585723, 1585892, 1585940, 1585892, 1585386, 1585386, 40192389, 1585729, 1585892, 1585375, 1585723, 1585952, 1585940, 1586134, 1585940, 1585386, 1585710, 1585729, 1585892, 1585892, 1585940, 1585952, 1585940, 1585940, 1585729, 1585892, 1585952, 1585940, 1585892, 1585723, 1585723, 1585729, 1585729, 1585386, 1585952, 1585375, 1585952, 1585940, 1585952, 1585386, 1585375, 1585375)       \n",
    "                                    AND full_text LIKE '%_rank1]%'      ) a \n",
    "                                    ON (c.path LIKE CONCAT('%.', a.id, '.%') \n",
    "                                    OR c.path LIKE CONCAT('%.', a.id) \n",
    "                                    OR c.path LIKE CONCAT(a.id, '.%') \n",
    "                                    OR c.path = a.id) \n",
    "                            WHERE\n",
    "                                is_standard = 0 \n",
    "                                AND is_selectable = 1) \n",
    "                            AND is_standard = 0 )) criteria ) \n",
    "                    AND cb_search_person.person_id IN (SELECT\n",
    "                        criteria.person_id \n",
    "                    FROM\n",
    "                        (SELECT\n",
    "                            DISTINCT person_id, entry_date, concept_id \n",
    "                        FROM\n",
    "                            `\"\"\" + os.environ[\"WORKSPACE_CDR\"] + \"\"\".cb_search_all_events` \n",
    "                        WHERE\n",
    "                            (concept_id IN (3027018) \n",
    "                            AND is_standard = 1 )) criteria ) \n",
    "                    AND cb_search_person.person_id IN (SELECT\n",
    "                        criteria.person_id \n",
    "                    FROM\n",
    "                        (SELECT\n",
    "                            DISTINCT person_id, entry_date, concept_id \n",
    "                        FROM\n",
    "                            `\"\"\" + os.environ[\"WORKSPACE_CDR\"] + \"\"\".cb_search_all_events` \n",
    "                        WHERE\n",
    "                            (concept_id IN (903118, 903115) \n",
    "                            AND is_standard = 0 )) criteria ) \n",
    "                    AND cb_search_person.person_id IN (SELECT\n",
    "                        criteria.person_id \n",
    "                    FROM\n",
    "                        (SELECT\n",
    "                            DISTINCT person_id, entry_date, concept_id \n",
    "                        FROM\n",
    "                            `\"\"\" + os.environ[\"WORKSPACE_CDR\"] + \"\"\".cb_search_all_events` \n",
    "                        WHERE\n",
    "                            (concept_id IN (3013682) \n",
    "                            AND is_standard = 1 )) criteria ) \n",
    "                    AND cb_search_person.person_id IN (SELECT\n",
    "                        criteria.person_id \n",
    "                    FROM\n",
    "                        (SELECT\n",
    "                            DISTINCT person_id, entry_date, concept_id \n",
    "                        FROM\n",
    "                            `\"\"\" + os.environ[\"WORKSPACE_CDR\"] + \"\"\".cb_search_all_events` \n",
    "                        WHERE\n",
    "                            (concept_id IN (3004501) \n",
    "                            AND is_standard = 1 )) criteria ) \n",
    "                    AND cb_search_person.person_id IN (SELECT\n",
    "                        criteria.person_id \n",
    "                    FROM\n",
    "                        (SELECT\n",
    "                            DISTINCT person_id, entry_date, concept_id \n",
    "                        FROM\n",
    "                            `\"\"\" + os.environ[\"WORKSPACE_CDR\"] + \"\"\".cb_search_all_events` \n",
    "                        WHERE\n",
    "                            (concept_id IN (3019550) \n",
    "                            AND is_standard = 1 )) criteria ) \n",
    "                    AND cb_search_person.person_id IN (SELECT\n",
    "                        criteria.person_id \n",
    "                    FROM\n",
    "                        (SELECT\n",
    "                            DISTINCT person_id, entry_date, concept_id \n",
    "                        FROM\n",
    "                            `\"\"\" + os.environ[\"WORKSPACE_CDR\"] + \"\"\".cb_search_all_events` \n",
    "                        WHERE\n",
    "                            (concept_id IN (3023103) \n",
    "                            AND is_standard = 1 )) criteria ) \n",
    "                    AND cb_search_person.person_id NOT IN (SELECT\n",
    "                        criteria.person_id \n",
    "                    FROM\n",
    "                        (SELECT\n",
    "                            DISTINCT person_id, entry_date, concept_id \n",
    "                        FROM\n",
    "                            `\"\"\" + os.environ[\"WORKSPACE_CDR\"] + \"\"\".cb_search_all_events` \n",
    "                        WHERE\n",
    "                            (concept_id IN(SELECT\n",
    "                                DISTINCT c.concept_id \n",
    "                            FROM\n",
    "                                `\"\"\" + os.environ[\"WORKSPACE_CDR\"] + \"\"\".cb_criteria` c \n",
    "                            JOIN\n",
    "                                (SELECT\n",
    "                                    CAST(cr.id as string) AS id       \n",
    "                                FROM\n",
    "                                    `\"\"\" + os.environ[\"WORKSPACE_CDR\"] + \"\"\".cb_criteria` cr       \n",
    "                                WHERE\n",
    "                                    concept_id IN (443392)       \n",
    "                                    AND full_text LIKE '%_rank1]%'      ) a \n",
    "                                    ON (c.path LIKE CONCAT('%.', a.id, '.%') \n",
    "                                    OR c.path LIKE CONCAT('%.', a.id) \n",
    "                                    OR c.path LIKE CONCAT(a.id, '.%') \n",
    "                                    OR c.path = a.id) \n",
    "                            WHERE\n",
    "                                is_standard = 1 \n",
    "                                AND is_selectable = 1) \n",
    "                            AND is_standard = 1 )) criteria ) \n",
    "                    AND cb_search_person.person_id NOT IN (SELECT\n",
    "                        person_id \n",
    "                    FROM\n",
    "                        `\"\"\" + os.environ[\"WORKSPACE_CDR\"] + \"\"\".person` p \n",
    "                    WHERE\n",
    "                        ethnicity_concept_id IN (903079, 0, 903096, 1586148) ) \n",
    "                    AND cb_search_person.person_id NOT IN (SELECT\n",
    "                        person_id \n",
    "                    FROM\n",
    "                        `\"\"\" + os.environ[\"WORKSPACE_CDR\"] + \"\"\".person` p \n",
    "                    WHERE\n",
    "                        sex_at_birth_concept_id IN (903096, 1177221, 0, 1585849, 46273637) ) \n",
    "                    AND cb_search_person.person_id NOT IN (SELECT\n",
    "                        person_id \n",
    "                    FROM\n",
    "                        `\"\"\" + os.environ[\"WORKSPACE_CDR\"] + \"\"\".person` p \n",
    "                    WHERE\n",
    "                        race_concept_id IN (2100000001, 903096, 45882607, 1177221) ) )\n",
    "            )) measurement \n",
    "    LEFT JOIN\n",
    "        `\"\"\" + os.environ[\"WORKSPACE_CDR\"] + \"\"\".concept` m_standard_concept \n",
    "            ON measurement.measurement_concept_id = m_standard_concept.concept_id \n",
    "    LEFT JOIN\n",
    "        `\"\"\" + os.environ[\"WORKSPACE_CDR\"] + \"\"\".concept` m_unit \n",
    "            ON measurement.unit_concept_id = m_unit.concept_id\"\"\"\n",
    "\n",
    "dataset_50879404_measurement_df = pd.read_gbq(\n",
    "    dataset_50879404_measurement_sql,\n",
    "    dialect=\"standard\",\n",
    "    use_bqstorage_api=(\"BIGQUERY_STORAGE_API_ENABLED\" in os.environ),\n",
    "    progress_bar_type=\"tqdm_notebook\")\n",
    "\n",
    "dataset_50879404_measurement_df.head(5)"
   ]
  },
  {
   "cell_type": "code",
   "execution_count": null,
   "metadata": {},
   "outputs": [],
   "source": [
    "more_labs_df = dataset_50879404_measurement_df.sort_values(by=['person_id', 'measurement_datetime'], ascending=[True, False])\n",
    "\n",
    "# Group by 'patient_id' and 'standard_concept_name', and keep the most recent measurement\n",
    "more_labs_df = more_labs_df.groupby(['person_id', 'standard_concept_name'], as_index=False).first()\n",
    "\n",
    "more_labs_df.head(5)"
   ]
  },
  {
   "cell_type": "code",
   "execution_count": null,
   "metadata": {},
   "outputs": [],
   "source": [
    "print(more_labs_df[['person_id', 'standard_concept_name', 'value_as_number']].isnull().sum())\n"
   ]
  },
  {
   "cell_type": "code",
   "execution_count": null,
   "metadata": {},
   "outputs": [],
   "source": [
    "more_labs_df = more_labs_df.dropna(subset=['value_as_number'])"
   ]
  },
  {
   "cell_type": "markdown",
   "metadata": {},
   "source": [
    "#### Ensuring units are consistent "
   ]
  },
  {
   "cell_type": "code",
   "execution_count": null,
   "metadata": {},
   "outputs": [],
   "source": [
    "unique_rbc_units = more_labs_df[more_labs_df['standard_concept_name'] == 'Erythrocytes [#/volume] in Blood by Automated count']['unit_concept_name'].unique()\n",
    "print(unique_rbc_units)"
   ]
  },
  {
   "cell_type": "code",
   "execution_count": null,
   "metadata": {},
   "outputs": [],
   "source": [
    "unique_hem_units = more_labs_df[more_labs_df['standard_concept_name'] == 'Hemoglobin [Mass/volume] in Blood']['unit_concept_name'].unique()\n",
    "print(unique_hem_units)"
   ]
  },
  {
   "cell_type": "code",
   "execution_count": null,
   "metadata": {},
   "outputs": [],
   "source": [
    "hemoglobin_mask = (more_labs_df['standard_concept_name'] == 'Hemoglobin [Mass/volume] in Blood') & (more_labs_df['unit_concept_name'] == 'gram per liter')\n",
    "more_labs_df.loc[hemoglobin_mask, 'value_as_number'] = more_labs_df.loc[hemoglobin_mask, 'value_as_number'] / 10"
   ]
  },
  {
   "cell_type": "code",
   "execution_count": null,
   "metadata": {},
   "outputs": [],
   "source": [
    "unique_wbc_units = more_labs_df[more_labs_df['standard_concept_name'] == 'Leukocytes [#/volume] in Blood by Automated count']['unit_concept_name'].unique()\n",
    "print(unique_wbc_units)"
   ]
  },
  {
   "cell_type": "code",
   "execution_count": null,
   "metadata": {},
   "outputs": [],
   "source": [
    "wbc_mask = (more_labs_df['standard_concept_name'] == 'Leukocytes [#/volume] in Blood by Automated count') & (more_labs_df['unit_concept_name'] == 'per cubic millimeter')\n",
    "more_labs_df.loc[wbc_mask, 'value_as_number'] = more_labs_df.loc[wbc_mask, 'value_as_number'] / 1000"
   ]
  },
  {
   "cell_type": "code",
   "execution_count": null,
   "metadata": {},
   "outputs": [],
   "source": [
    "more_labs_df = more_labs_df.pivot(index='person_id', columns='standard_concept_name', values='value_as_number')"
   ]
  },
  {
   "cell_type": "code",
   "execution_count": null,
   "metadata": {},
   "outputs": [],
   "source": [
    "more_labs_df.columns.name = None "
   ]
  },
  {
   "cell_type": "code",
   "execution_count": null,
   "metadata": {},
   "outputs": [],
   "source": [
    "more_labs_df = more_labs_df.reset_index()\n"
   ]
  },
  {
   "cell_type": "code",
   "execution_count": null,
   "metadata": {},
   "outputs": [],
   "source": [
    "more_labs_df.head()"
   ]
  },
  {
   "cell_type": "code",
   "execution_count": null,
   "metadata": {},
   "outputs": [],
   "source": [
    "ckd_features_df_11 = (\n",
    "   ckd_features_df_10.merge(more_labs_df, on=\"person_id\", how=\"left\")\n",
    ")"
   ]
  },
  {
   "cell_type": "code",
   "execution_count": null,
   "metadata": {},
   "outputs": [],
   "source": [
    "ckd_features_df_11.isna().sum()"
   ]
  },
  {
   "cell_type": "markdown",
   "metadata": {},
   "source": [
    "### Hemoglobin"
   ]
  },
  {
   "cell_type": "code",
   "execution_count": null,
   "metadata": {},
   "outputs": [],
   "source": [
    "ckd_features_df_11.rename(columns={'Hemoglobin [Mass/volume] in Blood': 'Hemoglobin'}, inplace=True)"
   ]
  },
  {
   "cell_type": "code",
   "execution_count": null,
   "metadata": {},
   "outputs": [],
   "source": [
    "ckd_features_df_11['Hemoglobin'].hist()"
   ]
  },
  {
   "cell_type": "code",
   "execution_count": null,
   "metadata": {},
   "outputs": [],
   "source": [
    "ckd_features_df_11['Hemoglobin'].min()"
   ]
  },
  {
   "cell_type": "code",
   "execution_count": null,
   "metadata": {},
   "outputs": [],
   "source": [
    "ckd_features_df_11['Hemoglobin'].max()"
   ]
  },
  {
   "cell_type": "code",
   "execution_count": null,
   "metadata": {},
   "outputs": [],
   "source": [
    "ckd_features_df_11.loc[ckd_features_df_11['Hemoglobin'] > 20, 'Hemoglobin'] = np.nan\n",
    "ckd_features_df_11.loc[ckd_features_df_11['Hemoglobin'] < 8, 'Hemoglobin'] = np.nan"
   ]
  },
  {
   "cell_type": "code",
   "execution_count": null,
   "metadata": {},
   "outputs": [],
   "source": [
    "# Calculate the mean Hemoglobin for each age group\n",
    "mean_hem_by_age_group = ckd_features_df_11.groupby('Age_Group')['Hemoglobin'].transform('mean')\n",
    "# Impute the missing Hemoglobin values with the mean of the corresponding age group\n",
    "ckd_features_df_11['Hemoglobin'] = ckd_features_df_11['Hemoglobin'].fillna(mean_hem_by_age_group)\n"
   ]
  },
  {
   "cell_type": "code",
   "execution_count": null,
   "metadata": {},
   "outputs": [],
   "source": [
    "ckd_features_df_11['Hemoglobin'].hist()"
   ]
  },
  {
   "cell_type": "markdown",
   "metadata": {},
   "source": [
    "### Leukocytes "
   ]
  },
  {
   "cell_type": "code",
   "execution_count": null,
   "metadata": {},
   "outputs": [],
   "source": [
    "ckd_features_df_11.rename(columns={'Leukocytes [#/volume] in Blood by Automated count': 'Leukocytes'}, inplace=True)"
   ]
  },
  {
   "cell_type": "code",
   "execution_count": null,
   "metadata": {},
   "outputs": [],
   "source": [
    "ckd_features_df_11['Leukocytes'].hist()"
   ]
  },
  {
   "cell_type": "code",
   "execution_count": null,
   "metadata": {},
   "outputs": [],
   "source": [
    "ckd_features_df_11['Leukocytes'].min()"
   ]
  },
  {
   "cell_type": "code",
   "execution_count": null,
   "metadata": {},
   "outputs": [],
   "source": [
    "ckd_features_df_11['Leukocytes'].max()"
   ]
  },
  {
   "cell_type": "code",
   "execution_count": null,
   "metadata": {},
   "outputs": [],
   "source": [
    "ckd_features_df_11.loc[ckd_features_df_11['Leukocytes'] > 22, 'Leukocytes'] = np.nan\n",
    "ckd_features_df_11.loc[ckd_features_df_11['Leukocytes'] < 1, 'Leukocytes'] = np.nan"
   ]
  },
  {
   "cell_type": "code",
   "execution_count": null,
   "metadata": {},
   "outputs": [],
   "source": [
    "# Calculate the mean Leukocytes for each age group\n",
    "mean_wbc_by_age_group = ckd_features_df_11.groupby('Age_Group')['Leukocytes'].transform('mean')\n",
    "# Impute the missing Leukocytes values with the mean of the corresponding age group\n",
    "ckd_features_df_11['Leukocytes'] = ckd_features_df_11['Leukocytes'].fillna(mean_wbc_by_age_group)"
   ]
  },
  {
   "cell_type": "code",
   "execution_count": null,
   "metadata": {},
   "outputs": [],
   "source": [
    "ckd_features_df_11['Leukocytes'].hist()"
   ]
  },
  {
   "cell_type": "markdown",
   "metadata": {},
   "source": [
    "### Erythrocytes "
   ]
  },
  {
   "cell_type": "code",
   "execution_count": null,
   "metadata": {},
   "outputs": [],
   "source": [
    "ckd_features_df_11.rename(columns={'Erythrocytes [#/volume] in Blood by Automated count': 'Erythrocytes'}, inplace=True)"
   ]
  },
  {
   "cell_type": "code",
   "execution_count": null,
   "metadata": {},
   "outputs": [],
   "source": [
    "ckd_features_df_11['Erythrocytes'].hist()"
   ]
  },
  {
   "cell_type": "code",
   "execution_count": null,
   "metadata": {},
   "outputs": [],
   "source": [
    "ckd_features_df_11['Erythrocytes'].min()"
   ]
  },
  {
   "cell_type": "code",
   "execution_count": null,
   "metadata": {},
   "outputs": [],
   "source": [
    "ckd_features_df_11['Erythrocytes'].max()"
   ]
  },
  {
   "cell_type": "code",
   "execution_count": null,
   "metadata": {},
   "outputs": [],
   "source": [
    "ckd_features_df_11.loc[ckd_features_df_11['Erythrocytes'] > 8, 'Erythrocytes'] = np.nan\n",
    "ckd_features_df_11.loc[ckd_features_df_11['Erythrocytes'] < 1, 'Erythrocytes'] = np.nan"
   ]
  },
  {
   "cell_type": "code",
   "execution_count": null,
   "metadata": {},
   "outputs": [],
   "source": [
    "# Calculate the mean Erythrocytes for each age group\n",
    "mean_rbc_by_age_group = ckd_features_df_11.groupby('Age_Group')['Erythrocytes'].transform('mean')\n",
    "# Impute the missing Erythrocytes values with the mean of the corresponding age group\n",
    "ckd_features_df_11['Erythrocytes'] = ckd_features_df_11['Erythrocytes'].fillna(mean_rbc_by_age_group)"
   ]
  },
  {
   "cell_type": "code",
   "execution_count": null,
   "metadata": {},
   "outputs": [],
   "source": [
    "ckd_features_df_11['Erythrocytes'].hist()"
   ]
  },
  {
   "cell_type": "markdown",
   "metadata": {},
   "source": [
    "### Anemia"
   ]
  },
  {
   "cell_type": "code",
   "execution_count": null,
   "metadata": {},
   "outputs": [],
   "source": [
    "# This query represents dataset \"ML Features- CKD\" for domain \"condition\" and was generated for All of Us Controlled Tier Dataset v8\n",
    "dataset_04478998_condition_sql = \"\"\"\n",
    "    SELECT\n",
    "        c_occurrence.person_id,\n",
    "        c_standard_concept.concept_name as standard_concept_name \n",
    "    FROM\n",
    "        ( SELECT\n",
    "            * \n",
    "        FROM\n",
    "            `\"\"\" + os.environ[\"WORKSPACE_CDR\"] + \"\"\".condition_occurrence` c_occurrence \n",
    "        WHERE\n",
    "            (\n",
    "                condition_concept_id IN (SELECT\n",
    "                    DISTINCT c.concept_id \n",
    "                FROM\n",
    "                    `\"\"\" + os.environ[\"WORKSPACE_CDR\"] + \"\"\".cb_criteria` c \n",
    "                JOIN\n",
    "                    (SELECT\n",
    "                        CAST(cr.id as string) AS id       \n",
    "                    FROM\n",
    "                        `\"\"\" + os.environ[\"WORKSPACE_CDR\"] + \"\"\".cb_criteria` cr       \n",
    "                    WHERE\n",
    "                        concept_id IN (439777)       \n",
    "                        AND full_text LIKE '%_rank1]%'      ) a \n",
    "                        ON (c.path LIKE CONCAT('%.', a.id, '.%') \n",
    "                        OR c.path LIKE CONCAT('%.', a.id) \n",
    "                        OR c.path LIKE CONCAT(a.id, '.%') \n",
    "                        OR c.path = a.id) \n",
    "                WHERE\n",
    "                    is_standard = 1 \n",
    "                    AND is_selectable = 1)\n",
    "            )  \n",
    "            AND (\n",
    "                c_occurrence.PERSON_ID IN (SELECT\n",
    "                    distinct person_id  \n",
    "                FROM\n",
    "                    `\"\"\" + os.environ[\"WORKSPACE_CDR\"] + \"\"\".cb_search_person` cb_search_person  \n",
    "                WHERE\n",
    "                    cb_search_person.person_id IN (SELECT\n",
    "                        person_id \n",
    "                    FROM\n",
    "                        `\"\"\" + os.environ[\"WORKSPACE_CDR\"] + \"\"\".cb_search_person` p \n",
    "                    WHERE\n",
    "                        DATE_DIFF(CURRENT_DATE, dob, YEAR) - IF(EXTRACT(MONTH FROM dob)*100 + EXTRACT(DAY FROM dob) > EXTRACT(MONTH FROM CURRENT_DATE)*100 + EXTRACT(DAY FROM CURRENT_DATE), 1, 0) BETWEEN 18 AND 124 \n",
    "                        AND NOT EXISTS (      SELECT\n",
    "                            'x'      \n",
    "                        FROM\n",
    "                            `\"\"\" + os.environ[\"WORKSPACE_CDR\"] + \"\"\".death` d      \n",
    "                        WHERE\n",
    "                            d.person_id = p.person_id ) ) \n",
    "                    AND cb_search_person.person_id IN (SELECT\n",
    "                        person_id \n",
    "                    FROM\n",
    "                        `\"\"\" + os.environ[\"WORKSPACE_CDR\"] + \"\"\".cb_search_person` p \n",
    "                    WHERE\n",
    "                        has_ehr_data = 1 ) \n",
    "                    AND cb_search_person.person_id IN (SELECT\n",
    "                        person_id \n",
    "                    FROM\n",
    "                        `\"\"\" + os.environ[\"WORKSPACE_CDR\"] + \"\"\".cb_search_person` p \n",
    "                    WHERE\n",
    "                        has_whole_genome_variant = 1 ) \n",
    "                    AND cb_search_person.person_id IN (SELECT\n",
    "                        person_id \n",
    "                    FROM\n",
    "                        `\"\"\" + os.environ[\"WORKSPACE_CDR\"] + \"\"\".cb_search_person` p \n",
    "                    WHERE\n",
    "                        DATE_DIFF(CURRENT_DATE, dob, YEAR) - IF(EXTRACT(MONTH FROM dob)*100 + EXTRACT(DAY FROM dob) > EXTRACT(MONTH FROM CURRENT_DATE)*100 + EXTRACT(DAY FROM CURRENT_DATE), 1, 0) BETWEEN 18 AND 100 \n",
    "                        AND NOT EXISTS (      SELECT\n",
    "                            'x'      \n",
    "                        FROM\n",
    "                            `\"\"\" + os.environ[\"WORKSPACE_CDR\"] + \"\"\".death` d      \n",
    "                        WHERE\n",
    "                            d.person_id = p.person_id ) ) \n",
    "                    AND cb_search_person.person_id IN (SELECT\n",
    "                        criteria.person_id \n",
    "                    FROM\n",
    "                        (SELECT\n",
    "                            DISTINCT person_id, entry_date, concept_id \n",
    "                        FROM\n",
    "                            `\"\"\" + os.environ[\"WORKSPACE_CDR\"] + \"\"\".cb_search_all_events` \n",
    "                        WHERE\n",
    "                            (concept_id IN (3038553) \n",
    "                            AND is_standard = 1 )) criteria ) \n",
    "                    AND cb_search_person.person_id IN (SELECT\n",
    "                        criteria.person_id \n",
    "                    FROM\n",
    "                        (SELECT\n",
    "                            DISTINCT person_id, entry_date, concept_id \n",
    "                        FROM\n",
    "                            `\"\"\" + os.environ[\"WORKSPACE_CDR\"] + \"\"\".cb_search_all_events` \n",
    "                        WHERE\n",
    "                            (concept_id IN(SELECT\n",
    "                                DISTINCT c.concept_id \n",
    "                            FROM\n",
    "                                `\"\"\" + os.environ[\"WORKSPACE_CDR\"] + \"\"\".cb_criteria` c \n",
    "                            JOIN\n",
    "                                (SELECT\n",
    "                                    CAST(cr.id as string) AS id       \n",
    "                                FROM\n",
    "                                    `\"\"\" + os.environ[\"WORKSPACE_CDR\"] + \"\"\".cb_criteria` cr       \n",
    "                                WHERE\n",
    "                                    concept_id IN (1585952, 1585940, 1585723, 1585375, 1585723, 1585729, 1585386, 1585952, 1585375, 1585952, 1585375, 1585375, 1585892, 1585892, 1585375, 1585940, 1585952, 1585855, 1585729, 1585375, 1740639, 1585940, 1585952, 1585375, 1585375, 1585729, 43528895, 1585723, 1585723, 1585892, 1585940, 1585892, 1585386, 1585386, 40192389, 1585729, 1585892, 1585375, 1585723, 1585952, 1585940, 1586134, 1585940, 1585386, 1585710, 1585729, 1585892, 1585892, 1585940, 1585952, 1585940, 1585940, 1585729, 1585892, 1585952, 1585940, 1585892, 1585723, 1585723, 1585729, 1585729, 1585386, 1585952, 1585375, 1585952, 1585940, 1585952, 1585386, 1585375, 1585375)       \n",
    "                                    AND full_text LIKE '%_rank1]%'      ) a \n",
    "                                    ON (c.path LIKE CONCAT('%.', a.id, '.%') \n",
    "                                    OR c.path LIKE CONCAT('%.', a.id) \n",
    "                                    OR c.path LIKE CONCAT(a.id, '.%') \n",
    "                                    OR c.path = a.id) \n",
    "                            WHERE\n",
    "                                is_standard = 0 \n",
    "                                AND is_selectable = 1) \n",
    "                            AND is_standard = 0 )) criteria ) \n",
    "                    AND cb_search_person.person_id IN (SELECT\n",
    "                        criteria.person_id \n",
    "                    FROM\n",
    "                        (SELECT\n",
    "                            DISTINCT person_id, entry_date, concept_id \n",
    "                        FROM\n",
    "                            `\"\"\" + os.environ[\"WORKSPACE_CDR\"] + \"\"\".cb_search_all_events` \n",
    "                        WHERE\n",
    "                            (concept_id IN (3027018) \n",
    "                            AND is_standard = 1 )) criteria ) \n",
    "                    AND cb_search_person.person_id IN (SELECT\n",
    "                        criteria.person_id \n",
    "                    FROM\n",
    "                        (SELECT\n",
    "                            DISTINCT person_id, entry_date, concept_id \n",
    "                        FROM\n",
    "                            `\"\"\" + os.environ[\"WORKSPACE_CDR\"] + \"\"\".cb_search_all_events` \n",
    "                        WHERE\n",
    "                            (concept_id IN (903118, 903115) \n",
    "                            AND is_standard = 0 )) criteria ) \n",
    "                    AND cb_search_person.person_id IN (SELECT\n",
    "                        criteria.person_id \n",
    "                    FROM\n",
    "                        (SELECT\n",
    "                            DISTINCT person_id, entry_date, concept_id \n",
    "                        FROM\n",
    "                            `\"\"\" + os.environ[\"WORKSPACE_CDR\"] + \"\"\".cb_search_all_events` \n",
    "                        WHERE\n",
    "                            (concept_id IN (3013682) \n",
    "                            AND is_standard = 1 )) criteria ) \n",
    "                    AND cb_search_person.person_id IN (SELECT\n",
    "                        criteria.person_id \n",
    "                    FROM\n",
    "                        (SELECT\n",
    "                            DISTINCT person_id, entry_date, concept_id \n",
    "                        FROM\n",
    "                            `\"\"\" + os.environ[\"WORKSPACE_CDR\"] + \"\"\".cb_search_all_events` \n",
    "                        WHERE\n",
    "                            (concept_id IN (3004501) \n",
    "                            AND is_standard = 1 )) criteria ) \n",
    "                    AND cb_search_person.person_id IN (SELECT\n",
    "                        criteria.person_id \n",
    "                    FROM\n",
    "                        (SELECT\n",
    "                            DISTINCT person_id, entry_date, concept_id \n",
    "                        FROM\n",
    "                            `\"\"\" + os.environ[\"WORKSPACE_CDR\"] + \"\"\".cb_search_all_events` \n",
    "                        WHERE\n",
    "                            (concept_id IN (3019550) \n",
    "                            AND is_standard = 1 )) criteria ) \n",
    "                    AND cb_search_person.person_id IN (SELECT\n",
    "                        criteria.person_id \n",
    "                    FROM\n",
    "                        (SELECT\n",
    "                            DISTINCT person_id, entry_date, concept_id \n",
    "                        FROM\n",
    "                            `\"\"\" + os.environ[\"WORKSPACE_CDR\"] + \"\"\".cb_search_all_events` \n",
    "                        WHERE\n",
    "                            (concept_id IN (3023103) \n",
    "                            AND is_standard = 1 )) criteria ) \n",
    "                    AND cb_search_person.person_id NOT IN (SELECT\n",
    "                        criteria.person_id \n",
    "                    FROM\n",
    "                        (SELECT\n",
    "                            DISTINCT person_id, entry_date, concept_id \n",
    "                        FROM\n",
    "                            `\"\"\" + os.environ[\"WORKSPACE_CDR\"] + \"\"\".cb_search_all_events` \n",
    "                        WHERE\n",
    "                            (concept_id IN(SELECT\n",
    "                                DISTINCT c.concept_id \n",
    "                            FROM\n",
    "                                `\"\"\" + os.environ[\"WORKSPACE_CDR\"] + \"\"\".cb_criteria` c \n",
    "                            JOIN\n",
    "                                (SELECT\n",
    "                                    CAST(cr.id as string) AS id       \n",
    "                                FROM\n",
    "                                    `\"\"\" + os.environ[\"WORKSPACE_CDR\"] + \"\"\".cb_criteria` cr       \n",
    "                                WHERE\n",
    "                                    concept_id IN (443392)       \n",
    "                                    AND full_text LIKE '%_rank1]%'      ) a \n",
    "                                    ON (c.path LIKE CONCAT('%.', a.id, '.%') \n",
    "                                    OR c.path LIKE CONCAT('%.', a.id) \n",
    "                                    OR c.path LIKE CONCAT(a.id, '.%') \n",
    "                                    OR c.path = a.id) \n",
    "                            WHERE\n",
    "                                is_standard = 1 \n",
    "                                AND is_selectable = 1) \n",
    "                            AND is_standard = 1 )) criteria ) \n",
    "                    AND cb_search_person.person_id NOT IN (SELECT\n",
    "                        person_id \n",
    "                    FROM\n",
    "                        `\"\"\" + os.environ[\"WORKSPACE_CDR\"] + \"\"\".person` p \n",
    "                    WHERE\n",
    "                        ethnicity_concept_id IN (903079, 0, 903096, 1586148) ) \n",
    "                    AND cb_search_person.person_id NOT IN (SELECT\n",
    "                        person_id \n",
    "                    FROM\n",
    "                        `\"\"\" + os.environ[\"WORKSPACE_CDR\"] + \"\"\".person` p \n",
    "                    WHERE\n",
    "                        sex_at_birth_concept_id IN (903096, 1177221, 0, 1585849, 46273637) ) \n",
    "                    AND cb_search_person.person_id NOT IN (SELECT\n",
    "                        person_id \n",
    "                    FROM\n",
    "                        `\"\"\" + os.environ[\"WORKSPACE_CDR\"] + \"\"\".person` p \n",
    "                    WHERE\n",
    "                        race_concept_id IN (2100000001, 903096, 45882607, 1177221) ) )\n",
    "            )) c_occurrence \n",
    "    LEFT JOIN\n",
    "        `\"\"\" + os.environ[\"WORKSPACE_CDR\"] + \"\"\".concept` c_standard_concept \n",
    "            ON c_occurrence.condition_concept_id = c_standard_concept.concept_id\"\"\"\n",
    "\n",
    "dataset_04478998_condition_df = pd.read_gbq(\n",
    "    dataset_04478998_condition_sql,\n",
    "    dialect=\"standard\",\n",
    "    use_bqstorage_api=(\"BIGQUERY_STORAGE_API_ENABLED\" in os.environ),\n",
    "    progress_bar_type=\"tqdm_notebook\")\n",
    "\n",
    "dataset_04478998_condition_df.head(5)"
   ]
  },
  {
   "cell_type": "code",
   "execution_count": null,
   "metadata": {},
   "outputs": [],
   "source": [
    "anemia_df = (\n",
    "    dataset_04478998_condition_df\n",
    "    .assign(anemia=dataset_04478998_condition_df['standard_concept_name'].notna().astype(int))\n",
    "    .groupby('person_id', as_index=False)['anemia']\n",
    "    .max()\n",
    ")"
   ]
  },
  {
   "cell_type": "code",
   "execution_count": null,
   "metadata": {},
   "outputs": [],
   "source": [
    "ckd_features_df_12 = (\n",
    "   ckd_features_df_11.merge(anemia_df, on=\"person_id\", how=\"left\")\n",
    ")"
   ]
  },
  {
   "cell_type": "code",
   "execution_count": null,
   "metadata": {},
   "outputs": [],
   "source": [
    "ckd_features_df_12['anemia'].isna().sum()"
   ]
  },
  {
   "cell_type": "code",
   "execution_count": null,
   "metadata": {},
   "outputs": [],
   "source": [
    "ckd_features_df_12['anemia'] = ckd_features_df_12['anemia'].fillna(0)"
   ]
  },
  {
   "cell_type": "code",
   "execution_count": null,
   "metadata": {},
   "outputs": [],
   "source": [
    "ckd_features_df_12['anemia'].value_counts()"
   ]
  },
  {
   "cell_type": "markdown",
   "metadata": {},
   "source": [
    "## Calcium, chloride, and alkaline phosphate lab values"
   ]
  },
  {
   "cell_type": "code",
   "execution_count": null,
   "metadata": {},
   "outputs": [],
   "source": [
    "# This query represents dataset \"ML Features- CKD\" for domain \"measurement\" and was generated for All of Us Controlled Tier Dataset v8\n",
    "dataset_35753952_measurement_sql = \"\"\"\n",
    "    SELECT\n",
    "        measurement.person_id,\n",
    "        m_standard_concept.concept_name as standard_concept_name,\n",
    "        measurement.measurement_datetime,\n",
    "        measurement.value_as_number,\n",
    "        m_unit.concept_name as unit_concept_name \n",
    "    FROM\n",
    "        ( SELECT\n",
    "            * \n",
    "        FROM\n",
    "            `\"\"\" + os.environ[\"WORKSPACE_CDR\"] + \"\"\".measurement` measurement \n",
    "        WHERE\n",
    "            (\n",
    "                measurement_concept_id IN (SELECT\n",
    "                    DISTINCT c.concept_id \n",
    "                FROM\n",
    "                    `\"\"\" + os.environ[\"WORKSPACE_CDR\"] + \"\"\".cb_criteria` c \n",
    "                JOIN\n",
    "                    (SELECT\n",
    "                        CAST(cr.id as string) AS id       \n",
    "                    FROM\n",
    "                        `\"\"\" + os.environ[\"WORKSPACE_CDR\"] + \"\"\".cb_criteria` cr       \n",
    "                    WHERE\n",
    "                        concept_id IN (3006906, 3014576, 3035995)       \n",
    "                        AND full_text LIKE '%_rank1]%'      ) a \n",
    "                        ON (c.path LIKE CONCAT('%.', a.id, '.%') \n",
    "                        OR c.path LIKE CONCAT('%.', a.id) \n",
    "                        OR c.path LIKE CONCAT(a.id, '.%') \n",
    "                        OR c.path = a.id) \n",
    "                WHERE\n",
    "                    is_standard = 1 \n",
    "                    AND is_selectable = 1)\n",
    "            )  \n",
    "            AND (\n",
    "                measurement.PERSON_ID IN (SELECT\n",
    "                    distinct person_id  \n",
    "                FROM\n",
    "                    `\"\"\" + os.environ[\"WORKSPACE_CDR\"] + \"\"\".cb_search_person` cb_search_person  \n",
    "                WHERE\n",
    "                    cb_search_person.person_id IN (SELECT\n",
    "                        person_id \n",
    "                    FROM\n",
    "                        `\"\"\" + os.environ[\"WORKSPACE_CDR\"] + \"\"\".cb_search_person` p \n",
    "                    WHERE\n",
    "                        DATE_DIFF(CURRENT_DATE, dob, YEAR) - IF(EXTRACT(MONTH FROM dob)*100 + EXTRACT(DAY FROM dob) > EXTRACT(MONTH FROM CURRENT_DATE)*100 + EXTRACT(DAY FROM CURRENT_DATE), 1, 0) BETWEEN 18 AND 124 \n",
    "                        AND NOT EXISTS (      SELECT\n",
    "                            'x'      \n",
    "                        FROM\n",
    "                            `\"\"\" + os.environ[\"WORKSPACE_CDR\"] + \"\"\".death` d      \n",
    "                        WHERE\n",
    "                            d.person_id = p.person_id ) ) \n",
    "                    AND cb_search_person.person_id IN (SELECT\n",
    "                        person_id \n",
    "                    FROM\n",
    "                        `\"\"\" + os.environ[\"WORKSPACE_CDR\"] + \"\"\".cb_search_person` p \n",
    "                    WHERE\n",
    "                        has_ehr_data = 1 ) \n",
    "                    AND cb_search_person.person_id IN (SELECT\n",
    "                        person_id \n",
    "                    FROM\n",
    "                        `\"\"\" + os.environ[\"WORKSPACE_CDR\"] + \"\"\".cb_search_person` p \n",
    "                    WHERE\n",
    "                        has_whole_genome_variant = 1 ) \n",
    "                    AND cb_search_person.person_id IN (SELECT\n",
    "                        person_id \n",
    "                    FROM\n",
    "                        `\"\"\" + os.environ[\"WORKSPACE_CDR\"] + \"\"\".cb_search_person` p \n",
    "                    WHERE\n",
    "                        DATE_DIFF(CURRENT_DATE, dob, YEAR) - IF(EXTRACT(MONTH FROM dob)*100 + EXTRACT(DAY FROM dob) > EXTRACT(MONTH FROM CURRENT_DATE)*100 + EXTRACT(DAY FROM CURRENT_DATE), 1, 0) BETWEEN 18 AND 100 \n",
    "                        AND NOT EXISTS (      SELECT\n",
    "                            'x'      \n",
    "                        FROM\n",
    "                            `\"\"\" + os.environ[\"WORKSPACE_CDR\"] + \"\"\".death` d      \n",
    "                        WHERE\n",
    "                            d.person_id = p.person_id ) ) \n",
    "                    AND cb_search_person.person_id IN (SELECT\n",
    "                        criteria.person_id \n",
    "                    FROM\n",
    "                        (SELECT\n",
    "                            DISTINCT person_id, entry_date, concept_id \n",
    "                        FROM\n",
    "                            `\"\"\" + os.environ[\"WORKSPACE_CDR\"] + \"\"\".cb_search_all_events` \n",
    "                        WHERE\n",
    "                            (concept_id IN (3038553) \n",
    "                            AND is_standard = 1 )) criteria ) \n",
    "                    AND cb_search_person.person_id IN (SELECT\n",
    "                        criteria.person_id \n",
    "                    FROM\n",
    "                        (SELECT\n",
    "                            DISTINCT person_id, entry_date, concept_id \n",
    "                        FROM\n",
    "                            `\"\"\" + os.environ[\"WORKSPACE_CDR\"] + \"\"\".cb_search_all_events` \n",
    "                        WHERE\n",
    "                            (concept_id IN(SELECT\n",
    "                                DISTINCT c.concept_id \n",
    "                            FROM\n",
    "                                `\"\"\" + os.environ[\"WORKSPACE_CDR\"] + \"\"\".cb_criteria` c \n",
    "                            JOIN\n",
    "                                (SELECT\n",
    "                                    CAST(cr.id as string) AS id       \n",
    "                                FROM\n",
    "                                    `\"\"\" + os.environ[\"WORKSPACE_CDR\"] + \"\"\".cb_criteria` cr       \n",
    "                                WHERE\n",
    "                                    concept_id IN (1585952, 1585940, 1585723, 1585375, 1585723, 1585729, 1585386, 1585952, 1585375, 1585952, 1585375, 1585375, 1585892, 1585892, 1585375, 1585940, 1585952, 1585855, 1585729, 1585375, 1740639, 1585940, 1585952, 1585375, 1585375, 1585729, 43528895, 1585723, 1585723, 1585892, 1585940, 1585892, 1585386, 1585386, 40192389, 1585729, 1585892, 1585375, 1585723, 1585952, 1585940, 1586134, 1585940, 1585386, 1585710, 1585729, 1585892, 1585892, 1585940, 1585952, 1585940, 1585940, 1585729, 1585892, 1585952, 1585940, 1585892, 1585723, 1585723, 1585729, 1585729, 1585386, 1585952, 1585375, 1585952, 1585940, 1585952, 1585386, 1585375, 1585375)       \n",
    "                                    AND full_text LIKE '%_rank1]%'      ) a \n",
    "                                    ON (c.path LIKE CONCAT('%.', a.id, '.%') \n",
    "                                    OR c.path LIKE CONCAT('%.', a.id) \n",
    "                                    OR c.path LIKE CONCAT(a.id, '.%') \n",
    "                                    OR c.path = a.id) \n",
    "                            WHERE\n",
    "                                is_standard = 0 \n",
    "                                AND is_selectable = 1) \n",
    "                            AND is_standard = 0 )) criteria ) \n",
    "                    AND cb_search_person.person_id IN (SELECT\n",
    "                        criteria.person_id \n",
    "                    FROM\n",
    "                        (SELECT\n",
    "                            DISTINCT person_id, entry_date, concept_id \n",
    "                        FROM\n",
    "                            `\"\"\" + os.environ[\"WORKSPACE_CDR\"] + \"\"\".cb_search_all_events` \n",
    "                        WHERE\n",
    "                            (concept_id IN (3027018) \n",
    "                            AND is_standard = 1 )) criteria ) \n",
    "                    AND cb_search_person.person_id IN (SELECT\n",
    "                        criteria.person_id \n",
    "                    FROM\n",
    "                        (SELECT\n",
    "                            DISTINCT person_id, entry_date, concept_id \n",
    "                        FROM\n",
    "                            `\"\"\" + os.environ[\"WORKSPACE_CDR\"] + \"\"\".cb_search_all_events` \n",
    "                        WHERE\n",
    "                            (concept_id IN (903118, 903115) \n",
    "                            AND is_standard = 0 )) criteria ) \n",
    "                    AND cb_search_person.person_id IN (SELECT\n",
    "                        criteria.person_id \n",
    "                    FROM\n",
    "                        (SELECT\n",
    "                            DISTINCT person_id, entry_date, concept_id \n",
    "                        FROM\n",
    "                            `\"\"\" + os.environ[\"WORKSPACE_CDR\"] + \"\"\".cb_search_all_events` \n",
    "                        WHERE\n",
    "                            (concept_id IN (3013682) \n",
    "                            AND is_standard = 1 )) criteria ) \n",
    "                    AND cb_search_person.person_id IN (SELECT\n",
    "                        criteria.person_id \n",
    "                    FROM\n",
    "                        (SELECT\n",
    "                            DISTINCT person_id, entry_date, concept_id \n",
    "                        FROM\n",
    "                            `\"\"\" + os.environ[\"WORKSPACE_CDR\"] + \"\"\".cb_search_all_events` \n",
    "                        WHERE\n",
    "                            (concept_id IN (3004501) \n",
    "                            AND is_standard = 1 )) criteria ) \n",
    "                    AND cb_search_person.person_id IN (SELECT\n",
    "                        criteria.person_id \n",
    "                    FROM\n",
    "                        (SELECT\n",
    "                            DISTINCT person_id, entry_date, concept_id \n",
    "                        FROM\n",
    "                            `\"\"\" + os.environ[\"WORKSPACE_CDR\"] + \"\"\".cb_search_all_events` \n",
    "                        WHERE\n",
    "                            (concept_id IN (3019550) \n",
    "                            AND is_standard = 1 )) criteria ) \n",
    "                    AND cb_search_person.person_id IN (SELECT\n",
    "                        criteria.person_id \n",
    "                    FROM\n",
    "                        (SELECT\n",
    "                            DISTINCT person_id, entry_date, concept_id \n",
    "                        FROM\n",
    "                            `\"\"\" + os.environ[\"WORKSPACE_CDR\"] + \"\"\".cb_search_all_events` \n",
    "                        WHERE\n",
    "                            (concept_id IN (3023103) \n",
    "                            AND is_standard = 1 )) criteria ) \n",
    "                    AND cb_search_person.person_id NOT IN (SELECT\n",
    "                        criteria.person_id \n",
    "                    FROM\n",
    "                        (SELECT\n",
    "                            DISTINCT person_id, entry_date, concept_id \n",
    "                        FROM\n",
    "                            `\"\"\" + os.environ[\"WORKSPACE_CDR\"] + \"\"\".cb_search_all_events` \n",
    "                        WHERE\n",
    "                            (concept_id IN(SELECT\n",
    "                                DISTINCT c.concept_id \n",
    "                            FROM\n",
    "                                `\"\"\" + os.environ[\"WORKSPACE_CDR\"] + \"\"\".cb_criteria` c \n",
    "                            JOIN\n",
    "                                (SELECT\n",
    "                                    CAST(cr.id as string) AS id       \n",
    "                                FROM\n",
    "                                    `\"\"\" + os.environ[\"WORKSPACE_CDR\"] + \"\"\".cb_criteria` cr       \n",
    "                                WHERE\n",
    "                                    concept_id IN (443392)       \n",
    "                                    AND full_text LIKE '%_rank1]%'      ) a \n",
    "                                    ON (c.path LIKE CONCAT('%.', a.id, '.%') \n",
    "                                    OR c.path LIKE CONCAT('%.', a.id) \n",
    "                                    OR c.path LIKE CONCAT(a.id, '.%') \n",
    "                                    OR c.path = a.id) \n",
    "                            WHERE\n",
    "                                is_standard = 1 \n",
    "                                AND is_selectable = 1) \n",
    "                            AND is_standard = 1 )) criteria ) \n",
    "                    AND cb_search_person.person_id NOT IN (SELECT\n",
    "                        person_id \n",
    "                    FROM\n",
    "                        `\"\"\" + os.environ[\"WORKSPACE_CDR\"] + \"\"\".person` p \n",
    "                    WHERE\n",
    "                        ethnicity_concept_id IN (903079, 0, 903096, 1586148) ) \n",
    "                    AND cb_search_person.person_id NOT IN (SELECT\n",
    "                        person_id \n",
    "                    FROM\n",
    "                        `\"\"\" + os.environ[\"WORKSPACE_CDR\"] + \"\"\".person` p \n",
    "                    WHERE\n",
    "                        sex_at_birth_concept_id IN (903096, 1177221, 0, 1585849, 46273637) ) \n",
    "                    AND cb_search_person.person_id NOT IN (SELECT\n",
    "                        person_id \n",
    "                    FROM\n",
    "                        `\"\"\" + os.environ[\"WORKSPACE_CDR\"] + \"\"\".person` p \n",
    "                    WHERE\n",
    "                        race_concept_id IN (2100000001, 903096, 45882607, 1177221) ) )\n",
    "            )) measurement \n",
    "    LEFT JOIN\n",
    "        `\"\"\" + os.environ[\"WORKSPACE_CDR\"] + \"\"\".concept` m_standard_concept \n",
    "            ON measurement.measurement_concept_id = m_standard_concept.concept_id \n",
    "    LEFT JOIN\n",
    "        `\"\"\" + os.environ[\"WORKSPACE_CDR\"] + \"\"\".concept` m_unit \n",
    "            ON measurement.unit_concept_id = m_unit.concept_id\"\"\"\n",
    "\n",
    "dataset_35753952_measurement_df = pd.read_gbq(\n",
    "    dataset_35753952_measurement_sql,\n",
    "    dialect=\"standard\",\n",
    "    use_bqstorage_api=(\"BIGQUERY_STORAGE_API_ENABLED\" in os.environ),\n",
    "    progress_bar_type=\"tqdm_notebook\")\n",
    "\n",
    "dataset_35753952_measurement_df.head(5)"
   ]
  },
  {
   "cell_type": "code",
   "execution_count": null,
   "metadata": {},
   "outputs": [],
   "source": [
    "labs_3 = dataset_35753952_measurement_df.sort_values(by=['person_id', 'measurement_datetime'], ascending=[True, False])\n",
    "\n",
    "# Group by 'patient_id' and 'standard_concept_name', and keep the most recent measurement\n",
    "labs_3 = labs_3.groupby(['person_id', 'standard_concept_name'], as_index=False).first()\n",
    "\n",
    "labs_3.head(5)"
   ]
  },
  {
   "cell_type": "code",
   "execution_count": null,
   "metadata": {},
   "outputs": [],
   "source": [
    "print(labs_3[['person_id', 'standard_concept_name', 'value_as_number']].isnull().sum())"
   ]
  },
  {
   "cell_type": "code",
   "execution_count": null,
   "metadata": {},
   "outputs": [],
   "source": [
    "labs_3 = labs_3.dropna(subset=['value_as_number'])"
   ]
  },
  {
   "cell_type": "code",
   "execution_count": null,
   "metadata": {},
   "outputs": [],
   "source": [
    "unique_calcium_units = labs_3[labs_3['standard_concept_name'] == 'Calcium [Mass/volume] in Serum or Plasma']['unit_concept_name'].unique()\n",
    "print(unique_calcium_units)"
   ]
  },
  {
   "cell_type": "code",
   "execution_count": null,
   "metadata": {},
   "outputs": [],
   "source": [
    "calcium_mask = (labs_3['standard_concept_name'] == 'Calcium [Mass/volume] in Serum or Plasma') & (labs_3['unit_concept_name'] ==  'milliliter per minute')\n",
    "labs_3.loc[calcium_mask, 'value_as_number'] = labs_3.loc[calcium_mask, 'value_as_number'] / 10"
   ]
  },
  {
   "cell_type": "code",
   "execution_count": null,
   "metadata": {},
   "outputs": [],
   "source": [
    "unique_chloride_units = labs_3[labs_3['standard_concept_name'] == 'Chloride [Moles/volume] in Serum or Plasma']['unit_concept_name'].unique()\n",
    "print(unique_chloride_units)"
   ]
  },
  {
   "cell_type": "code",
   "execution_count": null,
   "metadata": {},
   "outputs": [],
   "source": [
    "unique_alk_units = labs_3[labs_3['standard_concept_name'] == 'Alkaline phosphatase [Enzymatic activity/volume] in Serum or Plasma']['unit_concept_name'].unique()\n",
    "print(unique_alk_units)"
   ]
  },
  {
   "cell_type": "code",
   "execution_count": null,
   "metadata": {},
   "outputs": [],
   "source": [
    "alk_mask = (labs_3['standard_concept_name'] == 'Alkaline phosphatase [Enzymatic activity/volume] in Serum or Plasma') & (labs_3['unit_concept_name'] == 'microgram per liter')\n",
    "labs_3.loc[alk_mask, 'value_as_number'] = labs_3.loc[alk_mask, 'value_as_number'] * 10"
   ]
  },
  {
   "cell_type": "code",
   "execution_count": null,
   "metadata": {},
   "outputs": [],
   "source": [
    "labs_3 = labs_3.pivot(index='person_id', columns='standard_concept_name', values='value_as_number')"
   ]
  },
  {
   "cell_type": "code",
   "execution_count": null,
   "metadata": {},
   "outputs": [],
   "source": [
    "labs_3.columns.name = None "
   ]
  },
  {
   "cell_type": "code",
   "execution_count": null,
   "metadata": {},
   "outputs": [],
   "source": [
    "labs_3 = labs_3.reset_index()"
   ]
  },
  {
   "cell_type": "code",
   "execution_count": null,
   "metadata": {},
   "outputs": [],
   "source": [
    "labs_3.head()"
   ]
  },
  {
   "cell_type": "code",
   "execution_count": null,
   "metadata": {},
   "outputs": [],
   "source": [
    "ckd_features_df_13 = (\n",
    "   ckd_features_df_12.merge(labs_3, on=\"person_id\", how=\"left\")\n",
    ")\n",
    "\n",
    "ckd_features_df_13.isna().sum()\n"
   ]
  },
  {
   "cell_type": "markdown",
   "metadata": {},
   "source": [
    "## Calcium "
   ]
  },
  {
   "cell_type": "code",
   "execution_count": null,
   "metadata": {},
   "outputs": [],
   "source": [
    "ckd_features_df_13.rename(columns={'Calcium [Mass/volume] in Serum or Plasma': 'Calcium'}, inplace=True)"
   ]
  },
  {
   "cell_type": "code",
   "execution_count": null,
   "metadata": {},
   "outputs": [],
   "source": [
    "ckd_features_df_13['Calcium'].hist()"
   ]
  },
  {
   "cell_type": "code",
   "execution_count": null,
   "metadata": {},
   "outputs": [],
   "source": [
    "ckd_features_df_13['Calcium'].min()"
   ]
  },
  {
   "cell_type": "code",
   "execution_count": null,
   "metadata": {},
   "outputs": [],
   "source": [
    "ckd_features_df_13['Calcium'].max()"
   ]
  },
  {
   "cell_type": "code",
   "execution_count": null,
   "metadata": {},
   "outputs": [],
   "source": [
    "ckd_features_df_13.loc[ckd_features_df_13['Calcium'] > 14, 'Calcium'] = np.nan\n",
    "ckd_features_df_13.loc[ckd_features_df_13['Calcium'] < 4, 'Calcium'] = np.nan"
   ]
  },
  {
   "cell_type": "code",
   "execution_count": null,
   "metadata": {},
   "outputs": [],
   "source": [
    "# Calculate the mean calcium for each age group\n",
    "mean_calcium_by_age_group = ckd_features_df_13.groupby('Age_Group')['Calcium'].transform('mean')\n",
    "# Impute the missing calcium values with the mean of the corresponding age group\n",
    "ckd_features_df_13['Calcium'] = ckd_features_df_13['Calcium'].fillna(mean_calcium_by_age_group)"
   ]
  },
  {
   "cell_type": "code",
   "execution_count": null,
   "metadata": {},
   "outputs": [],
   "source": [
    "ckd_features_df_11['Hemoglobin'].hist()"
   ]
  },
  {
   "cell_type": "markdown",
   "metadata": {},
   "source": [
    "## Chloride"
   ]
  },
  {
   "cell_type": "code",
   "execution_count": null,
   "metadata": {},
   "outputs": [],
   "source": [
    "ckd_features_df_13.rename(columns={'Chloride [Moles/volume] in Serum or Plasma': 'Chloride'}, inplace=True)"
   ]
  },
  {
   "cell_type": "code",
   "execution_count": null,
   "metadata": {},
   "outputs": [],
   "source": [
    "ckd_features_df_13['Chloride'].hist()"
   ]
  },
  {
   "cell_type": "code",
   "execution_count": null,
   "metadata": {},
   "outputs": [],
   "source": [
    "ckd_features_df_13['Chloride'].min()"
   ]
  },
  {
   "cell_type": "code",
   "execution_count": null,
   "metadata": {},
   "outputs": [],
   "source": [
    "ckd_features_df_13['Chloride'].max()"
   ]
  },
  {
   "cell_type": "code",
   "execution_count": null,
   "metadata": {},
   "outputs": [],
   "source": [
    "ckd_features_df_13.loc[ckd_features_df_13['Chloride'] > 131, 'Chloride'] = np.nan\n",
    "ckd_features_df_13.loc[ckd_features_df_13['Chloride'] < 80, 'Chloride'] = np.nan"
   ]
  },
  {
   "cell_type": "code",
   "execution_count": null,
   "metadata": {},
   "outputs": [],
   "source": [
    "# Calculate the mean chloride for each age group\n",
    "mean_chloride_by_age_group = ckd_features_df_13.groupby('Age_Group')['Chloride'].transform('mean')\n",
    "# Impute the missing chloride values with the mean of the corresponding age group\n",
    "ckd_features_df_13['Chloride'] = ckd_features_df_13['Chloride'].fillna(mean_chloride_by_age_group)"
   ]
  },
  {
   "cell_type": "code",
   "execution_count": null,
   "metadata": {},
   "outputs": [],
   "source": [
    "ckd_features_df_13['Chloride'].hist()"
   ]
  },
  {
   "cell_type": "markdown",
   "metadata": {},
   "source": [
    "## Alkaline phosphate"
   ]
  },
  {
   "cell_type": "code",
   "execution_count": null,
   "metadata": {},
   "outputs": [],
   "source": [
    "ckd_features_df_13.rename(columns={'Alkaline phosphatase [Enzymatic activity/volume] in Serum or Plasma': 'ALP'}, inplace=True)"
   ]
  },
  {
   "cell_type": "code",
   "execution_count": null,
   "metadata": {},
   "outputs": [],
   "source": [
    "ckd_features_df_13['ALP'].hist()"
   ]
  },
  {
   "cell_type": "code",
   "execution_count": null,
   "metadata": {},
   "outputs": [],
   "source": [
    "ckd_features_df_13['ALP'].min()"
   ]
  },
  {
   "cell_type": "code",
   "execution_count": null,
   "metadata": {},
   "outputs": [],
   "source": [
    "ckd_features_df_13['ALP'].max()"
   ]
  },
  {
   "cell_type": "code",
   "execution_count": null,
   "metadata": {},
   "outputs": [],
   "source": [
    "ckd_features_df_13.loc[ckd_features_df_13['ALP'] > 190, 'ALP'] = np.nan\n",
    "ckd_features_df_13.loc[ckd_features_df_13['ALP'] < 1, 'ALP'] = np.nan"
   ]
  },
  {
   "cell_type": "code",
   "execution_count": null,
   "metadata": {},
   "outputs": [],
   "source": [
    "# Calculate the mean ALP for each age group\n",
    "mean_alp_by_age_group = ckd_features_df_13.groupby('Age_Group')['ALP'].transform('mean')\n",
    "# Impute the missing ALP values with the mean of the corresponding age group\n",
    "ckd_features_df_13['ALP'] = ckd_features_df_13['ALP'].fillna(mean_alp_by_age_group)"
   ]
  },
  {
   "cell_type": "code",
   "execution_count": null,
   "metadata": {},
   "outputs": [],
   "source": [
    "ckd_features_df_13['ALP'].hist()"
   ]
  },
  {
   "cell_type": "markdown",
   "metadata": {},
   "source": [
    "## Proteinuria"
   ]
  },
  {
   "cell_type": "code",
   "execution_count": null,
   "metadata": {},
   "outputs": [],
   "source": [
    "# This query represents dataset \"ML Features- CKD\" for domain \"condition\" and was generated for All of Us Controlled Tier Dataset v8\n",
    "dataset_76108170_condition_sql = \"\"\"\n",
    "    SELECT\n",
    "        c_occurrence.person_id,\n",
    "        c_standard_concept.concept_name as standard_concept_name \n",
    "    FROM\n",
    "        ( SELECT\n",
    "            * \n",
    "        FROM\n",
    "            `\"\"\" + os.environ[\"WORKSPACE_CDR\"] + \"\"\".condition_occurrence` c_occurrence \n",
    "        WHERE\n",
    "            (\n",
    "                condition_concept_id IN (SELECT\n",
    "                    DISTINCT c.concept_id \n",
    "                FROM\n",
    "                    `\"\"\" + os.environ[\"WORKSPACE_CDR\"] + \"\"\".cb_criteria` c \n",
    "                JOIN\n",
    "                    (SELECT\n",
    "                        CAST(cr.id as string) AS id       \n",
    "                    FROM\n",
    "                        `\"\"\" + os.environ[\"WORKSPACE_CDR\"] + \"\"\".cb_criteria` cr       \n",
    "                    WHERE\n",
    "                        concept_id IN (75650)       \n",
    "                        AND full_text LIKE '%_rank1]%'      ) a \n",
    "                        ON (c.path LIKE CONCAT('%.', a.id, '.%') \n",
    "                        OR c.path LIKE CONCAT('%.', a.id) \n",
    "                        OR c.path LIKE CONCAT(a.id, '.%') \n",
    "                        OR c.path = a.id) \n",
    "                WHERE\n",
    "                    is_standard = 1 \n",
    "                    AND is_selectable = 1)\n",
    "            )  \n",
    "            AND (\n",
    "                c_occurrence.PERSON_ID IN (SELECT\n",
    "                    distinct person_id  \n",
    "                FROM\n",
    "                    `\"\"\" + os.environ[\"WORKSPACE_CDR\"] + \"\"\".cb_search_person` cb_search_person  \n",
    "                WHERE\n",
    "                    cb_search_person.person_id IN (SELECT\n",
    "                        person_id \n",
    "                    FROM\n",
    "                        `\"\"\" + os.environ[\"WORKSPACE_CDR\"] + \"\"\".cb_search_person` p \n",
    "                    WHERE\n",
    "                        DATE_DIFF(CURRENT_DATE, dob, YEAR) - IF(EXTRACT(MONTH FROM dob)*100 + EXTRACT(DAY FROM dob) > EXTRACT(MONTH FROM CURRENT_DATE)*100 + EXTRACT(DAY FROM CURRENT_DATE), 1, 0) BETWEEN 18 AND 124 \n",
    "                        AND NOT EXISTS (      SELECT\n",
    "                            'x'      \n",
    "                        FROM\n",
    "                            `\"\"\" + os.environ[\"WORKSPACE_CDR\"] + \"\"\".death` d      \n",
    "                        WHERE\n",
    "                            d.person_id = p.person_id ) ) \n",
    "                    AND cb_search_person.person_id IN (SELECT\n",
    "                        person_id \n",
    "                    FROM\n",
    "                        `\"\"\" + os.environ[\"WORKSPACE_CDR\"] + \"\"\".cb_search_person` p \n",
    "                    WHERE\n",
    "                        has_ehr_data = 1 ) \n",
    "                    AND cb_search_person.person_id IN (SELECT\n",
    "                        person_id \n",
    "                    FROM\n",
    "                        `\"\"\" + os.environ[\"WORKSPACE_CDR\"] + \"\"\".cb_search_person` p \n",
    "                    WHERE\n",
    "                        has_whole_genome_variant = 1 ) \n",
    "                    AND cb_search_person.person_id IN (SELECT\n",
    "                        person_id \n",
    "                    FROM\n",
    "                        `\"\"\" + os.environ[\"WORKSPACE_CDR\"] + \"\"\".cb_search_person` p \n",
    "                    WHERE\n",
    "                        DATE_DIFF(CURRENT_DATE, dob, YEAR) - IF(EXTRACT(MONTH FROM dob)*100 + EXTRACT(DAY FROM dob) > EXTRACT(MONTH FROM CURRENT_DATE)*100 + EXTRACT(DAY FROM CURRENT_DATE), 1, 0) BETWEEN 18 AND 100 \n",
    "                        AND NOT EXISTS (      SELECT\n",
    "                            'x'      \n",
    "                        FROM\n",
    "                            `\"\"\" + os.environ[\"WORKSPACE_CDR\"] + \"\"\".death` d      \n",
    "                        WHERE\n",
    "                            d.person_id = p.person_id ) ) \n",
    "                    AND cb_search_person.person_id IN (SELECT\n",
    "                        criteria.person_id \n",
    "                    FROM\n",
    "                        (SELECT\n",
    "                            DISTINCT person_id, entry_date, concept_id \n",
    "                        FROM\n",
    "                            `\"\"\" + os.environ[\"WORKSPACE_CDR\"] + \"\"\".cb_search_all_events` \n",
    "                        WHERE\n",
    "                            (concept_id IN (3038553) \n",
    "                            AND is_standard = 1 )) criteria ) \n",
    "                    AND cb_search_person.person_id IN (SELECT\n",
    "                        criteria.person_id \n",
    "                    FROM\n",
    "                        (SELECT\n",
    "                            DISTINCT person_id, entry_date, concept_id \n",
    "                        FROM\n",
    "                            `\"\"\" + os.environ[\"WORKSPACE_CDR\"] + \"\"\".cb_search_all_events` \n",
    "                        WHERE\n",
    "                            (concept_id IN(SELECT\n",
    "                                DISTINCT c.concept_id \n",
    "                            FROM\n",
    "                                `\"\"\" + os.environ[\"WORKSPACE_CDR\"] + \"\"\".cb_criteria` c \n",
    "                            JOIN\n",
    "                                (SELECT\n",
    "                                    CAST(cr.id as string) AS id       \n",
    "                                FROM\n",
    "                                    `\"\"\" + os.environ[\"WORKSPACE_CDR\"] + \"\"\".cb_criteria` cr       \n",
    "                                WHERE\n",
    "                                    concept_id IN (1585952, 1585940, 1585723, 1585375, 1585723, 1585729, 1585386, 1585952, 1585375, 1585952, 1585375, 1585375, 1585892, 1585892, 1585375, 1585940, 1585952, 1585855, 1585729, 1585375, 1740639, 1585940, 1585952, 1585375, 1585375, 1585729, 43528895, 1585723, 1585723, 1585892, 1585940, 1585892, 1585386, 1585386, 40192389, 1585729, 1585892, 1585375, 1585723, 1585952, 1585940, 1586134, 1585940, 1585386, 1585710, 1585729, 1585892, 1585892, 1585940, 1585952, 1585940, 1585940, 1585729, 1585892, 1585952, 1585940, 1585892, 1585723, 1585723, 1585729, 1585729, 1585386, 1585952, 1585375, 1585952, 1585940, 1585952, 1585386, 1585375, 1585375)       \n",
    "                                    AND full_text LIKE '%_rank1]%'      ) a \n",
    "                                    ON (c.path LIKE CONCAT('%.', a.id, '.%') \n",
    "                                    OR c.path LIKE CONCAT('%.', a.id) \n",
    "                                    OR c.path LIKE CONCAT(a.id, '.%') \n",
    "                                    OR c.path = a.id) \n",
    "                            WHERE\n",
    "                                is_standard = 0 \n",
    "                                AND is_selectable = 1) \n",
    "                            AND is_standard = 0 )) criteria ) \n",
    "                    AND cb_search_person.person_id IN (SELECT\n",
    "                        criteria.person_id \n",
    "                    FROM\n",
    "                        (SELECT\n",
    "                            DISTINCT person_id, entry_date, concept_id \n",
    "                        FROM\n",
    "                            `\"\"\" + os.environ[\"WORKSPACE_CDR\"] + \"\"\".cb_search_all_events` \n",
    "                        WHERE\n",
    "                            (concept_id IN (3027018) \n",
    "                            AND is_standard = 1 )) criteria ) \n",
    "                    AND cb_search_person.person_id IN (SELECT\n",
    "                        criteria.person_id \n",
    "                    FROM\n",
    "                        (SELECT\n",
    "                            DISTINCT person_id, entry_date, concept_id \n",
    "                        FROM\n",
    "                            `\"\"\" + os.environ[\"WORKSPACE_CDR\"] + \"\"\".cb_search_all_events` \n",
    "                        WHERE\n",
    "                            (concept_id IN (903118, 903115) \n",
    "                            AND is_standard = 0 )) criteria ) \n",
    "                    AND cb_search_person.person_id IN (SELECT\n",
    "                        criteria.person_id \n",
    "                    FROM\n",
    "                        (SELECT\n",
    "                            DISTINCT person_id, entry_date, concept_id \n",
    "                        FROM\n",
    "                            `\"\"\" + os.environ[\"WORKSPACE_CDR\"] + \"\"\".cb_search_all_events` \n",
    "                        WHERE\n",
    "                            (concept_id IN (3013682) \n",
    "                            AND is_standard = 1 )) criteria ) \n",
    "                    AND cb_search_person.person_id IN (SELECT\n",
    "                        criteria.person_id \n",
    "                    FROM\n",
    "                        (SELECT\n",
    "                            DISTINCT person_id, entry_date, concept_id \n",
    "                        FROM\n",
    "                            `\"\"\" + os.environ[\"WORKSPACE_CDR\"] + \"\"\".cb_search_all_events` \n",
    "                        WHERE\n",
    "                            (concept_id IN (3004501) \n",
    "                            AND is_standard = 1 )) criteria ) \n",
    "                    AND cb_search_person.person_id IN (SELECT\n",
    "                        criteria.person_id \n",
    "                    FROM\n",
    "                        (SELECT\n",
    "                            DISTINCT person_id, entry_date, concept_id \n",
    "                        FROM\n",
    "                            `\"\"\" + os.environ[\"WORKSPACE_CDR\"] + \"\"\".cb_search_all_events` \n",
    "                        WHERE\n",
    "                            (concept_id IN (3019550) \n",
    "                            AND is_standard = 1 )) criteria ) \n",
    "                    AND cb_search_person.person_id IN (SELECT\n",
    "                        criteria.person_id \n",
    "                    FROM\n",
    "                        (SELECT\n",
    "                            DISTINCT person_id, entry_date, concept_id \n",
    "                        FROM\n",
    "                            `\"\"\" + os.environ[\"WORKSPACE_CDR\"] + \"\"\".cb_search_all_events` \n",
    "                        WHERE\n",
    "                            (concept_id IN (3023103) \n",
    "                            AND is_standard = 1 )) criteria ) \n",
    "                    AND cb_search_person.person_id NOT IN (SELECT\n",
    "                        criteria.person_id \n",
    "                    FROM\n",
    "                        (SELECT\n",
    "                            DISTINCT person_id, entry_date, concept_id \n",
    "                        FROM\n",
    "                            `\"\"\" + os.environ[\"WORKSPACE_CDR\"] + \"\"\".cb_search_all_events` \n",
    "                        WHERE\n",
    "                            (concept_id IN(SELECT\n",
    "                                DISTINCT c.concept_id \n",
    "                            FROM\n",
    "                                `\"\"\" + os.environ[\"WORKSPACE_CDR\"] + \"\"\".cb_criteria` c \n",
    "                            JOIN\n",
    "                                (SELECT\n",
    "                                    CAST(cr.id as string) AS id       \n",
    "                                FROM\n",
    "                                    `\"\"\" + os.environ[\"WORKSPACE_CDR\"] + \"\"\".cb_criteria` cr       \n",
    "                                WHERE\n",
    "                                    concept_id IN (443392)       \n",
    "                                    AND full_text LIKE '%_rank1]%'      ) a \n",
    "                                    ON (c.path LIKE CONCAT('%.', a.id, '.%') \n",
    "                                    OR c.path LIKE CONCAT('%.', a.id) \n",
    "                                    OR c.path LIKE CONCAT(a.id, '.%') \n",
    "                                    OR c.path = a.id) \n",
    "                            WHERE\n",
    "                                is_standard = 1 \n",
    "                                AND is_selectable = 1) \n",
    "                            AND is_standard = 1 )) criteria ) \n",
    "                    AND cb_search_person.person_id NOT IN (SELECT\n",
    "                        person_id \n",
    "                    FROM\n",
    "                        `\"\"\" + os.environ[\"WORKSPACE_CDR\"] + \"\"\".person` p \n",
    "                    WHERE\n",
    "                        ethnicity_concept_id IN (903079, 0, 903096, 1586148) ) \n",
    "                    AND cb_search_person.person_id NOT IN (SELECT\n",
    "                        person_id \n",
    "                    FROM\n",
    "                        `\"\"\" + os.environ[\"WORKSPACE_CDR\"] + \"\"\".person` p \n",
    "                    WHERE\n",
    "                        sex_at_birth_concept_id IN (903096, 1177221, 0, 1585849, 46273637) ) \n",
    "                    AND cb_search_person.person_id NOT IN (SELECT\n",
    "                        person_id \n",
    "                    FROM\n",
    "                        `\"\"\" + os.environ[\"WORKSPACE_CDR\"] + \"\"\".person` p \n",
    "                    WHERE\n",
    "                        race_concept_id IN (2100000001, 903096, 45882607, 1177221) ) )\n",
    "            )) c_occurrence \n",
    "    LEFT JOIN\n",
    "        `\"\"\" + os.environ[\"WORKSPACE_CDR\"] + \"\"\".concept` c_standard_concept \n",
    "            ON c_occurrence.condition_concept_id = c_standard_concept.concept_id\"\"\"\n",
    "\n",
    "dataset_76108170_condition_df = pd.read_gbq(\n",
    "    dataset_76108170_condition_sql,\n",
    "    dialect=\"standard\",\n",
    "    use_bqstorage_api=(\"BIGQUERY_STORAGE_API_ENABLED\" in os.environ),\n",
    "    progress_bar_type=\"tqdm_notebook\")\n",
    "\n",
    "dataset_76108170_condition_df.head(5)"
   ]
  },
  {
   "cell_type": "code",
   "execution_count": null,
   "metadata": {},
   "outputs": [],
   "source": [
    "proteinuria_df = (\n",
    "    dataset_76108170_condition_df\n",
    "    .assign(proteinuria=dataset_76108170_condition_df['standard_concept_name'].notna().astype(int))\n",
    "    .groupby('person_id', as_index=False)['proteinuria']\n",
    "    .max()\n",
    ")\n"
   ]
  },
  {
   "cell_type": "code",
   "execution_count": null,
   "metadata": {},
   "outputs": [],
   "source": [
    "ckd_features_df_14 = (\n",
    "   ckd_features_df_13.merge(proteinuria_df, on=\"person_id\", how=\"left\")\n",
    ")"
   ]
  },
  {
   "cell_type": "code",
   "execution_count": null,
   "metadata": {},
   "outputs": [],
   "source": [
    "ckd_features_df_14['proteinuria'].isna().sum()\n"
   ]
  },
  {
   "cell_type": "code",
   "execution_count": null,
   "metadata": {},
   "outputs": [],
   "source": [
    "ckd_features_df_14['proteinuria'] = ckd_features_df_14['proteinuria'].fillna(0)\n"
   ]
  },
  {
   "cell_type": "code",
   "execution_count": null,
   "metadata": {},
   "outputs": [],
   "source": [
    "ckd_features_df_14['proteinuria'].value_counts()"
   ]
  },
  {
   "cell_type": "markdown",
   "metadata": {},
   "source": [
    "## Coronay Artery Disease"
   ]
  },
  {
   "cell_type": "code",
   "execution_count": null,
   "metadata": {},
   "outputs": [],
   "source": [
    "# This query represents dataset \"ML Features- CKD\" for domain \"condition\" and was generated for All of Us Controlled Tier Dataset v8\n",
    "dataset_69198462_condition_sql = \"\"\"\n",
    "    SELECT\n",
    "        c_occurrence.person_id,\n",
    "        c_standard_concept.concept_name as standard_concept_name \n",
    "    FROM\n",
    "        ( SELECT\n",
    "            * \n",
    "        FROM\n",
    "            `\"\"\" + os.environ[\"WORKSPACE_CDR\"] + \"\"\".condition_occurrence` c_occurrence \n",
    "        WHERE\n",
    "            (\n",
    "                condition_concept_id IN (SELECT\n",
    "                    DISTINCT c.concept_id \n",
    "                FROM\n",
    "                    `\"\"\" + os.environ[\"WORKSPACE_CDR\"] + \"\"\".cb_criteria` c \n",
    "                JOIN\n",
    "                    (SELECT\n",
    "                        CAST(cr.id as string) AS id       \n",
    "                    FROM\n",
    "                        `\"\"\" + os.environ[\"WORKSPACE_CDR\"] + \"\"\".cb_criteria` cr       \n",
    "                    WHERE\n",
    "                        concept_id IN (317576)       \n",
    "                        AND full_text LIKE '%_rank1]%'      ) a \n",
    "                        ON (c.path LIKE CONCAT('%.', a.id, '.%') \n",
    "                        OR c.path LIKE CONCAT('%.', a.id) \n",
    "                        OR c.path LIKE CONCAT(a.id, '.%') \n",
    "                        OR c.path = a.id) \n",
    "                WHERE\n",
    "                    is_standard = 1 \n",
    "                    AND is_selectable = 1)\n",
    "            )  \n",
    "            AND (\n",
    "                c_occurrence.PERSON_ID IN (SELECT\n",
    "                    distinct person_id  \n",
    "                FROM\n",
    "                    `\"\"\" + os.environ[\"WORKSPACE_CDR\"] + \"\"\".cb_search_person` cb_search_person  \n",
    "                WHERE\n",
    "                    cb_search_person.person_id IN (SELECT\n",
    "                        person_id \n",
    "                    FROM\n",
    "                        `\"\"\" + os.environ[\"WORKSPACE_CDR\"] + \"\"\".cb_search_person` p \n",
    "                    WHERE\n",
    "                        DATE_DIFF(CURRENT_DATE, dob, YEAR) - IF(EXTRACT(MONTH FROM dob)*100 + EXTRACT(DAY FROM dob) > EXTRACT(MONTH FROM CURRENT_DATE)*100 + EXTRACT(DAY FROM CURRENT_DATE), 1, 0) BETWEEN 18 AND 124 \n",
    "                        AND NOT EXISTS (      SELECT\n",
    "                            'x'      \n",
    "                        FROM\n",
    "                            `\"\"\" + os.environ[\"WORKSPACE_CDR\"] + \"\"\".death` d      \n",
    "                        WHERE\n",
    "                            d.person_id = p.person_id ) ) \n",
    "                    AND cb_search_person.person_id IN (SELECT\n",
    "                        person_id \n",
    "                    FROM\n",
    "                        `\"\"\" + os.environ[\"WORKSPACE_CDR\"] + \"\"\".cb_search_person` p \n",
    "                    WHERE\n",
    "                        has_ehr_data = 1 ) \n",
    "                    AND cb_search_person.person_id IN (SELECT\n",
    "                        person_id \n",
    "                    FROM\n",
    "                        `\"\"\" + os.environ[\"WORKSPACE_CDR\"] + \"\"\".cb_search_person` p \n",
    "                    WHERE\n",
    "                        has_whole_genome_variant = 1 ) \n",
    "                    AND cb_search_person.person_id IN (SELECT\n",
    "                        person_id \n",
    "                    FROM\n",
    "                        `\"\"\" + os.environ[\"WORKSPACE_CDR\"] + \"\"\".cb_search_person` p \n",
    "                    WHERE\n",
    "                        DATE_DIFF(CURRENT_DATE, dob, YEAR) - IF(EXTRACT(MONTH FROM dob)*100 + EXTRACT(DAY FROM dob) > EXTRACT(MONTH FROM CURRENT_DATE)*100 + EXTRACT(DAY FROM CURRENT_DATE), 1, 0) BETWEEN 18 AND 100 \n",
    "                        AND NOT EXISTS (      SELECT\n",
    "                            'x'      \n",
    "                        FROM\n",
    "                            `\"\"\" + os.environ[\"WORKSPACE_CDR\"] + \"\"\".death` d      \n",
    "                        WHERE\n",
    "                            d.person_id = p.person_id ) ) \n",
    "                    AND cb_search_person.person_id IN (SELECT\n",
    "                        criteria.person_id \n",
    "                    FROM\n",
    "                        (SELECT\n",
    "                            DISTINCT person_id, entry_date, concept_id \n",
    "                        FROM\n",
    "                            `\"\"\" + os.environ[\"WORKSPACE_CDR\"] + \"\"\".cb_search_all_events` \n",
    "                        WHERE\n",
    "                            (concept_id IN (3038553) \n",
    "                            AND is_standard = 1 )) criteria ) \n",
    "                    AND cb_search_person.person_id IN (SELECT\n",
    "                        criteria.person_id \n",
    "                    FROM\n",
    "                        (SELECT\n",
    "                            DISTINCT person_id, entry_date, concept_id \n",
    "                        FROM\n",
    "                            `\"\"\" + os.environ[\"WORKSPACE_CDR\"] + \"\"\".cb_search_all_events` \n",
    "                        WHERE\n",
    "                            (concept_id IN(SELECT\n",
    "                                DISTINCT c.concept_id \n",
    "                            FROM\n",
    "                                `\"\"\" + os.environ[\"WORKSPACE_CDR\"] + \"\"\".cb_criteria` c \n",
    "                            JOIN\n",
    "                                (SELECT\n",
    "                                    CAST(cr.id as string) AS id       \n",
    "                                FROM\n",
    "                                    `\"\"\" + os.environ[\"WORKSPACE_CDR\"] + \"\"\".cb_criteria` cr       \n",
    "                                WHERE\n",
    "                                    concept_id IN (1585952, 1585940, 1585723, 1585375, 1585723, 1585729, 1585386, 1585952, 1585375, 1585952, 1585375, 1585375, 1585892, 1585892, 1585375, 1585940, 1585952, 1585855, 1585729, 1585375, 1740639, 1585940, 1585952, 1585375, 1585375, 1585729, 43528895, 1585723, 1585723, 1585892, 1585940, 1585892, 1585386, 1585386, 40192389, 1585729, 1585892, 1585375, 1585723, 1585952, 1585940, 1586134, 1585940, 1585386, 1585710, 1585729, 1585892, 1585892, 1585940, 1585952, 1585940, 1585940, 1585729, 1585892, 1585952, 1585940, 1585892, 1585723, 1585723, 1585729, 1585729, 1585386, 1585952, 1585375, 1585952, 1585940, 1585952, 1585386, 1585375, 1585375)       \n",
    "                                    AND full_text LIKE '%_rank1]%'      ) a \n",
    "                                    ON (c.path LIKE CONCAT('%.', a.id, '.%') \n",
    "                                    OR c.path LIKE CONCAT('%.', a.id) \n",
    "                                    OR c.path LIKE CONCAT(a.id, '.%') \n",
    "                                    OR c.path = a.id) \n",
    "                            WHERE\n",
    "                                is_standard = 0 \n",
    "                                AND is_selectable = 1) \n",
    "                            AND is_standard = 0 )) criteria ) \n",
    "                    AND cb_search_person.person_id IN (SELECT\n",
    "                        criteria.person_id \n",
    "                    FROM\n",
    "                        (SELECT\n",
    "                            DISTINCT person_id, entry_date, concept_id \n",
    "                        FROM\n",
    "                            `\"\"\" + os.environ[\"WORKSPACE_CDR\"] + \"\"\".cb_search_all_events` \n",
    "                        WHERE\n",
    "                            (concept_id IN (3027018) \n",
    "                            AND is_standard = 1 )) criteria ) \n",
    "                    AND cb_search_person.person_id IN (SELECT\n",
    "                        criteria.person_id \n",
    "                    FROM\n",
    "                        (SELECT\n",
    "                            DISTINCT person_id, entry_date, concept_id \n",
    "                        FROM\n",
    "                            `\"\"\" + os.environ[\"WORKSPACE_CDR\"] + \"\"\".cb_search_all_events` \n",
    "                        WHERE\n",
    "                            (concept_id IN (903118, 903115) \n",
    "                            AND is_standard = 0 )) criteria ) \n",
    "                    AND cb_search_person.person_id IN (SELECT\n",
    "                        criteria.person_id \n",
    "                    FROM\n",
    "                        (SELECT\n",
    "                            DISTINCT person_id, entry_date, concept_id \n",
    "                        FROM\n",
    "                            `\"\"\" + os.environ[\"WORKSPACE_CDR\"] + \"\"\".cb_search_all_events` \n",
    "                        WHERE\n",
    "                            (concept_id IN (3013682) \n",
    "                            AND is_standard = 1 )) criteria ) \n",
    "                    AND cb_search_person.person_id IN (SELECT\n",
    "                        criteria.person_id \n",
    "                    FROM\n",
    "                        (SELECT\n",
    "                            DISTINCT person_id, entry_date, concept_id \n",
    "                        FROM\n",
    "                            `\"\"\" + os.environ[\"WORKSPACE_CDR\"] + \"\"\".cb_search_all_events` \n",
    "                        WHERE\n",
    "                            (concept_id IN (3004501) \n",
    "                            AND is_standard = 1 )) criteria ) \n",
    "                    AND cb_search_person.person_id IN (SELECT\n",
    "                        criteria.person_id \n",
    "                    FROM\n",
    "                        (SELECT\n",
    "                            DISTINCT person_id, entry_date, concept_id \n",
    "                        FROM\n",
    "                            `\"\"\" + os.environ[\"WORKSPACE_CDR\"] + \"\"\".cb_search_all_events` \n",
    "                        WHERE\n",
    "                            (concept_id IN (3019550) \n",
    "                            AND is_standard = 1 )) criteria ) \n",
    "                    AND cb_search_person.person_id IN (SELECT\n",
    "                        criteria.person_id \n",
    "                    FROM\n",
    "                        (SELECT\n",
    "                            DISTINCT person_id, entry_date, concept_id \n",
    "                        FROM\n",
    "                            `\"\"\" + os.environ[\"WORKSPACE_CDR\"] + \"\"\".cb_search_all_events` \n",
    "                        WHERE\n",
    "                            (concept_id IN (3023103) \n",
    "                            AND is_standard = 1 )) criteria ) \n",
    "                    AND cb_search_person.person_id NOT IN (SELECT\n",
    "                        criteria.person_id \n",
    "                    FROM\n",
    "                        (SELECT\n",
    "                            DISTINCT person_id, entry_date, concept_id \n",
    "                        FROM\n",
    "                            `\"\"\" + os.environ[\"WORKSPACE_CDR\"] + \"\"\".cb_search_all_events` \n",
    "                        WHERE\n",
    "                            (concept_id IN(SELECT\n",
    "                                DISTINCT c.concept_id \n",
    "                            FROM\n",
    "                                `\"\"\" + os.environ[\"WORKSPACE_CDR\"] + \"\"\".cb_criteria` c \n",
    "                            JOIN\n",
    "                                (SELECT\n",
    "                                    CAST(cr.id as string) AS id       \n",
    "                                FROM\n",
    "                                    `\"\"\" + os.environ[\"WORKSPACE_CDR\"] + \"\"\".cb_criteria` cr       \n",
    "                                WHERE\n",
    "                                    concept_id IN (443392)       \n",
    "                                    AND full_text LIKE '%_rank1]%'      ) a \n",
    "                                    ON (c.path LIKE CONCAT('%.', a.id, '.%') \n",
    "                                    OR c.path LIKE CONCAT('%.', a.id) \n",
    "                                    OR c.path LIKE CONCAT(a.id, '.%') \n",
    "                                    OR c.path = a.id) \n",
    "                            WHERE\n",
    "                                is_standard = 1 \n",
    "                                AND is_selectable = 1) \n",
    "                            AND is_standard = 1 )) criteria ) \n",
    "                    AND cb_search_person.person_id NOT IN (SELECT\n",
    "                        person_id \n",
    "                    FROM\n",
    "                        `\"\"\" + os.environ[\"WORKSPACE_CDR\"] + \"\"\".person` p \n",
    "                    WHERE\n",
    "                        ethnicity_concept_id IN (903079, 0, 903096, 1586148) ) \n",
    "                    AND cb_search_person.person_id NOT IN (SELECT\n",
    "                        person_id \n",
    "                    FROM\n",
    "                        `\"\"\" + os.environ[\"WORKSPACE_CDR\"] + \"\"\".person` p \n",
    "                    WHERE\n",
    "                        sex_at_birth_concept_id IN (903096, 1177221, 0, 1585849, 46273637) ) \n",
    "                    AND cb_search_person.person_id NOT IN (SELECT\n",
    "                        person_id \n",
    "                    FROM\n",
    "                        `\"\"\" + os.environ[\"WORKSPACE_CDR\"] + \"\"\".person` p \n",
    "                    WHERE\n",
    "                        race_concept_id IN (2100000001, 903096, 45882607, 1177221) ) )\n",
    "            )) c_occurrence \n",
    "    LEFT JOIN\n",
    "        `\"\"\" + os.environ[\"WORKSPACE_CDR\"] + \"\"\".concept` c_standard_concept \n",
    "            ON c_occurrence.condition_concept_id = c_standard_concept.concept_id\"\"\"\n",
    "\n",
    "dataset_69198462_condition_df = pd.read_gbq(\n",
    "    dataset_69198462_condition_sql,\n",
    "    dialect=\"standard\",\n",
    "    use_bqstorage_api=(\"BIGQUERY_STORAGE_API_ENABLED\" in os.environ),\n",
    "    progress_bar_type=\"tqdm_notebook\")\n",
    "\n",
    "dataset_69198462_condition_df.head(5)"
   ]
  },
  {
   "cell_type": "code",
   "execution_count": null,
   "metadata": {},
   "outputs": [],
   "source": [
    "cad_df = (\n",
    "    dataset_69198462_condition_df\n",
    "    .assign(cad=dataset_69198462_condition_df['standard_concept_name'].notna().astype(int))\n",
    "    .groupby('person_id', as_index=False)['cad']\n",
    "    .max()\n",
    ")"
   ]
  },
  {
   "cell_type": "code",
   "execution_count": null,
   "metadata": {},
   "outputs": [],
   "source": [
    "ckd_features_df_15 = (\n",
    "   ckd_features_df_14.merge(cad_df, on=\"person_id\", how=\"left\")\n",
    ")\n"
   ]
  },
  {
   "cell_type": "code",
   "execution_count": null,
   "metadata": {},
   "outputs": [],
   "source": [
    "ckd_features_df_15['cad'].isna().sum()"
   ]
  },
  {
   "cell_type": "code",
   "execution_count": null,
   "metadata": {},
   "outputs": [],
   "source": [
    "ckd_features_df_15['cad']= ckd_features_df_15['cad'].fillna(0)"
   ]
  },
  {
   "cell_type": "code",
   "execution_count": null,
   "metadata": {},
   "outputs": [],
   "source": [
    "ckd_features_df_15['cad'].value_counts()"
   ]
  },
  {
   "cell_type": "markdown",
   "metadata": {},
   "source": [
    "# Formatting file for GWAS "
   ]
  },
  {
   "cell_type": "code",
   "execution_count": null,
   "metadata": {},
   "outputs": [],
   "source": [
    "patient_df = ckd_features_df_12[['person_id']]"
   ]
  },
  {
   "cell_type": "code",
   "execution_count": null,
   "metadata": {
    "scrolled": true
   },
   "outputs": [],
   "source": [
    "patient_df.head(10)"
   ]
  },
  {
   "cell_type": "code",
   "execution_count": null,
   "metadata": {},
   "outputs": [],
   "source": [
    "bucket = os.getenv(\"WORKSPACE_BUCKET\")\n",
    "bucket"
   ]
  },
  {
   "cell_type": "markdown",
   "metadata": {},
   "source": [
    "Save the patient ids to a tsv file so we can analyze it in the PRS notebook. After that is complete, we will reload the dataframe with the PRS scores and merge it with the rest of the features."
   ]
  },
  {
   "cell_type": "code",
   "execution_count": null,
   "metadata": {},
   "outputs": [],
   "source": [
    "patient_df.to_csv('genomics_ckd_phenotypes.tsv', index=False, sep='\\t')\n",
    "\n",
    "# save phenotypes to the bucket\n",
    "!gsutil cp 'genomics_ckd_phenotypes.tsv' {bucket}/data/"
   ]
  },
  {
   "cell_type": "markdown",
   "metadata": {},
   "source": [
    "## Loading PRS score csv back into the environment"
   ]
  },
  {
   "cell_type": "code",
   "execution_count": null,
   "metadata": {},
   "outputs": [],
   "source": [
    "prs_file_path = 'PRS_scores.csv'\n",
    "\n",
    "my_bucket = os.getenv('WORKSPACE_BUCKET')\n",
    "\n",
    "# copy csv file from the bucket to the current working space\n",
    "os.system(f\"gsutil cp '{my_bucket}/data/{prs_file_path}' .\")\n",
    "\n",
    "print(f'[INFO] {prs_file_path} is successfully downloaded into your working space')\n",
    "# save dataframe in a csv file in the same workspace as the notebook\n",
    "prs_df = pd.read_csv(prs_file_path)\n",
    "prs_df.head()"
   ]
  },
  {
   "cell_type": "code",
   "execution_count": null,
   "metadata": {},
   "outputs": [],
   "source": [
    "prs_df.rename(columns={'s': 'person_id'}, inplace=True)"
   ]
  },
  {
   "cell_type": "code",
   "execution_count": null,
   "metadata": {},
   "outputs": [],
   "source": [
    "ckd_features_df_16 = (\n",
    "   ckd_features_df_15.merge(prs_df, on=\"person_id\", how=\"left\")\n",
    ")"
   ]
  },
  {
   "cell_type": "code",
   "execution_count": null,
   "metadata": {},
   "outputs": [],
   "source": [
    "ckd_features_df_16.columns"
   ]
  },
  {
   "cell_type": "markdown",
   "metadata": {},
   "source": [
    "## Correlation Plot"
   ]
  },
  {
   "cell_type": "markdown",
   "metadata": {},
   "source": [
    "This correlation plot will inform of us of any multicollinearity "
   ]
  },
  {
   "cell_type": "code",
   "execution_count": null,
   "metadata": {},
   "outputs": [],
   "source": [
    "import matplotlib.pyplot as plt\n",
    "\n",
    "corr_plot_vars = ['outcome', 'Age', 'BMI', 'dbp', 'sbp', 'Albumin', 'Creatinine', 'Glucose', 'Potassium', 'Sodium', 'Urea', 'Erythrocytes','Hemoglobin', 'Leukocytes', 'ALP', 'Calcium', 'Chloride', 'PRS']\n",
    "\n",
    "corr_plot = ckd_features_df_16[corr_plot_vars]\n",
    "\n",
    "plt.figure(figsize=(14,12))\n",
    "sns.heatmap(corr_plot.corr(), annot=True, fmt=\".2f\", linewidths=0.5, cmap=\"coolwarm\")\n",
    "plt.title(\"Correlation Heatmap\", fontsize=18)\n",
    "plt.show()\n",
    "plot_filename = 'correlation_heatmap.png'\n",
    "plt.savefig(plot_filename, bbox_inches='tight')"
   ]
  },
  {
   "cell_type": "markdown",
   "metadata": {},
   "source": [
    "## Categorical Visualization"
   ]
  },
  {
   "cell_type": "code",
   "execution_count": null,
   "metadata": {},
   "outputs": [],
   "source": [
    "def plot_categorical_variables(df, categorical_vars, n_cols=3, row_height=10, figsize=(15, 20)):\n",
    "    \n",
    "    n_rows = (len(categorical_vars) + n_cols - 1) // n_cols\n",
    "    fig, axes = plt.subplots(n_rows, n_cols, figsize=figsize)\n",
    "    axes = axes.flatten()\n",
    "    for i, var in enumerate(categorical_vars):\n",
    "        sns.countplot(data=df, x=var, ax=axes[i], palette='pastel')\n",
    "        axes[i].set_title(f'Distribution of {var}', fontsize=14)\n",
    "        axes[i].tick_params(axis='x', rotation=45)\n",
    "    for j in range(i+1, len(axes)):\n",
    "        axes[j].axis('off')\n",
    "    plt.tight_layout()\n",
    "    plt.show()"
   ]
  },
  {
   "cell_type": "code",
   "execution_count": null,
   "metadata": {},
   "outputs": [],
   "source": [
    "categorical_vars = ['race', 'ethnicity', 'sex', 'smoking_status','alcohol_score', 'mental_health', 'physical_health', 'afford_provider', 'diabetes', 'hypertension', 'anemia', 'proteinuria', 'cad']\n",
    "\n",
    "plot_categorical_variables(ckd_features_df_16, categorical_vars)"
   ]
  },
  {
   "cell_type": "markdown",
   "metadata": {},
   "source": [
    "## Check for normality and transform nonnormal variables"
   ]
  },
  {
   "cell_type": "markdown",
   "metadata": {},
   "source": [
    "I will transform any continuous variables with a skew > 0.5.\n",
    "I am using the box cox transformation method"
   ]
  },
  {
   "cell_type": "code",
   "execution_count": null,
   "metadata": {},
   "outputs": [],
   "source": [
    "from scipy.stats import skew, boxcox\n",
    "\n",
    "def normalize_skewed_variables(df, continuous_vars, skew_thresh=0.5):\n",
    "    transformations = {}\n",
    "\n",
    "    for col in continuous_vars:\n",
    "        data = df[col]\n",
    "        skewness = skew(data)\n",
    "\n",
    "        if abs(skewness) > skew_thresh:\n",
    "            try:\n",
    "                # Apply Box-Cox transformation and replace the original column\n",
    "                transformed_data, _ = boxcox(data)\n",
    "                df[col] = transformed_data  # Directly replace the original column\n",
    "                transformations[col] = 'Box-Cox transformation applied'\n",
    "            except:\n",
    "                transformations[col] = f'Box-Cox failed for {col} - no transformation'\n",
    "        else:\n",
    "            transformations[col] = f'{col} - no significant skewness, no transformation'\n",
    "\n",
    "    return df, transformations"
   ]
  },
  {
   "cell_type": "code",
   "execution_count": null,
   "metadata": {},
   "outputs": [],
   "source": [
    "continuous_vars = ['Age', 'BMI', 'dbp', 'sbp', 'Albumin', 'Creatinine', \n",
    "                   'Glucose', 'Potassium', 'Sodium', 'Urea', 'Erythrocytes', \n",
    "                   'Hemoglobin', 'Leukocytes', 'ALP', 'Calcium', 'Chloride','PRS']\n",
    "\n",
    "\n",
    "# Apply normalization\n",
    "ckd_features_df_16, transformations = normalize_skewed_variables(ckd_features_df_16, continuous_vars)\n",
    "\n",
    "print(transformations)"
   ]
  },
  {
   "cell_type": "code",
   "execution_count": null,
   "metadata": {},
   "outputs": [],
   "source": [
    "def plot_histograms(df, continuous_vars, bins=20):\n",
    "    plt.figure(figsize=(15, 12))  \n",
    "    for i, col in enumerate(continuous_vars, 1):\n",
    "        plt.subplot(4, 5, i)  \n",
    "        sns.histplot(df[col], bins=bins, kde=True)  \n",
    "        plt.title(f'{col} Histogram')  # Title for each subplot\n",
    "        plt.tight_layout() \n",
    "\n",
    "    plt.show()\n",
    "    \n",
    "plot_histograms(ckd_features_df_16, continuous_vars)\n"
   ]
  },
  {
   "cell_type": "markdown",
   "metadata": {},
   "source": [
    "## Apply standard scalar "
   ]
  },
  {
   "cell_type": "code",
   "execution_count": null,
   "metadata": {},
   "outputs": [],
   "source": [
    "from sklearn.preprocessing import StandardScaler\n",
    "\n",
    "scaler = StandardScaler()\n",
    "ckd_features_df_16[continuous_vars] = scaler.fit_transform(ckd_features_df_16[continuous_vars])"
   ]
  },
  {
   "cell_type": "code",
   "execution_count": null,
   "metadata": {},
   "outputs": [],
   "source": [
    "plot_histograms(ckd_features_df_16, continuous_vars)\n"
   ]
  },
  {
   "cell_type": "markdown",
   "metadata": {},
   "source": [
    "## One hot encoding categorical variables"
   ]
  },
  {
   "cell_type": "code",
   "execution_count": null,
   "metadata": {},
   "outputs": [],
   "source": [
    "def one_hot_encode(df, categorical_vars, drop_first=True):\n",
    "    df_encoded = pd.get_dummies(df, columns=categorical_vars, drop_first=drop_first)\n",
    "    return df_encoded"
   ]
  },
  {
   "cell_type": "code",
   "execution_count": null,
   "metadata": {},
   "outputs": [],
   "source": [
    "categorical_vars = ['race']"
   ]
  },
  {
   "cell_type": "code",
   "execution_count": null,
   "metadata": {},
   "outputs": [],
   "source": [
    "ckd_features_df_17 = one_hot_encode(ckd_features_df_16, categorical_vars)"
   ]
  },
  {
   "cell_type": "code",
   "execution_count": null,
   "metadata": {},
   "outputs": [],
   "source": [
    "ckd_features_df_17.head()"
   ]
  },
  {
   "cell_type": "markdown",
   "metadata": {},
   "source": [
    "## Apply final cleaning\n",
    "\n",
    "- No longer need the Age Group bins as those were used to impute missing data\n",
    "- Encode ethnicity to 0 and 1\n",
    "- Drop any other unnecessary columns"
   ]
  },
  {
   "cell_type": "code",
   "execution_count": null,
   "metadata": {},
   "outputs": [],
   "source": [
    "ethnicity_mapping = {\n",
    "    'Not Hispanic or Latino': 0,\n",
    "    'Hispanic or Latino': 1\n",
    "}\n",
    "\n",
    "ckd_features_df_17['ethnicity'] = ckd_features_df_17['ethnicity'].map(ethnicity_mapping)"
   ]
  },
  {
   "cell_type": "code",
   "execution_count": null,
   "metadata": {},
   "outputs": [],
   "source": [
    "ckd_features_df_17['ethnicity'].value_counts()"
   ]
  },
  {
   "cell_type": "code",
   "execution_count": null,
   "metadata": {},
   "outputs": [],
   "source": [
    "ckd_features_df_17 = ckd_features_df_17.drop(columns = ['condition_type_concept_id', 'Age_Group'])"
   ]
  },
  {
   "cell_type": "code",
   "execution_count": null,
   "metadata": {},
   "outputs": [],
   "source": [
    "ckd_features_df_17 = ckd_features_df_17.drop(columns = ['low_gfr'])"
   ]
  },
  {
   "cell_type": "markdown",
   "metadata": {},
   "source": [
    "## Save final ML features df to the workspace \n",
    "\n",
    "That way we can create the model in a separate notebook"
   ]
  },
  {
   "cell_type": "code",
   "execution_count": null,
   "metadata": {},
   "outputs": [],
   "source": [
    "ckd_features_df_17.to_csv('features.csv', index=False)\n",
    "\n",
    "# save PRS scores to the bucket\n",
    "!gsutil cp 'features.csv' {bucket}/data/"
   ]
  },
  {
   "cell_type": "code",
   "execution_count": null,
   "metadata": {},
   "outputs": [],
   "source": []
  }
 ],
 "metadata": {
  "kernelspec": {
   "display_name": "Python 3",
   "language": "python",
   "name": "python3"
  },
  "language_info": {
   "codemirror_mode": {
    "name": "ipython",
    "version": 3
   },
   "file_extension": ".py",
   "mimetype": "text/x-python",
   "name": "python",
   "nbconvert_exporter": "python",
   "pygments_lexer": "ipython3",
   "version": "3.10.12"
  },
  "toc": {
   "base_numbering": 1,
   "nav_menu": {},
   "number_sections": true,
   "sideBar": true,
   "skip_h1_title": false,
   "title_cell": "Table of Contents",
   "title_sidebar": "Contents",
   "toc_cell": false,
   "toc_position": {},
   "toc_section_display": true,
   "toc_window_display": false
  }
 },
 "nbformat": 4,
 "nbformat_minor": 2
}
